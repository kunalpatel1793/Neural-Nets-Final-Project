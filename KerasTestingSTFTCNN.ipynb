{
 "cells": [
  {
   "cell_type": "code",
   "execution_count": 42,
   "metadata": {
    "scrolled": true
   },
   "outputs": [],
   "source": [
    "import numpy as np\n",
    "import h5py\n",
    "import tensorflow as tf\n",
    "import matplotlib.pyplot as plt\n",
    "\n",
    "import keras\n",
    "from keras.models import Sequential\n",
    "from keras.layers import Dense \n",
    "from keras.layers import LSTM\n",
    "from keras.layers import Flatten\n",
    "from keras.utils import to_categorical\n",
    "from keras.layers import Activation\n",
    "from keras.layers import Dropout\n",
    "from keras.layers import Convolution2D\n",
    "from keras.layers import BatchNormalization\n",
    "from keras.layers import MaxPooling2D\n",
    "\n",
    "import kapre \n",
    "from kapre.time_frequency import Spectrogram\n",
    "\n",
    "from mpl_toolkits.mplot3d import Axes3D\n",
    "%matplotlib inline\n",
    "import matplotlib.pyplot as plt\n",
    "plt.style.use('ggplot')\n",
    "from datetime import datetime\n",
    "now = datetime.now()\n",
    "import librosa\n",
    "from librosa import display"
   ]
  },
  {
   "cell_type": "code",
   "execution_count": 43,
   "metadata": {},
   "outputs": [
    {
     "name": "stdout",
     "output_type": "stream",
     "text": [
      "(288, 25, 1000)\n",
      "(288,)\n"
     ]
    }
   ],
   "source": [
    "#import the data\n",
    "A01T = h5py.File('/home/carla/Downloads/project_datasets/project_datasets/A01T_slice.mat','r')\n",
    "data = np.copy(A01T['image'])\n",
    "labels = np.copy(A01T['type'])\n",
    "labels = labels[0,0:data.shape[0]:1]\n",
    "labels = np.asarray(labels, dtype=np.int32)\n",
    "\n",
    "#check the data dimensionality\n",
    "print data.shape\n",
    "print labels.shape\n",
    "\n",
    "#for STFT we DO NOT swap the axes \n",
    "#data = np.swapaxes(data, 1,2)\n",
    "data = data[:,:22,:]"
   ]
  },
  {
   "cell_type": "code",
   "execution_count": 35,
   "metadata": {},
   "outputs": [
    {
     "name": "stdout",
     "output_type": "stream",
     "text": [
      "(288, 22, 24)\n",
      "(288, 22, 1000)\n",
      "(288, 22, 1024)\n"
     ]
    }
   ],
   "source": [
    "#Experimental, try adding 24 zeros the the end of the matrix such that the shape is the same as in the paper\n",
    "buf = np.zeros([288,22,24])\n",
    "print buf.shape \n",
    "print data.shape\n",
    "databuf = np.concatenate([data,buf],axis=2)\n",
    "print databuf.shape"
   ]
  },
  {
   "cell_type": "code",
   "execution_count": 44,
   "metadata": {},
   "outputs": [
    {
     "name": "stdout",
     "output_type": "stream",
     "text": [
      "nan\n",
      "nan\n",
      "[]\n"
     ]
    }
   ],
   "source": [
    "# Check min and max values\n",
    "print np.min(data)\n",
    "print np.max(data)\n",
    "data[np.isnan(data)] = 92.5\n",
    "print np.argwhere(np.isnan(data))"
   ]
  },
  {
   "cell_type": "code",
   "execution_count": 45,
   "metadata": {},
   "outputs": [
    {
     "name": "stdout",
     "output_type": "stream",
     "text": [
      "[3 2 1 0 0 1 2 3 1 2 0 0 0 3 1 1 0 0 2 0 1 3 3 2 0 3 3 1 3 3 1 0 1 2 2 2 3\n",
      " 2 0 3 1 2 1 2 3 1 2 0 0 0 3 1 0 2 0 2 1 3 0 2 2 0 2 1 3 3 3 2 0 3 1 3 1 0\n",
      " 2 1 0 2 2 0 2 3 3 1 0 1 3 1 3 2 1 1 1 2 3 0 1 3 0 2 2 3 0 0 2 1 3 3 3 1 0\n",
      " 2 1 3 0 3 2 1 3 3 0 1 1 2 3 1 0 0 3 1 0 2 1 1 2 0 3 2 2 2 2 0 1 0 1 0 0 2\n",
      " 2 1 2 3 0 3 0 0 1 3 2 1 3 2 3 2 3 1 1 3 0 1 1 1 2 3 0 3 0 2 0 3 0 2 0 1 2\n",
      " 2 3 0 1 3 1 2 2 0 3 1 3 0 0 2 2 1 3 1 1 0 1 3 3 1 1 1 1 3 3 2 3 0 1 2 1 0\n",
      " 3 0 3 0 0 0 0 2 2 3 1 2 2 2 3 2 0 2 0 3 1 3 3 2 3 3 2 1 3 2 0 1 1 1 2 1 3\n",
      " 2 3 1 2 0 3 0 2 3 0 2 0 1 1 0 3 0 3 2 2 0 2 1 1 0 2 0 1 0]\n",
      "[[ 0.  0.  0.  1.]\n",
      " [ 0.  0.  1.  0.]\n",
      " [ 0.  1.  0.  0.]\n",
      " ..., \n",
      " [ 1.  0.  0.  0.]\n",
      " [ 0.  1.  0.  0.]\n",
      " [ 1.  0.  0.  0.]]\n"
     ]
    }
   ],
   "source": [
    "#one-hot-encode the data for use with categorical_crossentropy\n",
    "labels_cata = labels - 769\n",
    "print labels_cata\n",
    "labels_cata = to_categorical(labels_cata, num_classes=4)\n",
    "print labels_cata"
   ]
  },
  {
   "cell_type": "code",
   "execution_count": 46,
   "metadata": {},
   "outputs": [
    {
     "name": "stdout",
     "output_type": "stream",
     "text": [
      "(6936,)\n"
     ]
    }
   ],
   "source": [
    "#STFT CNN\n",
    "\n",
    "SR = 250\n",
    "src_cute, _ = librosa.load(r'/home/carla/Downloads/SampleAudio_0.4mb.mp3', sr=SR, mono=True)\n",
    "print src_cute.shape\n",
    "\n",
    "def print_info():\n",
    "    print('%s/%s/%s' % (now.year, now.month, now.day))\n",
    "    print('librosa version: {}'.format(librosa.__version__))\n",
    "    print('Keras version: {}'.format(keras.__version__))\n",
    "    if keras.backend._BACKEND == 'tensorflow':\n",
    "        import tensorflow\n",
    "        print('Keras backend: {}: {}'.format(keras.backend._backend, tensorflow.__version__))\n",
    "    elif keras.backend._BACKEND == 'theano':\n",
    "        import theano\n",
    "        print('Keras backend: {}: {}'.format(keras.backend._backend, theano.__version__))\n",
    "    print('Keras image data format: {}'.format(keras.backend.image_data_format()))\n",
    "    print('Kapre version: {}'.format(kapre.__version__))\n",
    "    print('\\nSampling rate: {} Hz'.format(SR))\n",
    "\n",
    "def check_model(model):\n",
    "    model.summary(line_length=80, positions=[.33, .65, .8, 1.])\n",
    "    \n",
    "    batch_input_shape = (2,) + model.input_shape[1:]\n",
    "    batch_output_shape = (2,) + model.output_shape[1:]\n",
    "    model.compile('sgd', 'mse')\n",
    "    np.random.seed(42)\n",
    "    model.fit(np.random.uniform(size=batch_input_shape), np.random.uniform(size=batch_output_shape), epochs=1)\n",
    "\n",
    "def visualise_model(model, data, logam=False):\n",
    "    n_ch, nsp_src = model.input_shape[1:]\n",
    "    print \"Channels\"\n",
    "    print model.input_shape[1:]\n",
    "    src = data \n",
    "    src = src[:nsp_src]\n",
    "    src_batch = src[np.newaxis, :]\n",
    "    print src_batch.shape\n",
    "    pred = model.predict(x=src_batch)\n",
    "    if keras.backend.image_data_format == 'channels_first':\n",
    "        result = pred[0, 0]\n",
    "    else:\n",
    "        result = pred[0, :, :, 0]\n",
    "    \n",
    "    if logam:\n",
    "        result = librosa.amplitude_to_db(result)\n",
    "    display.specshow(result, \n",
    "                     y_axis='linear', sr=SR)"
   ]
  },
  {
   "cell_type": "code",
   "execution_count": 47,
   "metadata": {},
   "outputs": [
    {
     "name": "stdout",
     "output_type": "stream",
     "text": [
      "2018/3/8\n",
      "librosa version: 0.6.0\n",
      "Keras version: 2.1.4\n",
      "Keras backend: tensorflow: 1.5.0\n",
      "Keras image data format: channels_last\n",
      "Kapre version: 0.1.3\n",
      "\n",
      "Sampling rate: 250 Hz\n"
     ]
    }
   ],
   "source": [
    "print_info()"
   ]
  },
  {
   "cell_type": "code",
   "execution_count": 48,
   "metadata": {
    "scrolled": false
   },
   "outputs": [
    {
     "name": "stdout",
     "output_type": "stream",
     "text": [
      "(22, 1000)\n",
      "srcshape\n",
      "(1, 1024)\n",
      "________________________________________________________________________________\n",
      "Layer (type)              Output Shape              Param #     \n",
      "================================================================================\n",
      "trainable_stft (Spectrogr (None, 513, 64, 1)        1050624     \n",
      "================================================================================\n",
      "Total params: 1,050,624\n",
      "Trainable params: 1,050,624\n",
      "Non-trainable params: 0\n",
      "________________________________________________________________________________\n",
      "Epoch 1/1\n",
      "2/2 [==============================] - 4s 2s/step - loss: 1351.0537\n",
      "Channels\n",
      "(1, 1024)\n",
      "(1, 1, 1024)\n",
      "771\n"
     ]
    },
    {
     "data": {
      "image/png": "[encoded data removed]",
      "text/plain": [
       "<matplotlib.figure.Figure at 0x7f2df7fe4750>"
      ]
     },
     "metadata": {},
     "output_type": "display_data"
    }
   ],
   "source": [
    "#Show the output of the model after STFT\n",
    "src = data[0]\n",
    "print src.shape\n",
    "src = np.random.random((1, SR * 3))\n",
    "src = databuf[0,0,:]\n",
    "src = src[np.newaxis, :] \n",
    "print \"srcshape\"\n",
    "print src.shape\n",
    "model = Sequential()\n",
    "model.add(Spectrogram(n_dft=1024, n_hop=16, input_shape=src.shape, \n",
    "          return_decibel_spectrogram=True, power_spectrogram=2.0, \n",
    "          trainable_kernel=True, name='trainable_stft'))\n",
    "\n",
    "check_model(model)\n",
    "visualise_model(model, src)\n",
    "print labels[1]"
   ]
  },
  {
   "cell_type": "code",
   "execution_count": 59,
   "metadata": {
    "scrolled": false
   },
   "outputs": [
    {
     "name": "stdout",
     "output_type": "stream",
     "text": [
      "Data Shape: (288, 22, 1000)\n",
      "________________________________________________________________________________\n",
      "Layer (type)              Output Shape              Param #     \n",
      "================================================================================\n",
      "trainable_stft (Spectrogr (None, 129, 125, 22)      66048       \n",
      "________________________________________________________________________________\n",
      "conv2d_81 (Conv2D)        (None, 118, 114, 24)      76056       \n",
      "________________________________________________________________________________\n",
      "batch_normalization_81 (B (None, 118, 114, 24)      96          \n",
      "________________________________________________________________________________\n",
      "max_pooling2d_81 (MaxPool (None, 59, 57, 24)        0           \n",
      "________________________________________________________________________________\n",
      "activation_81 (Activation (None, 59, 57, 24)        0           \n",
      "________________________________________________________________________________\n",
      "dropout_81 (Dropout)      (None, 59, 57, 24)        0           \n",
      "________________________________________________________________________________\n",
      "conv2d_82 (Conv2D)        (None, 52, 50, 48)        73776       \n",
      "________________________________________________________________________________\n",
      "batch_normalization_82 (B (None, 52, 50, 48)        192         \n",
      "________________________________________________________________________________\n",
      "max_pooling2d_82 (MaxPool (None, 26, 25, 48)        0           \n",
      "________________________________________________________________________________\n",
      "activation_82 (Activation (None, 26, 25, 48)        0           \n",
      "________________________________________________________________________________\n",
      "dropout_82 (Dropout)      (None, 26, 25, 48)        0           \n",
      "________________________________________________________________________________\n",
      "conv2d_83 (Conv2D)        (None, 23, 22, 96)        73824       \n",
      "________________________________________________________________________________\n",
      "batch_normalization_83 (B (None, 23, 22, 96)        384         \n",
      "________________________________________________________________________________\n",
      "max_pooling2d_83 (MaxPool (None, 11, 11, 96)        0           \n",
      "________________________________________________________________________________\n",
      "activation_83 (Activation (None, 11, 11, 96)        0           \n",
      "________________________________________________________________________________\n",
      "dropout_83 (Dropout)      (None, 11, 11, 96)        0           \n",
      "________________________________________________________________________________\n",
      "flatten_25 (Flatten)      (None, 11616)             0           \n",
      "________________________________________________________________________________\n",
      "dense_24 (Dense)          (None, 4)                 46468       \n",
      "================================================================================\n",
      "Total params: 336,844\n",
      "Trainable params: 336,508\n",
      "Non-trainable params: 336\n",
      "________________________________________________________________________________\n",
      "Train on 259 samples, validate on 29 samples\n",
      "Epoch 1/30\n",
      "259/259 [==============================] - 8s 30ms/step - loss: 5.2401 - acc: 0.2548 - val_loss: 1.9132 - val_acc: 0.2069\n",
      "Epoch 2/30\n",
      "259/259 [==============================] - 1s 4ms/step - loss: 3.7743 - acc: 0.2471 - val_loss: 4.3991 - val_acc: 0.3103\n",
      "Epoch 3/30\n",
      "259/259 [==============================] - 1s 4ms/step - loss: 3.2701 - acc: 0.2239 - val_loss: 4.1304 - val_acc: 0.2069\n",
      "Epoch 4/30\n",
      "259/259 [==============================] - 1s 4ms/step - loss: 2.5405 - acc: 0.2432 - val_loss: 4.1629 - val_acc: 0.3448\n",
      "Epoch 5/30\n",
      "259/259 [==============================] - 1s 4ms/step - loss: 2.5112 - acc: 0.2741 - val_loss: 3.3053 - val_acc: 0.3448\n",
      "Epoch 6/30\n",
      "259/259 [==============================] - 1s 4ms/step - loss: 2.5134 - acc: 0.2471 - val_loss: 3.0848 - val_acc: 0.2759\n",
      "Epoch 7/30\n",
      "259/259 [==============================] - 1s 4ms/step - loss: 2.1890 - acc: 0.2973 - val_loss: 1.5979 - val_acc: 0.3448\n",
      "Epoch 8/30\n",
      "259/259 [==============================] - 1s 4ms/step - loss: 1.9990 - acc: 0.3475 - val_loss: 2.1146 - val_acc: 0.2759\n",
      "Epoch 9/30\n",
      "259/259 [==============================] - 1s 4ms/step - loss: 1.6893 - acc: 0.3668 - val_loss: 1.3971 - val_acc: 0.4138\n",
      "Epoch 10/30\n",
      "259/259 [==============================] - 1s 4ms/step - loss: 1.6197 - acc: 0.3822 - val_loss: 1.4769 - val_acc: 0.4138\n",
      "Epoch 11/30\n",
      "259/259 [==============================] - 1s 4ms/step - loss: 1.8515 - acc: 0.3514 - val_loss: 1.8317 - val_acc: 0.3448\n",
      "Epoch 12/30\n",
      "259/259 [==============================] - 1s 4ms/step - loss: 1.8483 - acc: 0.3436 - val_loss: 2.1616 - val_acc: 0.3103\n",
      "Epoch 13/30\n",
      "259/259 [==============================] - 1s 4ms/step - loss: 1.5869 - acc: 0.3629 - val_loss: 1.9272 - val_acc: 0.4138\n",
      "Epoch 14/30\n",
      "259/259 [==============================] - 1s 4ms/step - loss: 1.4369 - acc: 0.3861 - val_loss: 2.5349 - val_acc: 0.2759\n",
      "Epoch 15/30\n",
      "259/259 [==============================] - 1s 4ms/step - loss: 1.5711 - acc: 0.3977 - val_loss: 5.5472 - val_acc: 0.1724\n",
      "Epoch 16/30\n",
      "259/259 [==============================] - 1s 4ms/step - loss: 1.6317 - acc: 0.4208 - val_loss: 7.2661 - val_acc: 0.1724\n",
      "Epoch 17/30\n",
      "259/259 [==============================] - 1s 4ms/step - loss: 1.4733 - acc: 0.4556 - val_loss: 7.6512 - val_acc: 0.1724\n",
      "Epoch 18/30\n",
      "259/259 [==============================] - 1s 4ms/step - loss: 1.4465 - acc: 0.4633 - val_loss: 6.2166 - val_acc: 0.1724\n",
      "Epoch 19/30\n",
      "259/259 [==============================] - 1s 4ms/step - loss: 1.1113 - acc: 0.5869 - val_loss: 8.0231 - val_acc: 0.1724\n",
      "Epoch 20/30\n",
      "259/259 [==============================] - 1s 4ms/step - loss: 0.7786 - acc: 0.6757 - val_loss: 8.5058 - val_acc: 0.2414\n",
      "Epoch 21/30\n",
      "259/259 [==============================] - 1s 4ms/step - loss: 0.8496 - acc: 0.6795 - val_loss: 8.0444 - val_acc: 0.3793\n",
      "Epoch 22/30\n",
      "259/259 [==============================] - 1s 4ms/step - loss: 0.9449 - acc: 0.6486 - val_loss: 10.5601 - val_acc: 0.3448\n",
      "Epoch 23/30\n",
      "259/259 [==============================] - 1s 4ms/step - loss: 0.6755 - acc: 0.7606 - val_loss: 10.5601 - val_acc: 0.3448\n",
      "Epoch 24/30\n",
      "259/259 [==============================] - 1s 4ms/step - loss: 0.5461 - acc: 0.7838 - val_loss: 10.5601 - val_acc: 0.3448\n",
      "Epoch 25/30\n",
      "259/259 [==============================] - 1s 4ms/step - loss: 0.3274 - acc: 0.8610 - val_loss: 10.1143 - val_acc: 0.3448\n",
      "Epoch 26/30\n",
      "259/259 [==============================] - 1s 4ms/step - loss: 0.3084 - acc: 0.8533 - val_loss: 10.5601 - val_acc: 0.3448\n",
      "Epoch 27/30\n",
      "259/259 [==============================] - 1s 4ms/step - loss: 0.2727 - acc: 0.8958 - val_loss: 10.5601 - val_acc: 0.3448\n",
      "Epoch 28/30\n",
      "259/259 [==============================] - 1s 4ms/step - loss: 0.1705 - acc: 0.9498 - val_loss: 10.5601 - val_acc: 0.3448\n",
      "Epoch 29/30\n",
      "259/259 [==============================] - 1s 4ms/step - loss: 0.1689 - acc: 0.9382 - val_loss: 10.5601 - val_acc: 0.3448\n",
      "Epoch 30/30\n",
      "259/259 [==============================] - 1s 4ms/step - loss: 0.1449 - acc: 0.9498 - val_loss: 10.5601 - val_acc: 0.3448\n",
      "Done\n"
     ]
    }
   ],
   "source": [
    "#STFT Model\n",
    "print \"Data Shape: {}\".format(data.shape)\n",
    "model = Sequential()\n",
    "model.add(Spectrogram(n_dft=256, n_hop=8, input_shape=data[0].shape, \n",
    "          return_decibel_spectrogram=True, power_spectrogram=2.0, \n",
    "          trainable_kernel=True, name='trainable_stft'))\n",
    "model.add(Convolution2D(24,(12, 12)))\n",
    "model.add(BatchNormalization(axis=-1))\n",
    "model.add(MaxPooling2D(pool_size = (2, 2)))\n",
    "model.add(Activation('relu'))\n",
    "model.add(Dropout(0.5))\n",
    "\n",
    "model.add(Convolution2D(48,(8, 8)))\n",
    "model.add(BatchNormalization(axis=-1))\n",
    "model.add(MaxPooling2D(pool_size = (2, 2)))\n",
    "model.add(Activation('relu'))\n",
    "model.add(Dropout(0.5))\n",
    "\n",
    "model.add(Convolution2D(96,(4, 4)))\n",
    "model.add(BatchNormalization(axis=-1))\n",
    "model.add(MaxPooling2D(pool_size = (2, 2)))\n",
    "model.add(Activation('relu'))\n",
    "model.add(Dropout(0.5))\n",
    "\n",
    "model.add(Flatten())\n",
    "model.add(Dense(4, activation='softmax'))\n",
    "\n",
    "model.summary(line_length=80, positions=[.33, .65, .8, 1.])\n",
    "\n",
    "model.compile(loss='categorical_crossentropy',optimizer='adam',metrics=['accuracy'])\n",
    "model.fit(data, labels_cata, nb_epoch=30, batch_size=20, validation_split=0.1)\n",
    "#model.fit(data, labels_cata, nb_epoch=1)\n",
    " \n",
    "print \"Done\""
   ]
  },
  {
   "cell_type": "code",
   "execution_count": null,
   "metadata": {},
   "outputs": [],
   "source": []
  }
 ],
 "metadata": {
  "kernelspec": {
   "display_name": "Python 2",
   "language": "python",
   "name": "python2"
  },
  "language_info": {
   "codemirror_mode": {
    "name": "ipython",
    "version": 2
   },
   "file_extension": ".py",
   "mimetype": "text/x-python",
   "name": "python",
   "nbconvert_exporter": "python",
   "pygments_lexer": "ipython2",
   "version": "2.7.12"
  }
 },
 "nbformat": 4,
 "nbformat_minor": 2
}
