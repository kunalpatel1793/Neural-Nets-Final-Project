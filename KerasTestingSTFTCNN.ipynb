{
 "cells": [
  {
   "cell_type": "code",
   "execution_count": 2,
   "metadata": {
    "scrolled": true
   },
   "outputs": [],
   "source": [
    "import numpy as np\n",
    "import h5py\n",
    "import tensorflow as tf\n",
    "import matplotlib.pyplot as plt\n",
    "\n",
    "import keras\n",
    "from keras.models import Sequential\n",
    "from keras.layers import Dense \n",
    "from keras.layers import LSTM\n",
    "from keras.layers import Flatten\n",
    "from keras.utils import to_categorical\n",
    "from keras.layers import Activation\n",
    "from keras.layers import Dropout\n",
    "from keras.layers import Convolution2D\n",
    "from keras.layers import BatchNormalization\n",
    "from keras.layers import MaxPooling2D\n",
    "\n",
    "import kapre \n",
    "from kapre.time_frequency import Spectrogram\n",
    "\n",
    "from mpl_toolkits.mplot3d import Axes3D\n",
    "%matplotlib inline\n",
    "import matplotlib.pyplot as plt\n",
    "plt.style.use('ggplot')\n",
    "from datetime import datetime\n",
    "now = datetime.now()\n",
    "import librosa\n",
    "from librosa import display\n",
    "\n",
    "from itertools import islice"
   ]
  },
  {
   "cell_type": "code",
   "execution_count": 3,
   "metadata": {},
   "outputs": [
    {
     "name": "stdout",
     "output_type": "stream",
     "text": [
      "(288, 25, 1000)\n",
      "(288,)\n"
     ]
    }
   ],
   "source": [
    "#import the data\n",
    "A01T = h5py.File('/home/carla/Downloads/project_datasets/project_datasets/A01T_slice.mat','r')\n",
    "data = np.copy(A01T['image'])\n",
    "labels = np.copy(A01T['type'])\n",
    "labels = labels[0,0:data.shape[0]:1]\n",
    "labels = np.asarray(labels, dtype=np.int32)\n",
    "\n",
    "#check the data dimensionality\n",
    "print data.shape\n",
    "print labels.shape\n",
    "\n",
    "#for STFT we DO NOT swap the axes \n",
    "#data = np.swapaxes(data, 1,2)\n",
    "data = data[:,:22,:]"
   ]
  },
  {
   "cell_type": "code",
   "execution_count": 4,
   "metadata": {},
   "outputs": [
    {
     "name": "stdout",
     "output_type": "stream",
     "text": [
      "(288, 22, 24)\n",
      "(288, 22, 1000)\n",
      "(288, 22, 1024)\n"
     ]
    }
   ],
   "source": [
    "#Experimental, try adding 24 zeros the the end of the matrix such that the shape is the same as in the paper\n",
    "buf = np.zeros([288,22,24])\n",
    "print buf.shape \n",
    "print data.shape\n",
    "databuf = np.concatenate([data,buf],axis=2)\n",
    "print databuf.shape"
   ]
  },
  {
   "cell_type": "code",
   "execution_count": 5,
   "metadata": {},
   "outputs": [
    {
     "name": "stdout",
     "output_type": "stream",
     "text": [
      "(287, 22, 1000)\n",
      "(287,)\n"
     ]
    }
   ],
   "source": [
    "# Check min and max values\n",
    "data = np.delete(data,56,0)\n",
    "labels = np.delete(labels,56,0)\n",
    "print data.shape\n",
    "print labels.shape"
   ]
  },
  {
   "cell_type": "code",
   "execution_count": 6,
   "metadata": {},
   "outputs": [
    {
     "name": "stdout",
     "output_type": "stream",
     "text": [
      "[3 2 1 0 0 1 2 3 1 2 0 0 0 3 1 1 0 0 2 0 1 3 3 2 0 3 3 1 3 3 1 0 1 2 2 2 3\n",
      " 2 0 3 1 2 1 2 3 1 2 0 0 0 3 1 0 2 0 2 3 0 2 2 0 2 1 3 3 3 2 0 3 1 3 1 0 2\n",
      " 1 0 2 2 0 2 3 3 1 0 1 3 1 3 2 1 1 1 2 3 0 1 3 0 2 2 3 0 0 2 1 3 3 3 1 0 2\n",
      " 1 3 0 3 2 1 3 3 0 1 1 2 3 1 0 0 3 1 0 2 1 1 2 0 3 2 2 2 2 0 1 0 1 0 0 2 2\n",
      " 1 2 3 0 3 0 0 1 3 2 1 3 2 3 2 3 1 1 3 0 1 1 1 2 3 0 3 0 2 0 3 0 2 0 1 2 2\n",
      " 3 0 1 3 1 2 2 0 3 1 3 0 0 2 2 1 3 1 1 0 1 3 3 1 1 1 1 3 3 2 3 0 1 2 1 0 3\n",
      " 0 3 0 0 0 0 2 2 3 1 2 2 2 3 2 0 2 0 3 1 3 3 2 3 3 2 1 3 2 0 1 1 1 2 1 3 2\n",
      " 3 1 2 0 3 0 2 3 0 2 0 1 1 0 3 0 3 2 2 0 2 1 1 0 2 0 1 0]\n",
      "[[ 0.  0.  0.  1.]\n",
      " [ 0.  0.  1.  0.]\n",
      " [ 0.  1.  0.  0.]\n",
      " ..., \n",
      " [ 1.  0.  0.  0.]\n",
      " [ 0.  1.  0.  0.]\n",
      " [ 1.  0.  0.  0.]]\n"
     ]
    }
   ],
   "source": [
    "#one-hot-encode the data for use with categorical_crossentropy\n",
    "labels_cata = labels - 769\n",
    "print labels_cata\n",
    "labels_cata = to_categorical(labels_cata, num_classes=4)\n",
    "print labels_cata"
   ]
  },
  {
   "cell_type": "code",
   "execution_count": 34,
   "metadata": {
    "scrolled": true
   },
   "outputs": [
    {
     "name": "stdout",
     "output_type": "stream",
     "text": [
      "54\n",
      "(2870, 22, 512)\n",
      "(2870, 4)\n"
     ]
    }
   ],
   "source": [
    "#interwoven slicing\n",
    "windows = 10\n",
    "window_size = 512\n",
    "step = int(float(data.shape[2]-window_size)/float(windows-1))\n",
    "print step\n",
    "data_sliced = np.zeros([data.shape[0]*windows,data.shape[1],window_size])\n",
    "for t in range(data.shape[0]):\n",
    "    for w in range(windows):\n",
    "        data_slice = data[t,:,(w*step):window_size+(w*step)]\n",
    "        data_sliced[(t*windows)+w] = data_slice\n",
    "               \n",
    "print data_sliced.shape \n",
    "labels_sliced  = np.repeat(labels_cata, windows,axis=0)\n",
    "print labels_sliced.shape "
   ]
  },
  {
   "cell_type": "code",
   "execution_count": 9,
   "metadata": {},
   "outputs": [
    {
     "name": "stdout",
     "output_type": "stream",
     "text": [
      "(6936,)\n"
     ]
    }
   ],
   "source": [
    "#STFT CNN\n",
    "\n",
    "SR = 250\n",
    "src_cute, _ = librosa.load(r'/home/carla/Downloads/SampleAudio_0.4mb.mp3', sr=SR, mono=True)\n",
    "print src_cute.shape\n",
    "\n",
    "def print_info():\n",
    "    print('%s/%s/%s' % (now.year, now.month, now.day))\n",
    "    print('librosa version: {}'.format(librosa.__version__))\n",
    "    print('Keras version: {}'.format(keras.__version__))\n",
    "    if keras.backend._BACKEND == 'tensorflow':\n",
    "        import tensorflow\n",
    "        print('Keras backend: {}: {}'.format(keras.backend._backend, tensorflow.__version__))\n",
    "    elif keras.backend._BACKEND == 'theano':\n",
    "        import theano\n",
    "        print('Keras backend: {}: {}'.format(keras.backend._backend, theano.__version__))\n",
    "    print('Keras image data format: {}'.format(keras.backend.image_data_format()))\n",
    "    print('Kapre version: {}'.format(kapre.__version__))\n",
    "    print('\\nSampling rate: {} Hz'.format(SR))\n",
    "\n",
    "def check_model(model):\n",
    "    model.summary(line_length=80, positions=[.33, .65, .8, 1.])\n",
    "    \n",
    "    batch_input_shape = (2,) + model.input_shape[1:]\n",
    "    batch_output_shape = (2,) + model.output_shape[1:]\n",
    "    model.compile('sgd', 'mse')\n",
    "    np.random.seed(42)\n",
    "    model.fit(np.random.uniform(size=batch_input_shape), np.random.uniform(size=batch_output_shape), epochs=1)\n",
    "\n",
    "def visualise_model(model, data, logam=False):\n",
    "    n_ch, nsp_src = model.input_shape[1:]\n",
    "    print \"Channels\"\n",
    "    print model.input_shape[1:]\n",
    "    src = data \n",
    "    src = src[:nsp_src]\n",
    "    src_batch = src[np.newaxis, :]\n",
    "    print src_batch.shape\n",
    "    pred = model.predict(x=src_batch)\n",
    "    if keras.backend.image_data_format == 'channels_first':\n",
    "        result = pred[0, 0]\n",
    "    else:\n",
    "        result = pred[0, :, :, 0]\n",
    "    \n",
    "    if logam:\n",
    "        result = librosa.amplitude_to_db(result)\n",
    "    display.specshow(result, \n",
    "                     y_axis='linear', sr=SR)"
   ]
  },
  {
   "cell_type": "code",
   "execution_count": 10,
   "metadata": {},
   "outputs": [
    {
     "name": "stdout",
     "output_type": "stream",
     "text": [
      "2018/3/10\n",
      "librosa version: 0.6.0\n",
      "Keras version: 2.1.4\n",
      "Keras backend: tensorflow: 1.5.0\n",
      "Keras image data format: channels_last\n",
      "Kapre version: 0.1.3\n",
      "\n",
      "Sampling rate: 250 Hz\n"
     ]
    }
   ],
   "source": [
    "print_info()"
   ]
  },
  {
   "cell_type": "code",
   "execution_count": 26,
   "metadata": {
    "scrolled": false
   },
   "outputs": [
    {
     "name": "stdout",
     "output_type": "stream",
     "text": [
      "srcshape\n",
      "(22, 512)\n",
      "________________________________________________________________________________\n",
      "Layer (type)              Output Shape              Param #     \n",
      "================================================================================\n",
      "trainable_stft (Spectrogr (None, 257, 64, 22)       263168      \n",
      "================================================================================\n",
      "Total params: 263,168\n",
      "Trainable params: 263,168\n",
      "Non-trainable params: 0\n",
      "________________________________________________________________________________\n",
      "Epoch 1/1\n",
      "2/2 [==============================] - 2s 767ms/step - loss: 1194.6475\n",
      "Channels\n",
      "(22, 512)\n",
      "(1, 22, 512)\n",
      "771\n"
     ]
    },
    {
     "data": {
      "image/png": "[encoded data removed]",
      "text/plain": [
       "<matplotlib.figure.Figure at 0x7fa18822e810>"
      ]
     },
     "metadata": {},
     "output_type": "display_data"
    }
   ],
   "source": [
    "#Show the output of the model after STFT\n",
    "src = data_sliced[0]\n",
    "#src = databuf[0,0,:]\n",
    "#src = src[np.newaxis, :] \n",
    "print \"srcshape\"\n",
    "print src.shape\n",
    "model = Sequential()\n",
    "model.add(Spectrogram(n_dft=512, n_hop=8, input_shape=src.shape, \n",
    "          return_decibel_spectrogram=True, power_spectrogram=2.0, \n",
    "          trainable_kernel=True, name='trainable_stft'))\n",
    "\n",
    "check_model(model)\n",
    "visualise_model(model, src)\n",
    "print labels[1]"
   ]
  },
  {
   "cell_type": "code",
   "execution_count": 35,
   "metadata": {
    "scrolled": false
   },
   "outputs": [
    {
     "name": "stdout",
     "output_type": "stream",
     "text": [
      "Data Shape: (2870, 22, 512)\n",
      "________________________________________________________________________________\n",
      "Layer (type)              Output Shape              Param #     \n",
      "================================================================================\n",
      "trainable_stft (Spectrogr (None, 257, 64, 22)       263168      \n",
      "________________________________________________________________________________\n",
      "conv2d_13 (Conv2D)        (None, 246, 53, 24)       76056       \n",
      "________________________________________________________________________________\n",
      "batch_normalization_13 (B (None, 246, 53, 24)       96          \n",
      "________________________________________________________________________________\n",
      "max_pooling2d_13 (MaxPool (None, 123, 26, 24)       0           \n",
      "________________________________________________________________________________\n",
      "activation_13 (Activation (None, 123, 26, 24)       0           \n",
      "________________________________________________________________________________\n",
      "dropout_13 (Dropout)      (None, 123, 26, 24)       0           \n",
      "________________________________________________________________________________\n",
      "conv2d_14 (Conv2D)        (None, 116, 19, 48)       73776       \n",
      "________________________________________________________________________________\n",
      "batch_normalization_14 (B (None, 116, 19, 48)       192         \n",
      "________________________________________________________________________________\n",
      "max_pooling2d_14 (MaxPool (None, 58, 9, 48)         0           \n",
      "________________________________________________________________________________\n",
      "activation_14 (Activation (None, 58, 9, 48)         0           \n",
      "________________________________________________________________________________\n",
      "dropout_14 (Dropout)      (None, 58, 9, 48)         0           \n",
      "________________________________________________________________________________\n",
      "conv2d_15 (Conv2D)        (None, 55, 6, 96)         73824       \n",
      "________________________________________________________________________________\n",
      "batch_normalization_15 (B (None, 55, 6, 96)         384         \n",
      "________________________________________________________________________________\n",
      "max_pooling2d_15 (MaxPool (None, 27, 3, 96)         0           \n",
      "________________________________________________________________________________\n",
      "activation_15 (Activation (None, 27, 3, 96)         0           \n",
      "________________________________________________________________________________\n",
      "dropout_15 (Dropout)      (None, 27, 3, 96)         0           \n",
      "________________________________________________________________________________\n",
      "flatten_5 (Flatten)       (None, 7776)              0           \n",
      "________________________________________________________________________________\n",
      "dense_5 (Dense)           (None, 4)                 31108       \n",
      "================================================================================\n",
      "Total params: 518,604\n",
      "Trainable params: 518,268\n",
      "Non-trainable params: 336\n",
      "________________________________________________________________________________\n",
      "Train on 2583 samples, validate on 287 samples\n",
      "Epoch 1/10\n",
      "2583/2583 [==============================] - 14s 5ms/step - loss: 2.8121 - acc: 0.2660 - val_loss: 1.9179 - val_acc: 0.2091\n",
      "Epoch 2/10\n",
      "2583/2583 [==============================] - 10s 4ms/step - loss: 1.9073 - acc: 0.2857 - val_loss: 1.3734 - val_acc: 0.3624\n",
      "Epoch 3/10\n",
      "2583/2583 [==============================] - 10s 4ms/step - loss: 1.6474 - acc: 0.3097 - val_loss: 1.5242 - val_acc: 0.3659\n",
      "Epoch 4/10\n",
      "2583/2583 [==============================] - 10s 4ms/step - loss: 1.6015 - acc: 0.3248 - val_loss: 3.6046 - val_acc: 0.1742\n",
      "Epoch 5/10\n",
      "2583/2583 [==============================] - 10s 4ms/step - loss: 1.4952 - acc: 0.3457 - val_loss: 6.0510 - val_acc: 0.3484\n",
      "Epoch 6/10\n",
      "2583/2583 [==============================] - 10s 4ms/step - loss: 1.4081 - acc: 0.3690 - val_loss: 9.1518 - val_acc: 0.3484\n",
      "Epoch 7/10\n",
      "2583/2583 [==============================] - 10s 4ms/step - loss: 1.3573 - acc: 0.3991 - val_loss: 8.7830 - val_acc: 0.3484\n",
      "Epoch 8/10\n",
      "2583/2583 [==============================] - 10s 4ms/step - loss: 1.2148 - acc: 0.4479 - val_loss: 10.5020 - val_acc: 0.3484\n",
      "Epoch 9/10\n",
      "2583/2583 [==============================] - 10s 4ms/step - loss: 1.2520 - acc: 0.4545 - val_loss: 10.5020 - val_acc: 0.3484\n",
      "Epoch 10/10\n",
      "2583/2583 [==============================] - 10s 4ms/step - loss: 1.2709 - acc: 0.4437 - val_loss: 10.2634 - val_acc: 0.3484\n",
      "Done\n"
     ]
    }
   ],
   "source": [
    "#STFT Model\n",
    "input_data = data_sliced\n",
    "target_labels = labels_sliced\n",
    "print \"Data Shape: {}\".format(input_data.shape)\n",
    "model = Sequential()\n",
    "model.add(Spectrogram(n_dft=512, n_hop=8, input_shape=input_data[0].shape, \n",
    "          return_decibel_spectrogram=True, power_spectrogram=2.0, \n",
    "          trainable_kernel=True, name='trainable_stft'))\n",
    "model.add(Convolution2D(24,(12, 12)))\n",
    "model.add(BatchNormalization(axis=-1))\n",
    "model.add(MaxPooling2D(pool_size = (2, 2)))\n",
    "model.add(Activation('relu'))\n",
    "model.add(Dropout(0.5))\n",
    "\n",
    "model.add(Convolution2D(48,(8, 8)))\n",
    "model.add(BatchNormalization(axis=-1))\n",
    "model.add(MaxPooling2D(pool_size = (2, 2)))\n",
    "model.add(Activation('relu'))\n",
    "model.add(Dropout(0.5))\n",
    "\n",
    "model.add(Convolution2D(96,(4, 4)))\n",
    "model.add(BatchNormalization(axis=-1))\n",
    "model.add(MaxPooling2D(pool_size = (2, 2)))\n",
    "model.add(Activation('relu'))\n",
    "model.add(Dropout(0.5))\n",
    "\n",
    "model.add(Flatten())\n",
    "model.add(Dense(4, activation='softmax'))\n",
    "\n",
    "model.summary(line_length=80, positions=[.33, .65, .8, 1.])\n",
    "\n",
    "model.compile(loss='categorical_crossentropy',optimizer='adam',metrics=['accuracy'])\n",
    "model.fit(input_data, target_labels, nb_epoch=10, batch_size=100, validation_split=0.1)\n",
    "#model.fit(data, labels_cata, nb_epoch=1)\n",
    " \n",
    "print \"Done\""
   ]
  },
  {
   "cell_type": "code",
   "execution_count": null,
   "metadata": {},
   "outputs": [],
   "source": []
  }
 ],
 "metadata": {
  "kernelspec": {
   "display_name": "Python 2",
   "language": "python",
   "name": "python2"
  },
  "language_info": {
   "codemirror_mode": {
    "name": "ipython",
    "version": 2
   },
   "file_extension": ".py",
   "mimetype": "text/x-python",
   "name": "python",
   "nbconvert_exporter": "python",
   "pygments_lexer": "ipython2",
   "version": "2.7.12"
  }
 },
 "nbformat": 4,
 "nbformat_minor": 2
}
