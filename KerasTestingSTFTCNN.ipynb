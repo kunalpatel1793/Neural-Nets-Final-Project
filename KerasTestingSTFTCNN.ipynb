{
 "cells": [
  {
   "cell_type": "code",
   "execution_count": 1,
   "metadata": {
    "scrolled": true
   },
   "outputs": [
    {
     "ename": "RuntimeError",
     "evalue": "module compiled against API version 0xb but this version of numpy is 0xa",
     "output_type": "error",
     "traceback": [
      "\u001b[0;31m---------------------------------------------------------------------------\u001b[0m",
      "\u001b[0;31mRuntimeError\u001b[0m                              Traceback (most recent call last)",
      "\u001b[0;31mRuntimeError\u001b[0m: module compiled against API version 0xb but this version of numpy is 0xa"
     ]
    },
    {
     "ename": "RuntimeError",
     "evalue": "module compiled against API version 0xb but this version of numpy is 0xa",
     "output_type": "error",
     "traceback": [
      "\u001b[0;31m---------------------------------------------------------------------------\u001b[0m",
      "\u001b[0;31mRuntimeError\u001b[0m                              Traceback (most recent call last)",
      "\u001b[0;31mRuntimeError\u001b[0m: module compiled against API version 0xb but this version of numpy is 0xa"
     ]
    },
    {
     "name": "stderr",
     "output_type": "stream",
     "text": [
      "Using TensorFlow backend.\n"
     ]
    }
   ],
   "source": [
    "import numpy as np\n",
    "import h5py\n",
    "import tensorflow as tf\n",
    "import matplotlib.pyplot as plt\n",
    "\n",
    "import keras\n",
    "from keras.models import Sequential\n",
    "from keras.layers import Dense \n",
    "from keras.layers import LSTM\n",
    "from keras.layers import Flatten\n",
    "from keras.utils import to_categorical\n",
    "from keras.layers import Activation\n",
    "from keras.layers import Dropout\n",
    "from keras.layers import Convolution2D\n",
    "from keras.layers import BatchNormalization\n",
    "from keras.layers import MaxPooling2D\n",
    "\n",
    "from keras.regularizers import l2, activity_l2\n",
    "\n",
    "import kapre \n",
    "from kapre.time_frequency import Spectrogram\n",
    "\n",
    "from mpl_toolkits.mplot3d import Axes3D\n",
    "%matplotlib inline\n",
    "import matplotlib.pyplot as plt\n",
    "plt.style.use('ggplot')\n",
    "from datetime import datetime\n",
    "now = datetime.now()\n",
    "import librosa\n",
    "from librosa import display\n",
    "\n",
    "from itertools import islice\n",
    "from UtilNNDL import create_window_data\n",
    "from UtilNNDL import plot_hist"
   ]
  },
  {
   "cell_type": "code",
   "execution_count": 49,
   "metadata": {},
   "outputs": [
    {
     "name": "stdout",
     "output_type": "stream",
     "text": [
      "(288, 25, 1000)\n",
      "(288,)\n"
     ]
    }
   ],
   "source": [
    "#import the data\n",
    "A01T = h5py.File('/home/carla/Downloads/project_datasets/project_datasets/A01T_slice.mat','r')\n",
    "data = np.copy(A01T['image'])\n",
    "labels = np.copy(A01T['type'])\n",
    "labels = labels[0,0:data.shape[0]:1]\n",
    "labels = np.asarray(labels, dtype=np.int32)\n",
    "\n",
    "#check the data dimensionality\n",
    "print data.shape\n",
    "print labels.shape\n",
    "\n",
    "#for STFT we DO NOT swap the axes \n",
    "#data = np.swapaxes(data, 1,2)\n",
    "data = data[:,:22,:]"
   ]
  },
  {
   "cell_type": "code",
   "execution_count": 50,
   "metadata": {},
   "outputs": [
    {
     "name": "stdout",
     "output_type": "stream",
     "text": [
      "(288, 22, 24)\n",
      "(288, 22, 1000)\n",
      "(288, 22, 1024)\n"
     ]
    }
   ],
   "source": [
    "#Experimental, try adding 24 zeros the the end of the matrix such that the shape is the same as in the paper\n",
    "buf = np.zeros([288,22,24])\n",
    "print buf.shape \n",
    "print data.shape\n",
    "databuf = np.concatenate([data,buf],axis=2)\n",
    "print databuf.shape"
   ]
  },
  {
   "cell_type": "code",
   "execution_count": 25,
   "metadata": {},
   "outputs": [],
   "source": [
    "#Experimental, try just using just c3,cz,c4 electrodes \n",
    "data = data[:,(7,9,11),:]"
   ]
  },
  {
   "cell_type": "code",
   "execution_count": 51,
   "metadata": {},
   "outputs": [
    {
     "name": "stdout",
     "output_type": "stream",
     "text": [
      "(287, 22, 1000)\n",
      "(287,)\n"
     ]
    }
   ],
   "source": [
    "# Remove the bad sample\n",
    "data = np.delete(data,56,0)\n",
    "labels = np.delete(labels,56,0)\n",
    "print data.shape\n",
    "print labels.shape"
   ]
  },
  {
   "cell_type": "code",
   "execution_count": 52,
   "metadata": {},
   "outputs": [
    {
     "name": "stdout",
     "output_type": "stream",
     "text": [
      "[[ 0.  0.  0.  1.]\n",
      " [ 0.  0.  1.  0.]\n",
      " [ 0.  1.  0.  0.]\n",
      " ..., \n",
      " [ 1.  0.  0.  0.]\n",
      " [ 0.  1.  0.  0.]\n",
      " [ 1.  0.  0.  0.]]\n"
     ]
    }
   ],
   "source": [
    "#one-hot-encode the data for use with categorical_crossentropy\n",
    "labels_cata = labels - 769\n",
    "labels_cata = to_categorical(labels_cata, num_classes=4)\n",
    "print labels_cata"
   ]
  },
  {
   "cell_type": "code",
   "execution_count": 53,
   "metadata": {},
   "outputs": [],
   "source": [
    "bs, t, f = data.shape\n",
    "np.random.seed(42)\n",
    "shuffle = np.random.choice(bs,bs,replace=False)\n",
    "\n",
    "#split data into training and testing \n",
    "train_samples = data.shape[0]-50\n",
    "train_data = data[shuffle[:train_samples],:,:]\n",
    "train_labels = labels_cata[shuffle[:train_samples]]\n",
    "test_data = data[shuffle[train_samples:],:,:]\n",
    "test_labels =labels_cata[shuffle[train_samples:]]"
   ]
  },
  {
   "cell_type": "code",
   "execution_count": 54,
   "metadata": {},
   "outputs": [
    {
     "name": "stdout",
     "output_type": "stream",
     "text": [
      "(2370, 22, 512)\n",
      "(2370, 4)\n",
      "(500, 22, 512)\n",
      "(500, 4)\n"
     ]
    }
   ],
   "source": [
    "#Augment the data into a bigger set by windowing\n",
    "train_data_sliced, train_labels_sliced = create_window_data(train_data, train_labels)\n",
    "test_data_sliced, test_labels_sliced = create_window_data(test_data, test_labels)\n",
    "print train_data_sliced.shape\n",
    "print train_labels_sliced.shape\n",
    "print test_data_sliced.shape\n",
    "print test_labels_sliced.shape "
   ]
  },
  {
   "cell_type": "markdown",
   "metadata": {},
   "source": [
    "# Model Testing"
   ]
  },
  {
   "cell_type": "code",
   "execution_count": 55,
   "metadata": {},
   "outputs": [],
   "source": [
    "#STFT CNN\n",
    "\n",
    "SR = 250\n",
    "src_cute, _ = librosa.load(r'/home/carla/Downloads/SampleAudio_0.4mb.mp3', sr=SR, mono=True)\n",
    "\n",
    "def print_info():\n",
    "    print('%s/%s/%s' % (now.year, now.month, now.day))\n",
    "    print('librosa version: {}'.format(librosa.__version__))\n",
    "    print('Keras version: {}'.format(keras.__version__))\n",
    "    if keras.backend._BACKEND == 'tensorflow':\n",
    "        import tensorflow\n",
    "        print('Keras backend: {}: {}'.format(keras.backend._backend, tensorflow.__version__))\n",
    "    elif keras.backend._BACKEND == 'theano':\n",
    "        import theano\n",
    "        print('Keras backend: {}: {}'.format(keras.backend._backend, theano.__version__))\n",
    "    print('Keras image data format: {}'.format(keras.backend.image_data_format()))\n",
    "    print('Kapre version: {}'.format(kapre.__version__))\n",
    "    print('\\nSampling rate: {} Hz'.format(SR))\n",
    "\n",
    "def check_model(model):\n",
    "    model.summary(line_length=80, positions=[.33, .65, .8, 1.])\n",
    "    \n",
    "    batch_input_shape = (2,) + model.input_shape[1:]\n",
    "    batch_output_shape = (2,) + model.output_shape[1:]\n",
    "    model.compile('sgd', 'mse')\n",
    "    np.random.seed(42)\n",
    "    model.fit(np.random.uniform(size=batch_input_shape), np.random.uniform(size=batch_output_shape), epochs=1)\n",
    "\n",
    "def visualise_model(model, data, logam=False):\n",
    "    n_ch, nsp_src = model.input_shape[1:]\n",
    "    print \"Channels\"\n",
    "    print model.input_shape[1:]\n",
    "    src = data \n",
    "    src = src[:nsp_src]\n",
    "    src_batch = src[np.newaxis, :]\n",
    "    print src_batch.shape\n",
    "    pred = model.predict(x=src_batch)\n",
    "    if keras.backend.image_data_format == 'channels_first':\n",
    "        result = pred[0, 0]\n",
    "    else:\n",
    "        result = pred[0, :, :, 0]\n",
    "    \n",
    "    if logam:\n",
    "        result = librosa.amplitude_to_db(result)\n",
    "    display.specshow(result, \n",
    "                     y_axis='linear', sr=SR)"
   ]
  },
  {
   "cell_type": "code",
   "execution_count": 41,
   "metadata": {
    "scrolled": false
   },
   "outputs": [
    {
     "name": "stdout",
     "output_type": "stream",
     "text": [
      "srcshape\n",
      "(3, 1000)\n",
      "________________________________________________________________________________\n",
      "Layer (type)              Output Shape              Param #     \n",
      "================================================================================\n",
      "trainable_stft (Spectrogr (None, 257, 63, 3)        263168      \n",
      "================================================================================\n",
      "Total params: 263,168\n",
      "Trainable params: 263,168\n",
      "Non-trainable params: 0\n",
      "________________________________________________________________________________\n",
      "Epoch 1/1\n",
      "2/2 [==============================] - 2s 805ms/step - loss: 1142.2498\n",
      "Channels\n",
      "(3, 1000)\n",
      "(1, 3, 1000)\n",
      "771\n"
     ]
    },
    {
     "data": {
      "image/png": "[encoded data removed]",
      "text/plain": [
       "<matplotlib.figure.Figure at 0x7f257e4ed550>"
      ]
     },
     "metadata": {},
     "output_type": "display_data"
    }
   ],
   "source": [
    "#Show the output of the model after STFT\n",
    "src = train_data[0]\n",
    "#src = databuf[0,0,:]\n",
    "#src = src[np.newaxis, :] \n",
    "print \"srcshape\"\n",
    "print src.shape\n",
    "model = Sequential()\n",
    "model.add(Spectrogram(n_dft=512, n_hop=16, input_shape=src.shape, \n",
    "          return_decibel_spectrogram=True, power_spectrogram=2.0, \n",
    "          trainable_kernel=True, name='trainable_stft'))\n",
    "\n",
    "check_model(model)\n",
    "visualise_model(model, src)\n",
    "print labels[1]"
   ]
  },
  {
   "cell_type": "code",
   "execution_count": 2,
   "metadata": {
    "scrolled": false
   },
   "outputs": [
    {
     "ename": "NameError",
     "evalue": "name 'train_data_sliced' is not defined",
     "output_type": "error",
     "traceback": [
      "\u001b[0;31m---------------------------------------------------------------------------\u001b[0m",
      "\u001b[0;31mNameError\u001b[0m                                 Traceback (most recent call last)",
      "\u001b[0;32m<ipython-input-2-5402bd98eb8b>\u001b[0m in \u001b[0;36m<module>\u001b[0;34m()\u001b[0m\n\u001b[1;32m      1\u001b[0m \u001b[0;31m#STFT Model\u001b[0m\u001b[0;34m\u001b[0m\u001b[0;34m\u001b[0m\u001b[0m\n\u001b[0;32m----> 2\u001b[0;31m \u001b[0minput_data\u001b[0m \u001b[0;34m=\u001b[0m \u001b[0mtrain_data_sliced\u001b[0m\u001b[0;34m\u001b[0m\u001b[0m\n\u001b[0m\u001b[1;32m      3\u001b[0m \u001b[0minput_labels\u001b[0m \u001b[0;34m=\u001b[0m \u001b[0mtrain_labels_sliced\u001b[0m\u001b[0;34m\u001b[0m\u001b[0m\n\u001b[1;32m      4\u001b[0m \u001b[0mtest_data\u001b[0m\u001b[0;34m\u001b[0m\u001b[0m\n\u001b[1;32m      5\u001b[0m \u001b[0;32mprint\u001b[0m \u001b[0;34m\"Data Shape: {}\"\u001b[0m\u001b[0;34m.\u001b[0m\u001b[0mformat\u001b[0m\u001b[0;34m(\u001b[0m\u001b[0minput_data\u001b[0m\u001b[0;34m.\u001b[0m\u001b[0mshape\u001b[0m\u001b[0;34m)\u001b[0m\u001b[0;34m\u001b[0m\u001b[0m\n",
      "\u001b[0;31mNameError\u001b[0m: name 'train_data_sliced' is not defined"
     ]
    }
   ],
   "source": [
    "#STFT Model\n",
    "input_data = train_data_sliced\n",
    "input_labels = train_labels_sliced\n",
    "test_data  \n",
    "print \"Data Shape: {}\".format(input_data.shape)\n",
    "model = Sequential()\n",
    "model.add(Spectrogram(n_dft=512, n_hop=8, input_shape=input_data[0].shape, \n",
    "          return_decibel_spectrogram=True, power_spectrogram=2.0, \n",
    "          trainable_kernel=True, name='trainable_stft'))\n",
    "model.add(Convolution2D(24,(12, 12)))\n",
    "model.add(BatchNormalization(axis=-1))\n",
    "model.add(MaxPooling2D(pool_size = (2, 2)))\n",
    "model.add(Activation('relu'))\n",
    "model.add(Dropout(0.6))\n",
    "\n",
    "model.add(Convolution2D(48,(8, 8)))\n",
    "model.add(BatchNormalization(axis=-1))\n",
    "model.add(MaxPooling2D(pool_size = (2, 2)))\n",
    "model.add(Activation('relu'))\n",
    "model.add(Dropout(0.6))\n",
    "\n",
    "model.add(Convolution2D(96,(4, 4)))\n",
    "model.add(BatchNormalization(axis=-1))\n",
    "model.add(MaxPooling2D(pool_size = (2, 2)))\n",
    "model.add(Activation('relu'))\n",
    "model.add(Dropout(0.6))\n",
    "\n",
    "model.add(Flatten())\n",
    "model.add(Dense(4, activation='softmax'))\n",
    "\n",
    "model.summary(line_length=80, positions=[.33, .65, .8, 1.])\n",
    "\n",
    "model.compile(loss='categorical_crossentropy',optimizer='adam',metrics=['accuracy'])\n",
    "hist = model.fit(input_data, target_labels, nb_epoch=30, batch_size=512, validation_split=0.1)\n",
    "test_score = model.evaluate(test_data_sliced, test_labels_sliced, batch_size=32)\n",
    "print \"Test Score: {}\".format(test_score)\n",
    "plot_hist([hist.history['acc'],hist.history['val_acc']],['Training Accuracy','Val Accuracy'],title='Accuracies')\n",
    "plot_hist([hist.history['loss'],hist.history['val_loss']],['Training Loss','Val Loss'],title='Loss')"
   ]
  },
  {
   "cell_type": "code",
   "execution_count": null,
   "metadata": {},
   "outputs": [],
   "source": [
    "#model"
   ]
  }
 ],
 "metadata": {
  "kernelspec": {
   "display_name": "Python 2",
   "language": "python",
   "name": "python2"
  },
  "language_info": {
   "codemirror_mode": {
    "name": "ipython",
    "version": 2
   },
   "file_extension": ".py",
   "mimetype": "text/x-python",
   "name": "python",
   "nbconvert_exporter": "python",
   "pygments_lexer": "ipython2",
   "version": "2.7.12"
  }
 },
 "nbformat": 4,
 "nbformat_minor": 2
}
