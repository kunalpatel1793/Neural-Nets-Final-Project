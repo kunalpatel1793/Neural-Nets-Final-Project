{
 "cells": [
  {
   "cell_type": "code",
   "execution_count": 12,
   "metadata": {
    "scrolled": true
   },
   "outputs": [
    {
     "name": "stdout",
     "output_type": "stream",
     "text": [
      "(287, 22, 1000)\n"
     ]
    }
   ],
   "source": [
    "import numpy as np\n",
    "import h5py\n",
    "import tensorflow as tf\n",
    "import matplotlib.pyplot as plt\n",
    "import UtilNNDL as util\n",
    "\n",
    "from keras.models import Sequential\n",
    "from keras.layers import Dense, Permute\n",
    "from keras.layers import ConvLSTM2D, Conv2D, MaxPooling2D\n",
    "from keras.layers import MaxPooling1D, Conv1D\n",
    "from keras.layers import GRU, LSTM, BatchNormalization\n",
    "from keras.layers import TimeDistributed\n",
    "from keras.layers import Flatten, Reshape\n",
    "from keras.utils import to_categorical\n",
    "from keras.layers import Activation\n",
    "from keras import regularizers\n",
    "from UtilNNDL import plot_hist\n",
    "\n",
    "folder = '/home/carla/Downloads/project_datasets/project_datasets/'\n",
    "#folder = 'datasets/'\n",
    "A01T = h5py.File(folder+'A01T_slice.mat','r')\n",
    "data = np.copy(A01T['image'])\n",
    "labels = np.copy(A01T['type'])\n",
    "labels = labels[0,0:data.shape[0]:1]\n",
    "labels = np.asarray(labels, dtype=np.int32)\n",
    "\n",
    "a = data[:56]\n",
    "b = data[57:]\n",
    "data = np.vstack((a,b))\n",
    "data = data[:,:22,:]\n",
    "a = labels[:56]\n",
    "b = labels[57:]\n",
    "labels = np.hstack((a,b))\n",
    "print data.shape"
   ]
  },
  {
   "cell_type": "code",
   "execution_count": 27,
   "metadata": {},
   "outputs": [
    {
     "name": "stdout",
     "output_type": "stream",
     "text": [
      "(1435, 22, 512) (1435,)\n",
      "(1435, 512, 22, 1)\n",
      "(1435, 4)\n"
     ]
    }
   ],
   "source": [
    "data2d_sliced, labels_sliced = util.create_window_data(data, labels, windows=5)\n",
    "#util.plot_hist(data2d_sliced)\n",
    "print data2d_sliced.shape, labels_sliced.shape\n",
    "data2d = data2d_sliced.reshape(data2d_sliced.shape[0], data2d_sliced.shape[2], data2d_sliced.shape[1], 1)\n",
    "print data2d.shape\n",
    "\n",
    "#enc = OneHotEncoder()\n",
    "#enc_labels = enc.fit_transform(labels.reshape(-1,1)).toarray()\n",
    "enc_labels = to_categorical(labels_sliced-769, num_classes=4)\n",
    "print(enc_labels.shape)"
   ]
  },
  {
   "cell_type": "code",
   "execution_count": 28,
   "metadata": {},
   "outputs": [
    {
     "name": "stdout",
     "output_type": "stream",
     "text": [
      "(1435, 512, 22, 1)\n",
      "(1385, 512, 22, 1)\n",
      "(50, 512, 22, 1)\n"
     ]
    }
   ],
   "source": [
    "bs, t, n, c = data2d.shape\n",
    "np.random.seed(42)\n",
    "shuffle = np.random.choice(bs,bs,replace=False)\n",
    "\n",
    "#mask = np.ones_like(data)\n",
    "#mask[[:,:,21:24]] = True\n",
    "#newdata = data[mask]\n",
    "#np.delete(mask, :,:,24)\n",
    "train_samples = bs - 50\n",
    "train_data = data2d[shuffle[:train_samples],:,:]\n",
    "train_labels = enc_labels[shuffle[:train_samples]]\n",
    "test_data = data2d[shuffle[train_samples:],:,:]\n",
    "test_labels = enc_labels[shuffle[train_samples:]]\n",
    "print data2d.shape\n",
    "print train_data.shape\n",
    "print test_data.shape"
   ]
  },
  {
   "cell_type": "markdown",
   "metadata": {},
   "source": [
    "# TESTING\n"
   ]
  },
  {
   "cell_type": "markdown",
   "metadata": {},
   "source": [
    "deepconvnet no regularization"
   ]
  },
  {
   "cell_type": "code",
   "execution_count": 24,
   "metadata": {},
   "outputs": [
    {
     "name": "stdout",
     "output_type": "stream",
     "text": [
      "_________________________________________________________________\n",
      "Layer (type)                 Output Shape              Param #   \n",
      "=================================================================\n",
      "conv2d_41 (Conv2D)           (None, 503, 22, 10)       110       \n",
      "_________________________________________________________________\n",
      "conv2d_42 (Conv2D)           (None, 489, 13, 10)       15010     \n",
      "_________________________________________________________________\n",
      "max_pooling2d_33 (MaxPooling (None, 163, 13, 10)       0         \n",
      "_________________________________________________________________\n",
      "permute_25 (Permute)         (None, 163, 10, 13)       0         \n",
      "_________________________________________________________________\n",
      "conv2d_43 (Conv2D)           (None, 154, 1, 20)        26020     \n",
      "_________________________________________________________________\n",
      "max_pooling2d_34 (MaxPooling (None, 51, 1, 20)         0         \n",
      "_________________________________________________________________\n",
      "permute_26 (Permute)         (None, 51, 20, 1)         0         \n",
      "_________________________________________________________________\n",
      "conv2d_44 (Conv2D)           (None, 42, 1, 40)         8040      \n",
      "_________________________________________________________________\n",
      "max_pooling2d_35 (MaxPooling (None, 14, 1, 40)         0         \n",
      "_________________________________________________________________\n",
      "permute_27 (Permute)         (None, 14, 40, 1)         0         \n",
      "_________________________________________________________________\n",
      "conv2d_45 (Conv2D)           (None, 5, 1, 80)          32080     \n",
      "_________________________________________________________________\n",
      "max_pooling2d_36 (MaxPooling (None, 1, 1, 80)          0         \n",
      "_________________________________________________________________\n",
      "reshape_9 (Reshape)          (None, 80, 1)             0         \n",
      "_________________________________________________________________\n",
      "lstm_15 (LSTM)               (None, 80, 32)            4352      \n",
      "_________________________________________________________________\n",
      "lstm_16 (LSTM)               (None, 32)                8320      \n",
      "_________________________________________________________________\n",
      "batch_normalization_9 (Batch (None, 32)                128       \n",
      "_________________________________________________________________\n",
      "dense_9 (Dense)              (None, 4)                 132       \n",
      "=================================================================\n",
      "Total params: 94,192\n",
      "Trainable params: 94,128\n",
      "Non-trainable params: 64\n",
      "_________________________________________________________________\n",
      "Train on 2115 samples, validate on 705 samples\n",
      "Epoch 1/15\n",
      "2115/2115 [==============================] - 6s 3ms/step - loss: 1.3291 - acc: 0.3433 - val_loss: 3.5092 - val_acc: 0.2681\n",
      "Epoch 2/15\n",
      "2115/2115 [==============================] - 4s 2ms/step - loss: 1.1145 - acc: 0.4520 - val_loss: 4.8633 - val_acc: 0.2681\n",
      "Epoch 3/15\n",
      "2115/2115 [==============================] - 4s 2ms/step - loss: 1.0112 - acc: 0.5262 - val_loss: 1.2606 - val_acc: 0.4312\n",
      "Epoch 4/15\n",
      "2115/2115 [==============================] - 4s 2ms/step - loss: 0.9042 - acc: 0.5882 - val_loss: 1.2257 - val_acc: 0.4823\n",
      "Epoch 5/15\n",
      "2115/2115 [==============================] - 4s 2ms/step - loss: 0.8178 - acc: 0.6355 - val_loss: 1.2420 - val_acc: 0.4993\n",
      "Epoch 6/15\n",
      "2115/2115 [==============================] - 4s 2ms/step - loss: 0.6834 - acc: 0.7087 - val_loss: 3.2570 - val_acc: 0.4184\n",
      "Epoch 7/15\n",
      "2115/2115 [==============================] - 4s 2ms/step - loss: 0.5748 - acc: 0.7541 - val_loss: 1.9687 - val_acc: 0.4440\n",
      "Epoch 8/15\n",
      "2115/2115 [==============================] - 4s 2ms/step - loss: 0.4983 - acc: 0.7981 - val_loss: 2.2459 - val_acc: 0.4355\n",
      "Epoch 9/15\n",
      "2115/2115 [==============================] - 4s 2ms/step - loss: 0.3820 - acc: 0.8487 - val_loss: 4.7636 - val_acc: 0.3277\n",
      "Epoch 10/15\n",
      "2115/2115 [==============================] - 4s 2ms/step - loss: 0.3593 - acc: 0.8539 - val_loss: 1.9263 - val_acc: 0.4823\n",
      "Epoch 11/15\n",
      "2115/2115 [==============================] - 4s 2ms/step - loss: 0.2830 - acc: 0.8979 - val_loss: 3.4423 - val_acc: 0.4113\n",
      "Epoch 12/15\n",
      "2115/2115 [==============================] - 4s 2ms/step - loss: 0.2178 - acc: 0.9262 - val_loss: 3.4584 - val_acc: 0.3816\n",
      "Epoch 13/15\n",
      "2115/2115 [==============================] - 4s 2ms/step - loss: 0.1765 - acc: 0.9423 - val_loss: 1.9594 - val_acc: 0.5362\n",
      "Epoch 14/15\n",
      "2115/2115 [==============================] - 4s 2ms/step - loss: 0.1093 - acc: 0.9768 - val_loss: 2.6745 - val_acc: 0.4837\n",
      "Epoch 15/15\n",
      "2115/2115 [==============================] - 4s 2ms/step - loss: 0.0875 - acc: 0.9768 - val_loss: 2.3848 - val_acc: 0.5149\n"
     ]
    }
   ],
   "source": [
    "num_filters = 10\n",
    "model = Sequential()\n",
    "model.add(Conv2D(num_filters, kernel_size=(num_filters,1), activation='relu', data_format='channels_last', input_shape=(data2d.shape[1], data2d.shape[2], data2d.shape[3])))  \n",
    "model.add(Conv2D(num_filters, kernel_size=(15,num_filters), activation='relu') ) \n",
    "model.add(MaxPooling2D(pool_size=(3,1)))\n",
    "model.add(Permute((1,3,2)))\n",
    "\n",
    "model.add(Conv2D(num_filters*2, kernel_size=(10,num_filters), activation='relu')) \n",
    "model.add(MaxPooling2D(pool_size=(3,1)))\n",
    "model.add(Permute((1,3,2)))\n",
    "\n",
    "model.add(Conv2D(num_filters*4, kernel_size=(10,num_filters*2), activation='relu')) \n",
    "model.add(MaxPooling2D(pool_size=(3,1)))\n",
    "model.add(Permute((1,3,2)))\n",
    "\n",
    "model.add(Conv2D(num_filters*8, kernel_size=(10,num_filters*4), activation='relu')) \n",
    "model.add(MaxPooling2D(pool_size=(3,1)))\n",
    "model.add(Reshape((num_filters*8,1)))\n",
    "model.add(LSTM(32, return_sequences=True))\n",
    "model.add(LSTM(32))\n",
    "#model.add(Flatten())\n",
    "model.add(BatchNormalization())\n",
    "model.add(Dense(4, activation='softmax'))\n",
    "model.compile(optimizer = 'adam',\n",
    "             loss = 'categorical_crossentropy',\n",
    "             metrics=['accuracy'])\n",
    "model.summary()\n",
    "hist = model.fit(train_data,train_labels,epochs=15,validation_split=0.25,batch_size=128)\n",
    "#model.test_on_batch(test_data, test_labels)\n"
   ]
  },
  {
   "cell_type": "code",
   "execution_count": 25,
   "metadata": {},
   "outputs": [
    {
     "name": "stdout",
     "output_type": "stream",
     "text": [
      "50/50 [==============================] - 0s 845us/step\n",
      "Test Score: [1.4661457538604736, 0.57999998331069946]\n"
     ]
    },
    {
     "data": {
      "image/png": "[encoded data removed]",
      "text/plain": [
       "<matplotlib.figure.Figure at 0x7f3e80715250>"
      ]
     },
     "metadata": {},
     "output_type": "display_data"
    },
    {
     "data": {
      "image/png": "[encoded data removed]",
      "text/plain": [
       "<matplotlib.figure.Figure at 0x7f3e7eb080d0>"
      ]
     },
     "metadata": {},
     "output_type": "display_data"
    }
   ],
   "source": [
    "test_score = model.evaluate(test_data, test_labels, batch_size=128)\n",
    "print \"Test Score: {}\".format(test_score)\n",
    "plot_hist([hist.history['acc'],hist.history['val_acc']],['Training Accuracy','Val Accuracy'],title='Accuracies')\n",
    "plot_hist([hist.history['loss'],hist.history['val_loss']],['Training Loss','Val Loss'],title='Loss')"
   ]
  },
  {
   "cell_type": "markdown",
   "metadata": {},
   "source": []
  },
  {
   "cell_type": "markdown",
   "metadata": {},
   "source": [
    "deepconvnet with ~*~*more*~*~ batchnorm and reg"
   ]
  },
  {
   "cell_type": "code",
   "execution_count": 31,
   "metadata": {},
   "outputs": [
    {
     "name": "stdout",
     "output_type": "stream",
     "text": [
      "_________________________________________________________________\n",
      "Layer (type)                 Output Shape              Param #   \n",
      "=================================================================\n",
      "conv2d_61 (Conv2D)           (None, 503, 22, 10)       110       \n",
      "_________________________________________________________________\n",
      "conv2d_62 (Conv2D)           (None, 489, 13, 10)       15010     \n",
      "_________________________________________________________________\n",
      "max_pooling2d_49 (MaxPooling (None, 163, 13, 10)       0         \n",
      "_________________________________________________________________\n",
      "batch_normalization_22 (Batc (None, 163, 13, 10)       40        \n",
      "_________________________________________________________________\n",
      "permute_37 (Permute)         (None, 163, 10, 13)       0         \n",
      "_________________________________________________________________\n",
      "conv2d_63 (Conv2D)           (None, 154, 1, 20)        26020     \n",
      "_________________________________________________________________\n",
      "max_pooling2d_50 (MaxPooling (None, 51, 1, 20)         0         \n",
      "_________________________________________________________________\n",
      "batch_normalization_23 (Batc (None, 51, 1, 20)         80        \n",
      "_________________________________________________________________\n",
      "permute_38 (Permute)         (None, 51, 20, 1)         0         \n",
      "_________________________________________________________________\n",
      "conv2d_64 (Conv2D)           (None, 42, 1, 40)         8040      \n",
      "_________________________________________________________________\n",
      "max_pooling2d_51 (MaxPooling (None, 14, 1, 40)         0         \n",
      "_________________________________________________________________\n",
      "batch_normalization_24 (Batc (None, 14, 1, 40)         160       \n",
      "_________________________________________________________________\n",
      "permute_39 (Permute)         (None, 14, 40, 1)         0         \n",
      "_________________________________________________________________\n",
      "conv2d_65 (Conv2D)           (None, 5, 1, 80)          32080     \n",
      "_________________________________________________________________\n",
      "max_pooling2d_52 (MaxPooling (None, 1, 1, 80)          0         \n",
      "_________________________________________________________________\n",
      "reshape_13 (Reshape)         (None, 80, 1)             0         \n",
      "_________________________________________________________________\n",
      "lstm_23 (LSTM)               (None, 80, 32)            4352      \n",
      "_________________________________________________________________\n",
      "lstm_24 (LSTM)               (None, 16)                3136      \n",
      "_________________________________________________________________\n",
      "batch_normalization_25 (Batc (None, 16)                64        \n",
      "_________________________________________________________________\n",
      "dense_13 (Dense)             (None, 4)                 68        \n",
      "=================================================================\n",
      "Total params: 89,160\n",
      "Trainable params: 88,988\n",
      "Non-trainable params: 172\n",
      "_________________________________________________________________\n",
      "Train on 1038 samples, validate on 347 samples\n",
      "Epoch 1/25\n",
      "1038/1038 [==============================] - 5s 5ms/step - loss: 1.4690 - acc: 0.2842 - val_loss: 1.4805 - val_acc: 0.3055\n",
      "Epoch 2/25\n",
      "1038/1038 [==============================] - 2s 2ms/step - loss: 1.3952 - acc: 0.3738 - val_loss: 1.4915 - val_acc: 0.3314\n",
      "Epoch 3/25\n",
      "1038/1038 [==============================] - 2s 2ms/step - loss: 1.2957 - acc: 0.3950 - val_loss: 1.7032 - val_acc: 0.2594\n",
      "Epoch 4/25\n",
      "1038/1038 [==============================] - 2s 2ms/step - loss: 1.1498 - acc: 0.4798 - val_loss: 1.4959 - val_acc: 0.3862\n",
      "Epoch 5/25\n",
      "1038/1038 [==============================] - 2s 2ms/step - loss: 0.9848 - acc: 0.5549 - val_loss: 2.4188 - val_acc: 0.2651\n",
      "Epoch 6/25\n",
      "1038/1038 [==============================] - 2s 2ms/step - loss: 0.8541 - acc: 0.6137 - val_loss: 2.0904 - val_acc: 0.3516\n",
      "Epoch 7/25\n",
      "1038/1038 [==============================] - 2s 2ms/step - loss: 0.6688 - acc: 0.7447 - val_loss: 6.1754 - val_acc: 0.2507\n",
      "Epoch 8/25\n",
      "1038/1038 [==============================] - 2s 2ms/step - loss: 0.5600 - acc: 0.7736 - val_loss: 3.2622 - val_acc: 0.2680\n",
      "Epoch 9/25\n",
      "1038/1038 [==============================] - 2s 2ms/step - loss: 0.5578 - acc: 0.8035 - val_loss: 3.2983 - val_acc: 0.3170\n",
      "Epoch 10/25\n",
      "1038/1038 [==============================] - 2s 2ms/step - loss: 0.4994 - acc: 0.8314 - val_loss: 2.3787 - val_acc: 0.3141\n",
      "Epoch 11/25\n",
      "1038/1038 [==============================] - 2s 2ms/step - loss: 0.4277 - acc: 0.8863 - val_loss: 2.8726 - val_acc: 0.3631\n",
      "Epoch 12/25\n",
      "1038/1038 [==============================] - 2s 2ms/step - loss: 0.4478 - acc: 0.8516 - val_loss: 2.2383 - val_acc: 0.4236\n",
      "Epoch 13/25\n",
      "1038/1038 [==============================] - 2s 2ms/step - loss: 0.3207 - acc: 0.9229 - val_loss: 3.7149 - val_acc: 0.2968\n",
      "Epoch 14/25\n",
      "1038/1038 [==============================] - 2s 2ms/step - loss: 0.2751 - acc: 0.9528 - val_loss: 2.5915 - val_acc: 0.3775\n",
      "Epoch 15/25\n",
      "1038/1038 [==============================] - 2s 2ms/step - loss: 0.2119 - acc: 0.9711 - val_loss: 3.0897 - val_acc: 0.3746\n",
      "Epoch 16/25\n",
      "1038/1038 [==============================] - 2s 2ms/step - loss: 0.1544 - acc: 0.9894 - val_loss: 3.2269 - val_acc: 0.3718\n",
      "Epoch 17/25\n",
      "1038/1038 [==============================] - 2s 2ms/step - loss: 0.1265 - acc: 0.9952 - val_loss: 3.5066 - val_acc: 0.3573\n",
      "Epoch 18/25\n",
      "1038/1038 [==============================] - 2s 2ms/step - loss: 0.1028 - acc: 0.9990 - val_loss: 3.2600 - val_acc: 0.4035\n",
      "Epoch 19/25\n",
      "1038/1038 [==============================] - 2s 2ms/step - loss: 0.0908 - acc: 0.9990 - val_loss: 3.2387 - val_acc: 0.4323\n",
      "Epoch 20/25\n",
      "1038/1038 [==============================] - 2s 2ms/step - loss: 0.0837 - acc: 0.9990 - val_loss: 3.0020 - val_acc: 0.4323\n",
      "Epoch 21/25\n",
      "1038/1038 [==============================] - 2s 2ms/step - loss: 0.0754 - acc: 1.0000 - val_loss: 3.2133 - val_acc: 0.4035\n",
      "Epoch 22/25\n",
      "1038/1038 [==============================] - 2s 2ms/step - loss: 0.0723 - acc: 1.0000 - val_loss: 2.9066 - val_acc: 0.4236\n",
      "Epoch 23/25\n",
      "1038/1038 [==============================] - 2s 2ms/step - loss: 0.0656 - acc: 1.0000 - val_loss: 2.7651 - val_acc: 0.4438\n",
      "Epoch 24/25\n",
      "1038/1038 [==============================] - 2s 2ms/step - loss: 0.0637 - acc: 1.0000 - val_loss: 2.6682 - val_acc: 0.4409\n",
      "Epoch 25/25\n",
      "1038/1038 [==============================] - 2s 2ms/step - loss: 0.0604 - acc: 1.0000 - val_loss: 2.6733 - val_acc: 0.4380\n"
     ]
    }
   ],
   "source": [
    "num_filters = 10\n",
    "model = Sequential()\n",
    "model.add(Conv2D(num_filters, kernel_size=(num_filters,1), activation='relu', data_format='channels_last',input_shape=(data2d.shape[1], data2d.shape[2], data2d.shape[3]), kernel_regularizer=regularizers.l2(0.05)))  \n",
    "model.add(Conv2D(num_filters, kernel_size=(15,num_filters), activation='relu') ) \n",
    "model.add(MaxPooling2D(pool_size=(3,1)))\n",
    "model.add(BatchNormalization())\n",
    "model.add(Permute((1,3,2)))\n",
    "\n",
    "model.add(Conv2D(num_filters*2, kernel_size=(10,num_filters), activation='relu', kernel_regularizer=regularizers.l2(0.05))) \n",
    "model.add(MaxPooling2D(pool_size=(3,1)))\n",
    "model.add(BatchNormalization())\n",
    "model.add(Permute((1,3,2)))\n",
    "\n",
    "model.add(Conv2D(num_filters*4, kernel_size=(10,num_filters*2), activation='relu', )) \n",
    "model.add(MaxPooling2D(pool_size=(3,1)))\n",
    "model.add(BatchNormalization())\n",
    "model.add(Permute((1,3,2)))\n",
    "\n",
    "model.add(Conv2D(num_filters*8, kernel_size=(10,num_filters*4), activation='relu')) \n",
    "model.add(MaxPooling2D(pool_size=(3,1)))\n",
    "model.add(Reshape((num_filters*8,1)))\n",
    "model.add(LSTM(32, return_sequences=True))\n",
    "model.add(LSTM(16))\n",
    "#model.add(Flatten())\n",
    "model.add(BatchNormalization())\n",
    "model.add(Dense(4, activation='softmax'))\n",
    "model.compile(optimizer = 'adam',\n",
    "             loss = 'categorical_crossentropy',\n",
    "             metrics=['accuracy'])\n",
    "model.summary()\n",
    "hist = model.fit(train_data,train_labels,epochs=15,validation_split=0.25,batch_size=128)\n",
    "#model.test_on_batch(test_data, test_labels)\n"
   ]
  },
  {
   "cell_type": "code",
   "execution_count": null,
   "metadata": {},
   "outputs": [],
   "source": []
  }
 ],
 "metadata": {
  "kernelspec": {
   "display_name": "Python 2",
   "language": "python",
   "name": "python2"
  },
  "language_info": {
   "codemirror_mode": {
    "name": "ipython",
    "version": 2
   },
   "file_extension": ".py",
   "mimetype": "text/x-python",
   "name": "python",
   "nbconvert_exporter": "python",
   "pygments_lexer": "ipython2",
   "version": "2.7.12"
  }
 },
 "nbformat": 4,
 "nbformat_minor": 2
}
