{
 "cells": [
  {
   "cell_type": "code",
   "execution_count": 9,
   "metadata": {
    "scrolled": true
   },
   "outputs": [
    {
     "name": "stdout",
     "output_type": "stream",
     "text": [
      "(287, 22, 1000)\n"
     ]
    }
   ],
   "source": [
    "import numpy as np\n",
    "import h5py\n",
    "import tensorflow as tf\n",
    "import matplotlib.pyplot as plt\n",
    "import UtilNNDL as util\n",
    "\n",
    "from keras.models import Sequential\n",
    "from keras.layers import Dense, Permute\n",
    "from keras.layers import ConvLSTM2D, Conv2D, MaxPooling2D\n",
    "from keras.layers import MaxPooling1D, Conv1D\n",
    "from keras.layers import GRU, LSTM, BatchNormalization\n",
    "from keras.layers import TimeDistributed\n",
    "from keras.layers import Flatten, Reshape\n",
    "from keras.utils import to_categorical\n",
    "from keras.layers import Activation\n",
    "from UtilNNDL import plot_hist\n",
    "\n",
    "folder = '/home/carla/Downloads/project_datasets/project_datasets/'\n",
    "#folder = 'datasets/'\n",
    "A01T = h5py.File(folder+'A01T_slice.mat','r')\n",
    "data = np.copy(A01T['image'])\n",
    "labels = np.copy(A01T['type'])\n",
    "labels = labels[0,0:data.shape[0]:1]\n",
    "labels = np.asarray(labels, dtype=np.int32)\n",
    "\n",
    "a = data[:56]\n",
    "b = data[57:]\n",
    "data = np.vstack((a,b))\n",
    "data = data[:,:22,:]\n",
    "a = labels[:56]\n",
    "b = labels[57:]\n",
    "labels = np.hstack((a,b))\n",
    "print data.shape"
   ]
  },
  {
   "cell_type": "code",
   "execution_count": 3,
   "metadata": {},
   "outputs": [
    {
     "name": "stdout",
     "output_type": "stream",
     "text": [
      "(2870, 22, 512) (2870,)\n",
      "(2870, 512, 22, 1)\n",
      "(2870, 4)\n"
     ]
    }
   ],
   "source": [
    "data2d_sliced, labels_sliced = util.create_window_data(data, labels)\n",
    "#util.plot_hist(data2d_sliced)\n",
    "print data2d_sliced.shape, labels_sliced.shape\n",
    "data2d = data2d_sliced.reshape(data2d_sliced.shape[0], data2d_sliced.shape[2], data2d_sliced.shape[1], 1)\n",
    "print data2d.shape\n",
    "\n",
    "#enc = OneHotEncoder()\n",
    "#enc_labels = enc.fit_transform(labels.reshape(-1,1)).toarray()\n",
    "enc_labels = to_categorical(labels_sliced-769, num_classes=4)\n",
    "print(enc_labels.shape)"
   ]
  },
  {
   "cell_type": "code",
   "execution_count": 5,
   "metadata": {},
   "outputs": [
    {
     "name": "stdout",
     "output_type": "stream",
     "text": [
      "(2870, 512, 22, 1)\n",
      "(2820, 512, 22, 1)\n",
      "(50, 512, 22, 1)\n"
     ]
    }
   ],
   "source": [
    "bs, t, n, c = data2d.shape\n",
    "np.random.seed(42)\n",
    "shuffle = np.random.choice(bs,bs,replace=False)\n",
    "\n",
    "#mask = np.ones_like(data)\n",
    "#mask[[:,:,21:24]] = True\n",
    "#newdata = data[mask]\n",
    "#np.delete(mask, :,:,24)\n",
    "train_samples = bs - 50\n",
    "train_data = data2d[shuffle[:train_samples],:,:]\n",
    "train_labels = enc_labels[shuffle[:train_samples]]\n",
    "test_data = data2d[shuffle[train_samples:],:,:]\n",
    "test_labels = enc_labels[shuffle[train_samples:]]\n",
    "print data2d.shape\n",
    "print train_data.shape\n",
    "print test_data.shape"
   ]
  },
  {
   "cell_type": "markdown",
   "metadata": {},
   "source": [
    "# TESTING\n"
   ]
  },
  {
   "cell_type": "code",
   "execution_count": 8,
   "metadata": {},
   "outputs": [
    {
     "name": "stdout",
     "output_type": "stream",
     "text": [
      "_________________________________________________________________\n",
      "Layer (type)                 Output Shape              Param #   \n",
      "=================================================================\n",
      "conv2d_16 (Conv2D)           (None, 503, 22, 10)       110       \n",
      "_________________________________________________________________\n",
      "conv2d_17 (Conv2D)           (None, 489, 13, 10)       15010     \n",
      "_________________________________________________________________\n",
      "max_pooling2d_13 (MaxPooling (None, 163, 13, 10)       0         \n",
      "_________________________________________________________________\n",
      "permute_10 (Permute)         (None, 163, 10, 13)       0         \n",
      "_________________________________________________________________\n",
      "conv2d_18 (Conv2D)           (None, 154, 1, 20)        26020     \n",
      "_________________________________________________________________\n",
      "max_pooling2d_14 (MaxPooling (None, 51, 1, 20)         0         \n",
      "_________________________________________________________________\n",
      "permute_11 (Permute)         (None, 51, 20, 1)         0         \n",
      "_________________________________________________________________\n",
      "conv2d_19 (Conv2D)           (None, 42, 1, 40)         8040      \n",
      "_________________________________________________________________\n",
      "max_pooling2d_15 (MaxPooling (None, 14, 1, 40)         0         \n",
      "_________________________________________________________________\n",
      "permute_12 (Permute)         (None, 14, 40, 1)         0         \n",
      "_________________________________________________________________\n",
      "conv2d_20 (Conv2D)           (None, 5, 1, 80)          32080     \n",
      "_________________________________________________________________\n",
      "max_pooling2d_16 (MaxPooling (None, 1, 1, 80)          0         \n",
      "_________________________________________________________________\n",
      "reshape_4 (Reshape)          (None, 80, 1)             0         \n",
      "_________________________________________________________________\n",
      "lstm_7 (LSTM)                (None, 80, 32)            4352      \n",
      "_________________________________________________________________\n",
      "lstm_8 (LSTM)                (None, 16)                3136      \n",
      "_________________________________________________________________\n",
      "batch_normalization_4 (Batch (None, 16)                64        \n",
      "_________________________________________________________________\n",
      "dense_4 (Dense)              (None, 4)                 68        \n",
      "=================================================================\n",
      "Total params: 88,880\n",
      "Trainable params: 88,848\n",
      "Non-trainable params: 32\n",
      "_________________________________________________________________\n",
      "Train on 2115 samples, validate on 705 samples\n",
      "Epoch 1/10\n",
      "2115/2115 [==============================] - 16s 7ms/step - loss: 1.3305 - acc: 0.3314 - val_loss: 1.1266 - val_acc: 0.4567\n",
      "Epoch 2/10\n",
      "2115/2115 [==============================] - 14s 7ms/step - loss: 1.0918 - acc: 0.4662 - val_loss: 1.0622 - val_acc: 0.4695\n",
      "Epoch 3/10\n",
      "2115/2115 [==============================] - 14s 7ms/step - loss: 1.0274 - acc: 0.5017 - val_loss: 1.6825 - val_acc: 0.3716\n",
      "Epoch 4/10\n",
      "2115/2115 [==============================] - 14s 7ms/step - loss: 0.9688 - acc: 0.5314 - val_loss: 1.6384 - val_acc: 0.3489\n",
      "Epoch 5/10\n",
      "2115/2115 [==============================] - 14s 7ms/step - loss: 0.8952 - acc: 0.5801 - val_loss: 1.0516 - val_acc: 0.5106\n",
      "Epoch 6/10\n",
      "2115/2115 [==============================] - 14s 7ms/step - loss: 0.8329 - acc: 0.6165 - val_loss: 3.3180 - val_acc: 0.2794\n",
      "Epoch 7/10\n",
      "2115/2115 [==============================] - 14s 7ms/step - loss: 0.7476 - acc: 0.6771 - val_loss: 1.4228 - val_acc: 0.4482\n",
      "Epoch 8/10\n",
      "2115/2115 [==============================] - 14s 7ms/step - loss: 0.7026 - acc: 0.7031 - val_loss: 1.3997 - val_acc: 0.4922\n",
      "Epoch 9/10\n",
      "2115/2115 [==============================] - 14s 7ms/step - loss: 0.6244 - acc: 0.7433 - val_loss: 2.2682 - val_acc: 0.3745\n",
      "Epoch 10/10\n",
      "2115/2115 [==============================] - 14s 7ms/step - loss: 0.6378 - acc: 0.7400 - val_loss: 0.9992 - val_acc: 0.5887\n"
     ]
    }
   ],
   "source": [
    "num_filters = 10\n",
    "model = Sequential()\n",
    "model.add(Conv2D(num_filters, kernel_size=(num_filters,1), activation='relu', data_format='channels_last', input_shape=(data2d.shape[1], data2d.shape[2], data2d.shape[3])))  \n",
    "model.add(Conv2D(num_filters, kernel_size=(15,num_filters), activation='relu') ) \n",
    "model.add(MaxPooling2D(pool_size=(3,1)))\n",
    "model.add(Permute((1,3,2)))\n",
    "\n",
    "model.add(Conv2D(num_filters*2, kernel_size=(10,num_filters), activation='relu') ) \n",
    "model.add(MaxPooling2D(pool_size=(3,1)))\n",
    "model.add(Permute((1,3,2)))\n",
    "\n",
    "model.add(Conv2D(num_filters*4, kernel_size=(10,num_filters*2), activation='relu') ) \n",
    "model.add(MaxPooling2D(pool_size=(3,1)))\n",
    "model.add(Permute((1,3,2)))\n",
    "\n",
    "model.add(Conv2D(num_filters*8, kernel_size=(10,num_filters*4), activation='relu') ) \n",
    "model.add(MaxPooling2D(pool_size=(3,1)))\n",
    "model.add(Reshape((num_filters*8,1)))\n",
    "model.add(LSTM(32, return_sequences=True))\n",
    "model.add(LSTM(16))\n",
    "#model.add(Flatten())\n",
    "model.add(BatchNormalization())\n",
    "model.add(Dense(4, activation='softmax'))\n",
    "model.compile(optimizer = 'adam',\n",
    "             loss = 'categorical_crossentropy',\n",
    "             metrics=['accuracy'])\n",
    "model.summary()\n",
    "hist = model.fit(train_data,train_labels,epochs=10,validation_split=0.25,batch_size=32)\n",
    "#model.test_on_batch(test_data, test_labels)\n"
   ]
  },
  {
   "cell_type": "code",
   "execution_count": 10,
   "metadata": {},
   "outputs": [
    {
     "name": "stdout",
     "output_type": "stream",
     "text": [
      "50/50 [==============================] - 0s 2ms/step\n",
      "Test Score: [1.1651708555221558, 0.54000000953674321]\n"
     ]
    },
    {
     "data": {
      "image/png": "[encoded data removed]",
      "text/plain": [
       "<matplotlib.figure.Figure at 0x7fd930ebfa10>"
      ]
     },
     "metadata": {},
     "output_type": "display_data"
    },
    {
     "data": {
      "image/png": "[encoded data removed]",
      "text/plain": [
       "<matplotlib.figure.Figure at 0x7fd92ada25d0>"
      ]
     },
     "metadata": {},
     "output_type": "display_data"
    }
   ],
   "source": [
    "test_score = model.evaluate(test_data, test_labels, batch_size=32)\n",
    "print \"Test Score: {}\".format(test_score)\n",
    "plot_hist([hist.history['acc'],hist.history['val_acc']],['Training Accuracy','Val Accuracy'],title='Accuracies')\n",
    "plot_hist([hist.history['loss'],hist.history['val_loss']],['Training Loss','Val Loss'],title='Loss')"
   ]
  },
  {
   "cell_type": "markdown",
   "metadata": {},
   "source": []
  },
  {
   "cell_type": "code",
   "execution_count": null,
   "metadata": {},
   "outputs": [],
   "source": []
  }
 ],
 "metadata": {
  "kernelspec": {
   "display_name": "Python 2",
   "language": "python",
   "name": "python2"
  },
  "language_info": {
   "codemirror_mode": {
    "name": "ipython",
    "version": 2
   },
   "file_extension": ".py",
   "mimetype": "text/x-python",
   "name": "python",
   "nbconvert_exporter": "python",
   "pygments_lexer": "ipython2",
   "version": "2.7.12"
  }
 },
 "nbformat": 4,
 "nbformat_minor": 2
}
