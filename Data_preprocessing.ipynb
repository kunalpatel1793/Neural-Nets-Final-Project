{
 "cells": [
  {
   "cell_type": "code",
   "execution_count": 1,
   "metadata": {
    "scrolled": true
   },
   "outputs": [
    {
     "ename": "RuntimeError",
     "evalue": "module compiled against API version 0xb but this version of numpy is 0xa",
     "output_type": "error",
     "traceback": [
      "\u001b[0;31m---------------------------------------------------------------------------\u001b[0m",
      "\u001b[0;31mRuntimeError\u001b[0m                              Traceback (most recent call last)",
      "\u001b[0;31mRuntimeError\u001b[0m: module compiled against API version 0xb but this version of numpy is 0xa"
     ]
    },
    {
     "ename": "RuntimeError",
     "evalue": "module compiled against API version 0xb but this version of numpy is 0xa",
     "output_type": "error",
     "traceback": [
      "\u001b[0;31m---------------------------------------------------------------------------\u001b[0m",
      "\u001b[0;31mRuntimeError\u001b[0m                              Traceback (most recent call last)",
      "\u001b[0;31mRuntimeError\u001b[0m: module compiled against API version 0xb but this version of numpy is 0xa"
     ]
    },
    {
     "name": "stderr",
     "output_type": "stream",
     "text": [
      "Using TensorFlow backend.\n"
     ]
    }
   ],
   "source": [
    "import numpy as np\n",
    "import h5py\n",
    "import tensorflow as tf\n",
    "import matplotlib.pyplot as plt\n",
    "\n",
    "import keras\n",
    "from keras.models import Sequential\n",
    "from keras.layers import Dense \n",
    "from keras.layers import LSTM\n",
    "from keras.layers import Flatten\n",
    "from keras.utils import to_categorical\n",
    "from keras.layers import Activation\n",
    "from keras.layers import Dropout\n",
    "from keras.layers import Convolution2D\n",
    "from keras.layers import BatchNormalization\n",
    "from keras.layers import MaxPooling2D\n",
    "\n",
    "import kapre \n",
    "from kapre.time_frequency import Spectrogram\n",
    "\n",
    "from mpl_toolkits.mplot3d import Axes3D\n",
    "%matplotlib inline\n",
    "import matplotlib.pyplot as plt\n",
    "plt.style.use('ggplot')\n",
    "from datetime import datetime\n",
    "now = datetime.now()\n",
    "import librosa\n",
    "from librosa import display\n",
    "\n",
    "import scipy\n",
    "from scipy import signal\n",
    "from itertools import islice\n",
    "import pandas as pd\n",
    "\n",
    "from UtilNNDL import bandpass_cnt\n",
    "from UtilNNDL import exponential_running_standardize"
   ]
  },
  {
   "cell_type": "code",
   "execution_count": 2,
   "metadata": {},
   "outputs": [
    {
     "name": "stdout",
     "output_type": "stream",
     "text": [
      "(288, 22, 1000)\n",
      "(288,)\n"
     ]
    }
   ],
   "source": [
    "#import the data\n",
    "A01T = h5py.File('/home/carla/Downloads/project_datasets/project_datasets/A01T_slice.mat','r')\n",
    "data = np.copy(A01T['image'])\n",
    "labels = np.copy(A01T['type'])\n",
    "labels = labels[0,0:data.shape[0]:1]\n",
    "labels = np.asarray(labels, dtype=np.int32)\n",
    "\n",
    "#for STFT we DO NOT swap the axes \n",
    "#data = np.swapaxes(data, 1,2)\n",
    "data = data[:,:22,:]\n",
    "\n",
    "#check the data dimensionality\n",
    "print data.shape\n",
    "print labels.shape"
   ]
  },
  {
   "cell_type": "code",
   "execution_count": 5,
   "metadata": {},
   "outputs": [],
   "source": [
    "data_mv = data*(1e6)"
   ]
  },
  {
   "cell_type": "code",
   "execution_count": 8,
   "metadata": {},
   "outputs": [
    {
     "name": "stdout",
     "output_type": "stream",
     "text": [
      "(288, 22, 1000)\n"
     ]
    }
   ],
   "source": [
    "print data_mv.shape \n",
    "data_bp = bandpass_cnt(data_mv, 4, 38, 250, filt_order=3,axis=1)"
   ]
  },
  {
   "cell_type": "code",
   "execution_count": 7,
   "metadata": {},
   "outputs": [
    {
     "name": "stdout",
     "output_type": "stream",
     "text": [
      "(288, 22, 1000)\n"
     ]
    }
   ],
   "source": [
    "data_standardized = np.zeros_like(data)\n",
    "for i in range(data.shape[0]):\n",
    "    data_standardized[i] = exponential_running_standardize(data_bp[i].T, factor_new=0.001, init_block_size=1000, eps=1e-4).T\n",
    "print data_standardized.shape"
   ]
  },
  {
   "cell_type": "code",
   "execution_count": 21,
   "metadata": {},
   "outputs": [],
   "source": [
    "data_standardized = exponential_running_standardize(data[0].T, factor_new=0.001, init_block_size=None, eps=1e-4).T"
   ]
  },
  {
   "cell_type": "code",
   "execution_count": 22,
   "metadata": {},
   "outputs": [
    {
     "data": {
      "text/plain": [
       "False"
      ]
     },
     "execution_count": 22,
     "metadata": {},
     "output_type": "execute_result"
    }
   ],
   "source": [
    "np.array_equal(data_standardized_1000, data_standardized)"
   ]
  },
  {
   "cell_type": "code",
   "execution_count": 142,
   "metadata": {},
   "outputs": [
    {
     "name": "stdout",
     "output_type": "stream",
     "text": [
      "(288, 22, 24)\n",
      "(288, 22, 1000)\n",
      "(288, 22, 1024)\n"
     ]
    }
   ],
   "source": [
    "#Experimental, try adding 24 zeros the the end of the matrix such that the shape is the same as in the paper\n",
    "buf = np.zeros([288,22,24])\n",
    "print buf.shape \n",
    "print data.shape\n",
    "databuf = np.concatenate([data,buf],axis=2)\n",
    "print databuf.shape"
   ]
  },
  {
   "cell_type": "code",
   "execution_count": 143,
   "metadata": {},
   "outputs": [
    {
     "name": "stdout",
     "output_type": "stream",
     "text": [
      "(287, 22, 1000)\n",
      "(287,)\n"
     ]
    }
   ],
   "source": [
    "# Check min and max values\n",
    "data = np.delete(data,56,0)\n",
    "labels = np.delete(labels,56,0)\n",
    "print data.shape\n",
    "print labels.shape"
   ]
  },
  {
   "cell_type": "code",
   "execution_count": 60,
   "metadata": {},
   "outputs": [
    {
     "data": {
      "text/plain": [
       "[<matplotlib.lines.Line2D at 0x7f4a45629f90>]"
      ]
     },
     "execution_count": 60,
     "metadata": {},
     "output_type": "execute_result"
    },
    {
     "data": {
      "image/png": "[encoded data removed]",
      "text/plain": [
       "<matplotlib.figure.Figure at 0x7f4a45629290>"
      ]
     },
     "metadata": {},
     "output_type": "display_data"
    }
   ],
   "source": [
    "#Notch filter\n",
    "fs = 250.0\n",
    "f0 = 120.0\n",
    "Q = 30.0\n",
    "w0 = f0/(fs/2)\n",
    "b,a = signal.iirnotch(w0, Q)\n",
    "\n",
    "#data_f = signal.filtfilt(b,a,data[0])\n",
    "data_f = signal.lfilter(b,a,data)\n",
    "\n",
    "#plt.plot(data[0,0])\n",
    "#plt.plot(data_f[0,0])\n",
    "\n",
    "#Highpass filter\n",
    "fs = 250.0\n",
    "f0 =0.5\n",
    "w0 = f0/(fs/2)\n",
    "b, a = signal.butter(2, w0, 'highpass')\n",
    "data_f = signal.lfilter(b,a,data_f)\n",
    "plt.clf\n",
    "#plt.plot(data[0,0])\n",
    "#plt.plot(data_f[0,0])\n",
    "\n",
    "#Bandpass filter\n",
    "fs = 250.0\n",
    "f0 =2\n",
    "f1 =60\n",
    "w0 = f0/(fs/2)\n",
    "w1 = f1/(fs/2)\n",
    "b, a = signal.butter(5, [w0,w1], 'bandpass')\n",
    "data_f = signal.lfilter(b,a,data_f)\n",
    "plt.clf\n",
    "plt.plot(data[0,0])\n",
    "plt.plot(data_f[0,0])"
   ]
  },
  {
   "cell_type": "code",
   "execution_count": 144,
   "metadata": {},
   "outputs": [
    {
     "name": "stdout",
     "output_type": "stream",
     "text": [
      "56.451272267\n",
      "-44.2992766159\n",
      "-0.00209444847932\n",
      "7.69432964724\n",
      "46.1638834349\n",
      "-44.2992766159\n"
     ]
    }
   ],
   "source": [
    "#Clip the input data to be within 6 stds of the mean\n",
    "print np.max(data_f)\n",
    "print np.min(data_f)\n",
    "mean = np.mean(data_f)\n",
    "std = np.std(data_f)\n",
    "data_clip = np.clip(data_f, mean-(6*std), mean+(6*std))\n",
    "print mean\n",
    "print std\n",
    "print np.max(data_clip)\n",
    "print np.min(data_clip)"
   ]
  },
  {
   "cell_type": "code",
   "execution_count": 70,
   "metadata": {},
   "outputs": [
    {
     "name": "stdout",
     "output_type": "stream",
     "text": [
      "(22, 1000)\n"
     ]
    }
   ],
   "source": [
    "#Finally normalize the data for each session\n",
    "mean = np.mean(data_f, axis=0)\n",
    "\n",
    "print mean.shape "
   ]
  },
  {
   "cell_type": "code",
   "execution_count": 160,
   "metadata": {},
   "outputs": [
    {
     "name": "stdout",
     "output_type": "stream",
     "text": [
      "(1000,)\n",
      "(5, 512)\n",
      "(287,)\n",
      "(31570,)\n"
     ]
    }
   ],
   "source": [
    "n=512\n",
    "data_slice = np.array(zip(*[islice(data[0,0],i,None) for i in range(n)]))[::122]\n",
    "print data[0,0].shape \n",
    "print data_slice.shape\n",
    "label_sliced_all  = np.repeat(labels, 110)\n",
    "print labels.shape\n",
    "print label_sliced_all.shape"
   ]
  },
  {
   "cell_type": "code",
   "execution_count": 165,
   "metadata": {
    "scrolled": true
   },
   "outputs": [
    {
     "name": "stdout",
     "output_type": "stream",
     "text": [
      "0\n",
      "1\n",
      "(2, 110, 512)\n"
     ]
    }
   ],
   "source": [
    "#incorrect version of slicing saved just incase \n",
    "data_sliced_all = np.zeros([287,110,512])\n",
    "for j in range(0,data.shape[0]):\n",
    "    print j\n",
    "    data_sliced = []\n",
    "    for e in range(0,data.shape[1]):\n",
    "        data_slice = np.array(zip(*[islice(data[j,e],i,None) for i in range(n)]))[::122]\n",
    "        if e == 0:\n",
    "            data_sliced = data_slice\n",
    "        else:\n",
    "            data_sliced = np.vstack([data_sliced, data_slice])\n",
    "    data_sliced_all[j] = data_sliced \n",
    "    \n",
    "print data_sliced_all.shape"
   ]
  },
  {
   "cell_type": "code",
   "execution_count": 192,
   "metadata": {},
   "outputs": [
    {
     "name": "stdout",
     "output_type": "stream",
     "text": [
      "54\n",
      "(2870, 22, 512)\n",
      "(2870,)\n"
     ]
    }
   ],
   "source": [
    "#interwoven slicing\n",
    "windows = 10\n",
    "window_size = 512\n",
    "step = int(float(data.shape[2]-window_size)/float(windows-1))\n",
    "print step\n",
    "data_sliced = np.zeros([data.shape[0]*windows,data.shape[1],window_size])\n",
    "for t in range(data.shape[0]):\n",
    "    for w in range(windows):\n",
    "        data_slice = data[t,:,(w*step):window_size+(w*step)]\n",
    "        data_sliced[(t*windows)+w] = data_slice\n",
    "               \n",
    "print data_sliced.shape \n",
    "label_sliced  = np.repeat(labels, windows)\n",
    "print label_sliced.shape "
   ]
  },
  {
   "cell_type": "code",
   "execution_count": 45,
   "metadata": {},
   "outputs": [
    {
     "name": "stdout",
     "output_type": "stream",
     "text": [
      "[3 2 1 0 0 1 2 3 1 2 0 0 0 3 1 1 0 0 2 0 1 3 3 2 0 3 3 1 3 3 1 0 1 2 2 2 3\n",
      " 2 0 3 1 2 1 2 3 1 2 0 0 0 3 1 0 2 0 2 1 3 0 2 2 0 2 1 3 3 3 2 0 3 1 3 1 0\n",
      " 2 1 0 2 2 0 2 3 3 1 0 1 3 1 3 2 1 1 1 2 3 0 1 3 0 2 2 3 0 0 2 1 3 3 3 1 0\n",
      " 2 1 3 0 3 2 1 3 3 0 1 1 2 3 1 0 0 3 1 0 2 1 1 2 0 3 2 2 2 2 0 1 0 1 0 0 2\n",
      " 2 1 2 3 0 3 0 0 1 3 2 1 3 2 3 2 3 1 1 3 0 1 1 1 2 3 0 3 0 2 0 3 0 2 0 1 2\n",
      " 2 3 0 1 3 1 2 2 0 3 1 3 0 0 2 2 1 3 1 1 0 1 3 3 1 1 1 1 3 3 2 3 0 1 2 1 0\n",
      " 3 0 3 0 0 0 0 2 2 3 1 2 2 2 3 2 0 2 0 3 1 3 3 2 3 3 2 1 3 2 0 1 1 1 2 1 3\n",
      " 2 3 1 2 0 3 0 2 3 0 2 0 1 1 0 3 0 3 2 2 0 2 1 1 0 2 0 1 0]\n",
      "[[ 0.  0.  0.  1.]\n",
      " [ 0.  0.  1.  0.]\n",
      " [ 0.  1.  0.  0.]\n",
      " ..., \n",
      " [ 1.  0.  0.  0.]\n",
      " [ 0.  1.  0.  0.]\n",
      " [ 1.  0.  0.  0.]]\n"
     ]
    }
   ],
   "source": [
    "#one-hot-encode the data for use with categorical_crossentropy\n",
    "labels_cata = labels - 769\n",
    "print labels_cata\n",
    "labels_cata = to_categorical(labels_cata, num_classes=4)\n",
    "print labels_cata"
   ]
  },
  {
   "cell_type": "code",
   "execution_count": null,
   "metadata": {},
   "outputs": [],
   "source": []
  }
 ],
 "metadata": {
  "kernelspec": {
   "display_name": "Python 2",
   "language": "python",
   "name": "python2"
  },
  "language_info": {
   "codemirror_mode": {
    "name": "ipython",
    "version": 2
   },
   "file_extension": ".py",
   "mimetype": "text/x-python",
   "name": "python",
   "nbconvert_exporter": "python",
   "pygments_lexer": "ipython2",
   "version": "2.7.12"
  }
 },
 "nbformat": 4,
 "nbformat_minor": 2
}
