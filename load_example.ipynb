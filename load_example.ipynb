{
 "cells": [
  {
   "cell_type": "code",
   "execution_count": 1,
   "metadata": {},
   "outputs": [
    {
     "name": "stderr",
     "output_type": "stream",
     "text": [
      "Using TensorFlow backend.\n"
     ]
    },
    {
     "name": "stdout",
     "output_type": "stream",
     "text": [
      "./Best Models/Variables/\n"
     ]
    }
   ],
   "source": [
    "import os\n",
    "import numpy as np\n",
    "from UtilNNDL import *\n",
    "\"\"\"\n",
    "def load_all_data(file_path = \"./Best Models/Variables/\"):\n",
    "    res = {}\n",
    "    files = os.listdir(file_path)\n",
    "    for f in files:\n",
    "        name = f[:-4]\n",
    "        var = np.load(file_path+f)\n",
    "        tokens = name.split('_')\n",
    "        dataset = '_'.join(tokens[2:])\n",
    "        if tokens[1] not in res.keys(): res[tokens[1]] = {}\n",
    "        if tokens[0] not in res[tokens[1]].keys(): res[tokens[1]][tokens[0]]={}\n",
    "        if dataset not in res[tokens[1]][tokens[0]].keys(): res[tokens[1]][tokens[0]][dataset] = var\n",
    "        else: print(\"Files Overlapped halp\")\n",
    "\n",
    "    return res\n",
    "\"\"\"\n",
    "res = load_all_data()"
   ]
  },
  {
   "cell_type": "code",
   "execution_count": 29,
   "metadata": {},
   "outputs": [
    {
     "data": {
      "text/plain": [
       "array([[[114,   7,   9,   0],\n",
       "        [ 23,  96,   1,   0],\n",
       "        [  7,   6,  90,  27],\n",
       "        [ 11,   3,  29,  77]],\n",
       "\n",
       "       [[ 39,  14,  36,  31],\n",
       "        [ 46,  38,  20,  36],\n",
       "        [ 24,   4,  84,  18],\n",
       "        [ 35,   0,   8,  67]],\n",
       "\n",
       "       [[ 96,  11,  11,   2],\n",
       "        [ 13,  75,   6,  26],\n",
       "        [ 23,   4,  93,  10],\n",
       "        [ 21,   1,  30,  78]],\n",
       "\n",
       "       [[ 65,   6,  44,  15],\n",
       "        [ 40,  47,  28,   5],\n",
       "        [ 21,  15,  57,  27],\n",
       "        [ 11,  15,  48,  56]],\n",
       "\n",
       "       [[ 43,   8,  27,  42],\n",
       "        [  7,  32,  22,  69],\n",
       "        [  5,   3,  68,  54],\n",
       "        [  9,   4,  27,  80]],\n",
       "\n",
       "       [[ 91,  17,   3,   9],\n",
       "        [ 55,  39,  17,  19],\n",
       "        [ 17,  10,  52,  41],\n",
       "        [ 31,  19,  21,  59]],\n",
       "\n",
       "       [[ 83,  29,   6,   2],\n",
       "        [ 22,  96,   8,   4],\n",
       "        [ 22,  17,  66,  25],\n",
       "        [ 14,   5,  50,  51]],\n",
       "\n",
       "       [[ 40,   1,  45,  24],\n",
       "        [  4,  56,  53,  17],\n",
       "        [ 12,   6,  89,  23],\n",
       "        [  5,  20,  44,  61]],\n",
       "\n",
       "       [[ 46,  40,  24,  20],\n",
       "        [ 10,  30,  22,  68],\n",
       "        [ 28,  28,  20,  54],\n",
       "        [  9,  28,  19,  54]]])"
      ]
     },
     "execution_count": 29,
     "metadata": {},
     "output_type": "execute_result"
    }
   ],
   "source": [
    "res['conf']['ChronoNet']['All']"
   ]
  }
 ],
 "metadata": {
  "kernelspec": {
   "display_name": "Python 2",
   "language": "python",
   "name": "python2"
  },
  "language_info": {
   "codemirror_mode": {
    "name": "ipython",
    "version": 2
   },
   "file_extension": ".py",
   "mimetype": "text/x-python",
   "name": "python",
   "nbconvert_exporter": "python",
   "pygments_lexer": "ipython2",
   "version": "2.7.12"
  }
 },
 "nbformat": 4,
 "nbformat_minor": 2
}
