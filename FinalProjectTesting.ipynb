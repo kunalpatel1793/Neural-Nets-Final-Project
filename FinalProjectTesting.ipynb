{
 "cells": [
  {
   "cell_type": "code",
   "execution_count": 1,
   "metadata": {
    "scrolled": true
   },
   "outputs": [
    {
     "name": "stderr",
     "output_type": "stream",
     "text": [
      "/usr/local/lib/python2.7/dist-packages/h5py/__init__.py:36: FutureWarning: Conversion of the second argument of issubdtype from `float` to `np.floating` is deprecated. In future, it will be treated as `np.float64 == np.dtype(float).type`.\n",
      "  from ._conv import register_converters as _register_converters\n"
     ]
    }
   ],
   "source": [
    "import numpy as np\n",
    "import h5py\n",
    "import tensorflow as tf\n",
    "import matplotlib.pyplot as plt"
   ]
  },
  {
   "cell_type": "code",
   "execution_count": 2,
   "metadata": {},
   "outputs": [],
   "source": [
    "A01T = h5py.File('datasets/A01T_slice.mat','r')\n",
    "data = np.copy(A01T['image'])\n",
    "labels = np.copy(A01T['type'])\n",
    "labels = labels[0,0:data.shape[0]:1]\n",
    "labels = np.asarray(labels, dtype=np.int32)"
   ]
  },
  {
   "cell_type": "code",
   "execution_count": 3,
   "metadata": {},
   "outputs": [
    {
     "name": "stdout",
     "output_type": "stream",
     "text": [
      "(288, 25, 313)\n"
     ]
    }
   ],
   "source": [
    "print data.shape"
   ]
  },
  {
   "cell_type": "code",
   "execution_count": 4,
   "metadata": {},
   "outputs": [],
   "source": [
    "num_in = 10\n",
    "num_hidden = 50\n",
    "\n",
    "x = tf.placeholder(tf.float32)\n",
    "W = tf.placeholder(tf.float32)\n",
    "b = tf.placeholder(tf.float32)\n",
    "\n",
    "z = tf.matmul(W,x) + b\n",
    "h = tf.maximum(z, tf.zeros(num_hidden))\n",
    "loss = tf.pow(tf.reduce_sum(h)-1,2)"
   ]
  },
  {
   "cell_type": "code",
   "execution_count": 5,
   "metadata": {},
   "outputs": [
    {
     "name": "stdout",
     "output_type": "stream",
     "text": [
      "Tensor(\"Maximum:0\", dtype=float32)\n"
     ]
    }
   ],
   "source": [
    "grad_x, grad_W, grad_b = tf.gradients(loss, [x,W,b])\n",
    "print h"
   ]
  },
  {
   "cell_type": "code",
   "execution_count": 6,
   "metadata": {},
   "outputs": [],
   "source": [
    "with tf.Session() as sess:\n",
    "    values = {\n",
    "        x: np.random.randn(num_in, 1),\n",
    "        W: np.random.randn(num_hidden, num_in),\n",
    "        b: np.random.randn(num_hidden)\n",
    "    }\n",
    "    out  = sess.run([h, grad_x, grad_W, grad_b], feed_dict=values)"
   ]
  },
  {
   "cell_type": "code",
   "execution_count": 7,
   "metadata": {},
   "outputs": [
    {
     "name": "stdout",
     "output_type": "stream",
     "text": [
      "(50, 10)\n"
     ]
    }
   ],
   "source": [
    "print out[2].shape"
   ]
  },
  {
   "cell_type": "code",
   "execution_count": 8,
   "metadata": {},
   "outputs": [
    {
     "name": "stdout",
     "output_type": "stream",
     "text": [
      "WARNING:tensorflow:From /usr/local/lib/python2.7/dist-packages/tensorflow/python/ops/losses/losses_impl.py:731: softmax_cross_entropy_with_logits (from tensorflow.python.ops.nn_ops) is deprecated and will be removed in a future version.\n",
      "Instructions for updating:\n",
      "\n",
      "Future major versions of TensorFlow will allow gradients to flow\n",
      "into the labels input on backprop by default.\n",
      "\n",
      "See tf.nn.softmax_cross_entropy_with_logits_v2.\n",
      "\n"
     ]
    }
   ],
   "source": [
    "tf.reset_default_graph()\n",
    "\n",
    "X = tf.placeholder(tf.float32, [None, 32, 32, 3])\n",
    "y = tf.placeholder(tf.int64,[None])\n",
    "\n",
    "W1 = tf.get_variable(\"W1\", shape=[7, 7, 3, 32])\n",
    "b1 = tf.get_variable(\"b1\", shape=[32])\n",
    "W2 = tf.get_variable(\"W2\", shape=[5408,1024])\n",
    "b2 = tf.get_variable(\"b2\", shape=[1024])\n",
    "W3 = tf.get_variable(\"W3\", shape=[1024, 10])\n",
    "b3 = tf.get_variable(\"b3\", shape=[10])\n",
    "\n",
    "a1 = tf.nn.conv2d(X,W1,strides=[1,1,1,1], padding='VALID') + b1\n",
    "h1 = tf.nn.relu(a1)\n",
    "z2 = tf.nn.max_pool(h1, ksize=[1,2,2,1], strides=[1,2,2,1], padding='VALID')\n",
    "z2_flat = tf.reshape(z2, [-1,5408])\n",
    "a2 = tf.matmul(z2_flat,W2) + b2\n",
    "h2 = tf.nn.relu(a2)\n",
    "y_out = tf.matmul(h2,W3) + b3\n",
    "\n",
    "total_loss = tf.losses.softmax_cross_entropy(tf.one_hot(y,10),logits=y_out)\n",
    "\n",
    "mean_loss = tf.reduce_mean(total_loss)"
   ]
  },
  {
   "cell_type": "code",
   "execution_count": 9,
   "metadata": {},
   "outputs": [],
   "source": [
    "#Define weight updates\n",
    "learning_rate =1e-2\n",
    "grad_W1, grad_b1, grad_W2, grad_b2, grad_W3, grad_b3 = tf.gradients(mean_loss, [W1, b1, W2, b2, W3, b3])\n",
    "new_W1 = W1.assign(W1 - learning_rate * grad_W1)\n",
    "new_b1 = b1.assign(b1 - learning_rate * grad_b1)\n",
    "new_W2 = W2.assign(W2 - learning_rate * grad_W2)\n",
    "new_b2 = b2.assign(b2 - learning_rate * grad_b2)\n",
    "new_W3 = W3.assign(W3 - learning_rate * grad_W3)\n",
    "new_b3 = b3.assign(b3 - learning_rate * grad_b3)\n",
    "updates = tf.group(new_W1,new_W2,new_W3,new_b1,new_b2,new_b3)\n",
    "\n",
    "x_train = np.random.randn(64,32,32,3)\n",
    "y_train = np.random.randint(0,10,64)\n",
    "losses = []\n",
    "with tf.Session() as sess:\n",
    "    with tf.device(\"/cpu:0\"): #\"/cpu:0 or \"/gpu:0\n",
    "        tf.global_variables_initializer().run() # initializes all variables\n",
    "        feed_dict = {X: x_train,\n",
    "                     y: y_train,\n",
    "                    }\n",
    "        for t in range(50):\n",
    "            out = sess.run([mean_loss,updates],feed_dict=feed_dict)\n",
    "            losses.append(out)"
   ]
  },
  {
   "cell_type": "code",
   "execution_count": 10,
   "metadata": {},
   "outputs": [
    {
     "data": {
      "image/png": "[encoded data removed]",
      "text/plain": [
       "<matplotlib.figure.Figure at 0x7f07324afad0>"
      ]
     },
     "metadata": {},
     "output_type": "display_data"
    }
   ],
   "source": [
    "plt.plot(losses)\n",
    "plt.show()"
   ]
  },
  {
   "cell_type": "code",
   "execution_count": null,
   "metadata": {},
   "outputs": [],
   "source": []
  }
 ],
 "metadata": {
  "kernelspec": {
   "display_name": "Python 2",
   "language": "python",
   "name": "python2"
  },
  "language_info": {
   "codemirror_mode": {
    "name": "ipython",
    "version": 2
   },
   "file_extension": ".py",
   "mimetype": "text/x-python",
   "name": "python",
   "nbconvert_exporter": "python",
   "pygments_lexer": "ipython2",
   "version": "2.7.12"
  }
 },
 "nbformat": 4,
 "nbformat_minor": 2
}
