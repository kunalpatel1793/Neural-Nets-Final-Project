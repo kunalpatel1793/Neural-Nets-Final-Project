{
 "cells": [
  {
   "cell_type": "code",
   "execution_count": 13,
   "metadata": {},
   "outputs": [],
   "source": [
    "import numpy as np\n",
    "import h5py\n",
    "import tensorflow as tf\n",
    "import matplotlib.pyplot as plt\n",
    "from keras.models import Sequential\n",
    "from keras.layers import SimpleRNN,LSTM, Dense, Activation\n",
    "from keras.utils import to_categorical\n",
    "#from sklearn.preprocessing import OneHotEncoder"
   ]
  },
  {
   "cell_type": "code",
   "execution_count": 14,
   "metadata": {},
   "outputs": [
    {
     "name": "stdout",
     "output_type": "stream",
     "text": [
      "[[ 0.  0.  0.  1.]\n",
      " [ 0.  0.  1.  0.]\n",
      " [ 0.  1.  0.  0.]\n",
      " ..., \n",
      " [ 1.  0.  0.  0.]\n",
      " [ 0.  1.  0.  0.]\n",
      " [ 1.  0.  0.  0.]]\n"
     ]
    }
   ],
   "source": [
    "A01T = h5py.File('datasets/A01T_slice.mat','r')\n",
    "data = np.copy(A01T['image'])\n",
    "data = np.transpose(data,(0,2,1))\n",
    "data = data[:,:,:22]\n",
    "labels = np.copy(A01T['type'])\n",
    "labels = labels[0,0:data.shape[0]:1]\n",
    "labels = np.asarray(labels, dtype=np.int32)\n",
    "\n",
    "#enc = OneHotEncoder()\n",
    "#enc_labels = enc.fit_transform(labels.reshape(-1,1)).toarray()\n",
    "enc_labels = to_categorical(labels-769, num_classes=4)\n",
    "print(enc_labels)"
   ]
  },
  {
   "cell_type": "code",
   "execution_count": 4,
   "metadata": {},
   "outputs": [],
   "source": [
    "model = Sequential([\n",
    "    LSTM(100, input_shape=(1000, 22)),\n",
    "    Dense(32),\n",
    "    Activation('relu'),\n",
    "    Dense(64),\n",
    "    Activation('relu'),\n",
    "    Dense(32),\n",
    "    Activation('relu'),\n",
    "    Dense(4),\n",
    "    Activation('softmax'),\n",
    "])\n",
    "\n",
    "bs, t, f = data.shape"
   ]
  },
  {
   "cell_type": "code",
   "execution_count": 5,
   "metadata": {},
   "outputs": [
    {
     "data": {
      "text/plain": [
       "[<keras.layers.recurrent.LSTM at 0x7f757971da10>,\n",
       " <keras.layers.core.Dense at 0x7f757971dbd0>,\n",
       " <keras.layers.core.Activation at 0x7f757971dcd0>,\n",
       " <keras.layers.core.Dense at 0x7f75ac531510>,\n",
       " <keras.layers.core.Activation at 0x7f757971ddd0>,\n",
       " <keras.layers.core.Dense at 0x7f757971de10>,\n",
       " <keras.layers.core.Activation at 0x7f757971df10>,\n",
       " <keras.layers.core.Dense at 0x7f757971df50>,\n",
       " <keras.layers.core.Activation at 0x7f7575fbc090>]"
      ]
     },
     "execution_count": 5,
     "metadata": {},
     "output_type": "execute_result"
    }
   ],
   "source": [
    "model.layers"
   ]
  },
  {
   "cell_type": "code",
   "execution_count": 7,
   "metadata": {},
   "outputs": [
    {
     "name": "stdout",
     "output_type": "stream",
     "text": [
      "Train on 150 samples, validate on 50 samples\n",
      "Epoch 1/5\n",
      "150/150 [==============================] - 25s 164ms/step - loss: nan - acc: 0.2333 - val_loss: nan - val_acc: 0.2600\n",
      "Epoch 2/5\n",
      "150/150 [==============================] - 37s 246ms/step - loss: nan - acc: 0.2533 - val_loss: nan - val_acc: 0.2600\n",
      "Epoch 3/5\n",
      "150/150 [==============================] - 39s 259ms/step - loss: nan - acc: 0.2533 - val_loss: nan - val_acc: 0.2600\n",
      "Epoch 4/5\n",
      "150/150 [==============================] - 27s 181ms/step - loss: nan - acc: 0.2533 - val_loss: nan - val_acc: 0.2600\n",
      "Epoch 5/5\n",
      "150/150 [==============================] - 36s 242ms/step - loss: nan - acc: 0.2533 - val_loss: nan - val_acc: 0.2600\n",
      "88/88 [==============================] - 8s 92ms/step\n"
     ]
    }
   ],
   "source": [
    "shuffle = np.random.choice(bs,bs,replace=False)\n",
    "\n",
    "train_samples = 200\n",
    "train_data = data[:train_samples,:,:]\n",
    "train_labels = enc_labels[:train_samples]\n",
    "test_data = data[train_samples:,:,:]\n",
    "test_labels =enc_labels[train_samples:]\n",
    "\n",
    "model.compile(optimizer = 'adam',\n",
    "             loss = 'categorical_crossentropy',\n",
    "             metrics=['accuracy'])\n",
    "\n",
    "hist = model.fit(train_data,train_labels,epochs=5,validation_split=0.25,batch_size=32)\n",
    "test_score = model.evaluate(test_data, test_labels, batch_size=32)\n"
   ]
  },
  {
   "cell_type": "code",
   "execution_count": 8,
   "metadata": {},
   "outputs": [
    {
     "data": {
      "text/plain": [
       "[nan, 0.23863636363636365]"
      ]
     },
     "execution_count": 8,
     "metadata": {},
     "output_type": "execute_result"
    }
   ],
   "source": [
    "test_score"
   ]
  },
  {
   "cell_type": "markdown",
   "metadata": {},
   "source": [
    "Modified VGG net to handle our input (need to check dimensions and might need to transpose input to original shape)"
   ]
  },
  {
   "cell_type": "code",
   "execution_count": 9,
   "metadata": {},
   "outputs": [
    {
     "name": "stdout",
     "output_type": "stream",
     "text": [
      "Train on 150 samples, validate on 50 samples\n",
      "Epoch 1/5\n",
      "150/150 [==============================] - 30s 199ms/step - loss: nan - acc: 0.2733 - val_loss: nan - val_acc: 0.2600\n",
      "Epoch 2/5\n",
      "150/150 [==============================] - 24s 161ms/step - loss: nan - acc: 0.2533 - val_loss: nan - val_acc: 0.2600\n",
      "Epoch 3/5\n",
      "150/150 [==============================] - 33s 219ms/step - loss: nan - acc: 0.2533 - val_loss: nan - val_acc: 0.2600\n",
      "Epoch 4/5\n",
      "150/150 [==============================] - 35s 235ms/step - loss: nan - acc: 0.2533 - val_loss: nan - val_acc: 0.2600\n",
      "Epoch 5/5\n",
      "150/150 [==============================] - 29s 194ms/step - loss: nan - acc: 0.2533 - val_loss: nan - val_acc: 0.2600\n",
      "88/88 [==============================] - 4s 46ms/step\n"
     ]
    }
   ],
   "source": [
    "# VGGnet\n",
    "# https://keras.io/getting-started/sequential-model-guide/#examples\n",
    "\n",
    "import numpy as np\n",
    "import keras\n",
    "from keras.models import Sequential\n",
    "from keras.layers import Dense, Dropout, Flatten\n",
    "from keras.layers import Conv1D, MaxPooling1D\n",
    "from keras.optimizers import SGD\n",
    "\n",
    "del model\n",
    "model = Sequential()\n",
    "#model.add(LSTM(100, input_shape=(1000, 22)))\n",
    "model.add(Conv1D(512, 3, activation='relu',input_shape=(1000, 22)))             #Originally 32 each\n",
    "model.add(Conv1D(512, 3, activation='relu'))\n",
    "model.add(MaxPooling1D())\n",
    "model.add(Dropout(0.25))\n",
    "\n",
    "model.add(Conv1D(64, 3, activation='relu'))                                    #Originally 64 each\n",
    "model.add(Conv1D(64, 3, activation='relu'))\n",
    "model.add(MaxPooling1D())\n",
    "model.add(Dropout(0.25))\n",
    "\n",
    "model.add(Flatten())\n",
    "model.add(Dense(256, activation='relu'))\n",
    "model.add(Dropout(0.5))\n",
    "model.add(Dense(4, activation='softmax'))\n",
    "\n",
    "#sgd = SGD(lr=0.01, decay=1e-6, momentum=0.9, nesterov=True)\n",
    "#model.compile(loss='categorical_crossentropy', optimizer=sgd)\n",
    "\n",
    "model.compile(optimizer = 'adam',\n",
    "             loss = 'categorical_crossentropy',\n",
    "             metrics=['accuracy'])\n",
    "\n",
    "hist = model.fit(train_data,train_labels,epochs=5,validation_split=0.25,batch_size=32)\n",
    "test_score = model.evaluate(test_data, test_labels, batch_size=32)"
   ]
  },
  {
   "cell_type": "code",
   "execution_count": 10,
   "metadata": {},
   "outputs": [
    {
     "data": {
      "text/plain": [
       "[nan, 0.23863636363636365]"
      ]
     },
     "execution_count": 10,
     "metadata": {},
     "output_type": "execute_result"
    }
   ],
   "source": [
    "test_score"
   ]
  },
  {
   "cell_type": "markdown",
   "metadata": {},
   "source": [
    "Simple RNN model"
   ]
  },
  {
   "cell_type": "code",
   "execution_count": 11,
   "metadata": {},
   "outputs": [
    {
     "name": "stdout",
     "output_type": "stream",
     "text": [
      "Train on 150 samples, validate on 50 samples\n",
      "Epoch 1/5\n",
      "150/150 [==============================] - 2s 13ms/step - loss: 1.6417 - acc: 0.2533 - val_loss: 1.6417 - val_acc: 0.2800\n",
      "Epoch 2/5\n",
      "150/150 [==============================] - 1s 8ms/step - loss: 1.5290 - acc: 0.2333 - val_loss: 1.4297 - val_acc: 0.2200\n",
      "Epoch 3/5\n",
      "150/150 [==============================] - 1s 8ms/step - loss: 1.4027 - acc: 0.2533 - val_loss: 1.4433 - val_acc: 0.2600\n",
      "Epoch 4/5\n",
      "150/150 [==============================] - 1s 9ms/step - loss: 1.4271 - acc: 0.2533 - val_loss: 1.4319 - val_acc: 0.2600\n",
      "Epoch 5/5\n",
      "150/150 [==============================] - 1s 10ms/step - loss: 1.4079 - acc: 0.2533 - val_loss: 1.4001 - val_acc: 0.2600\n",
      "88/88 [==============================] - 0s 3ms/step\n"
     ]
    }
   ],
   "source": [
    "\n",
    "model = Sequential([\n",
    "    SimpleRNN(64, input_shape=(t,f)),\n",
    "    Dense(32),\n",
    "    Activation('relu'),\n",
    "    Dense(4),\n",
    "    Activation('softmax'),\n",
    "])\n",
    "\n",
    "model.compile(optimizer = 'adam',\n",
    "             loss = 'categorical_crossentropy',\n",
    "             metrics=['accuracy'])\n",
    "\n",
    "hist = model.fit(train_data,train_labels,epochs=5,validation_split=0.25,batch_size=32)\n",
    "test_score = model.evaluate(test_data, test_labels, batch_size=32)"
   ]
  },
  {
   "cell_type": "code",
   "execution_count": 15,
   "metadata": {},
   "outputs": [
    {
     "data": {
      "text/plain": [
       "[1.3988697637211194, 0.23863636363636365]"
      ]
     },
     "execution_count": 15,
     "metadata": {},
     "output_type": "execute_result"
    }
   ],
   "source": [
    "test_score"
   ]
  }
 ],
 "metadata": {
  "kernelspec": {
   "display_name": "Python 2",
   "language": "python",
   "name": "python2"
  },
  "language_info": {
   "codemirror_mode": {
    "name": "ipython",
    "version": 2
   },
   "file_extension": ".py",
   "mimetype": "text/x-python",
   "name": "python",
   "nbconvert_exporter": "python",
   "pygments_lexer": "ipython2",
   "version": "2.7.12"
  }
 },
 "nbformat": 4,
 "nbformat_minor": 2
}
