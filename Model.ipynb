{
 "cells": [
  {
   "cell_type": "markdown",
   "metadata": {},
   "source": [
    "## Run the first 4 cells to import data and create training and testing set"
   ]
  },
  {
   "cell_type": "code",
   "execution_count": 1,
   "metadata": {},
   "outputs": [
    {
     "name": "stderr",
     "output_type": "stream",
     "text": [
      "Using TensorFlow backend.\n"
     ]
    }
   ],
   "source": [
    "import numpy as np\n",
    "import h5py\n",
    "import tensorflow as tf\n",
    "import matplotlib.pyplot as plt\n",
    "from keras.models import Sequential\n",
    "from keras.layers import SimpleRNN,LSTM, Dense, Activation\n",
    "from keras.utils import to_categorical\n",
    "#from sklearn.preprocessing import OneHotEncoder\n",
    "from sklearn.preprocessing import StandardScaler"
   ]
  },
  {
   "cell_type": "code",
   "execution_count": 54,
   "metadata": {},
   "outputs": [],
   "source": [
    "# vals is a list whose elements are the data values to be plotted\n",
    "# labels is a list of labels for each respective data set\n",
    "def plot_hist(vals,labels='Null',title='Null',xlabel='epochs'):\n",
    "    n = len(vals)\n",
    "    for i in range(n): plt.plot(vals[i],label=labels[i])\n",
    "    plt.title(title)\n",
    "    plt.xlabel(xlabel)\n",
    "    plt.legend()\n",
    "    plt.show()"
   ]
  },
  {
   "cell_type": "code",
   "execution_count": 2,
   "metadata": {
    "collapsed": true
   },
   "outputs": [
    {
     "name": "stdout",
     "output_type": "stream",
     "text": [
      "[[ 0.  0.  0.  1.]\n",
      " [ 0.  0.  1.  0.]\n",
      " [ 0.  1.  0.  0.]\n",
      " ..., \n",
      " [ 1.  0.  0.  0.]\n",
      " [ 0.  1.  0.  0.]\n",
      " [ 1.  0.  0.  0.]]\n"
     ]
    }
   ],
   "source": [
    "A01T = h5py.File('datasets/A01T_slice.mat','r')\n",
    "data = np.copy(A01T['image'])\n",
    "data = np.transpose(data,(0,2,1))\n",
    "data = data[:,:,:22]\n",
    "labels = np.copy(A01T['type'])\n",
    "labels = labels[0,0:data.shape[0]:1]\n",
    "labels = np.asarray(labels, dtype=np.int32)\n",
    "\n",
    "a = data[:56]\n",
    "b = data[57:]\n",
    "data = np.vstack((a,b))\n",
    "a = labels[:56]\n",
    "b = labels[57:]\n",
    "labels = np.hstack((a,b))\n",
    "#enc = OneHotEncoder()\n",
    "#enc_labels = enc.fit_transform(labels.reshape(-1,1)).toarray()\n",
    "enc_labels = to_categorical(labels-769, num_classes=4)\n",
    "print(enc_labels)\n",
    "\n",
    "#scaler = StandardScaler()\n",
    "#data = scaler.fit_transform(data,enc_labels)"
   ]
  },
  {
   "cell_type": "code",
   "execution_count": 27,
   "metadata": {},
   "outputs": [],
   "source": [
    "bs, t, f = data.shape\n",
    "np.random.seed(42)\n",
    "shuffle = np.random.choice(bs,bs,replace=False)\n",
    "\n",
    "train_samples = 200\n",
    "train_data = data[shuffle[:train_samples],:,:]\n",
    "train_labels = enc_labels[shuffle[:train_samples]]\n",
    "test_data = data[shuffle[train_samples:],:,:]\n",
    "test_labels =enc_labels[shuffle[train_samples:]]"
   ]
  },
  {
   "cell_type": "markdown",
   "metadata": {},
   "source": [
    "# Everything from this point down is Testing"
   ]
  },
  {
   "cell_type": "code",
   "execution_count": 3,
   "metadata": {},
   "outputs": [],
   "source": [
    "model = Sequential([\n",
    "    LSTM(100, input_shape=(1000, 22)),\n",
    "    Dense(32),\n",
    "    Activation('relu'),\n",
    "    Dense(64),\n",
    "    Activation('relu'),\n",
    "    Dense(32),\n",
    "    Activation('relu'),\n",
    "    Dense(4),\n",
    "    Activation('softmax'),\n",
    "])"
   ]
  },
  {
   "cell_type": "code",
   "execution_count": 4,
   "metadata": {
    "collapsed": true
   },
   "outputs": [
    {
     "data": {
      "text/plain": [
       "[<keras.layers.recurrent.LSTM at 0x7f4612990b90>,\n",
       " <keras.layers.core.Dense at 0x7f4612990e50>,\n",
       " <keras.layers.core.Activation at 0x7f4612990dd0>,\n",
       " <keras.layers.core.Dense at 0x7f4644f7b350>,\n",
       " <keras.layers.core.Activation at 0x7f4612990f90>,\n",
       " <keras.layers.core.Dense at 0x7f4612990fd0>,\n",
       " <keras.layers.core.Activation at 0x7f461297ee10>,\n",
       " <keras.layers.core.Dense at 0x7f461297ec90>,\n",
       " <keras.layers.core.Activation at 0x7f461299dc90>]"
      ]
     },
     "execution_count": 4,
     "metadata": {},
     "output_type": "execute_result"
    }
   ],
   "source": [
    "model.layers"
   ]
  },
  {
   "cell_type": "code",
   "execution_count": 5,
   "metadata": {
    "collapsed": true
   },
   "outputs": [
    {
     "name": "stdout",
     "output_type": "stream",
     "text": [
      "Train on 150 samples, validate on 50 samples\n",
      "Epoch 1/5\n",
      "150/150 [==============================] - 8s 55ms/step - loss: 1.3884 - acc: 0.2267 - val_loss: 1.3678 - val_acc: 0.3400\n",
      "Epoch 2/5\n",
      "150/150 [==============================] - 8s 53ms/step - loss: 1.3193 - acc: 0.4267 - val_loss: 1.3780 - val_acc: 0.3800\n",
      "Epoch 3/5\n",
      "150/150 [==============================] - 6s 39ms/step - loss: 1.2761 - acc: 0.5200 - val_loss: 1.3889 - val_acc: 0.3000\n",
      "Epoch 4/5\n",
      "150/150 [==============================] - 6s 41ms/step - loss: 1.2276 - acc: 0.5733 - val_loss: 1.3897 - val_acc: 0.3200\n",
      "Epoch 5/5\n",
      "150/150 [==============================] - 5s 36ms/step - loss: 1.1669 - acc: 0.6200 - val_loss: 1.3947 - val_acc: 0.3200\n",
      "87/87 [==============================] - 1s 10ms/step\n"
     ]
    }
   ],
   "source": [
    "model.compile(optimizer = 'adam',\n",
    "             loss = 'categorical_crossentropy',\n",
    "             metrics=['accuracy'])\n",
    "\n",
    "hist = model.fit(train_data,train_labels,epochs=5,validation_split=0.25,batch_size=32)\n",
    "test_score = model.evaluate(test_data, test_labels, batch_size=32)"
   ]
  },
  {
   "cell_type": "code",
   "execution_count": 6,
   "metadata": {},
   "outputs": [
    {
     "data": {
      "text/plain": [
       "[1.4324174310969211, 0.20689655103902707]"
      ]
     },
     "execution_count": 6,
     "metadata": {},
     "output_type": "execute_result"
    }
   ],
   "source": [
    "test_score"
   ]
  },
  {
   "cell_type": "markdown",
   "metadata": {},
   "source": [
    "Modified VGG net to handle our input i.e. replace 2D with 1D, etc.(need to check dimensions and might need to transpose input to original shape)\n",
    "\n",
    "Original VGGnet implementation can be found at hte address below"
   ]
  },
  {
   "cell_type": "code",
   "execution_count": 7,
   "metadata": {
    "collapsed": true
   },
   "outputs": [
    {
     "name": "stdout",
     "output_type": "stream",
     "text": [
      "WARNING:tensorflow:From /home/kunal/Desktop/FinalProject/venv/local/lib/python2.7/site-packages/tensorflow/python/util/deprecation.py:497: calling conv1d (from tensorflow.python.ops.nn_ops) with data_format=NHWC is deprecated and will be removed in a future version.\n",
      "Instructions for updating:\n",
      "`NHWC` for data_format is deprecated, use `NWC` instead\n",
      "Train on 150 samples, validate on 50 samples\n",
      "Epoch 1/5\n",
      "150/150 [==============================] - 3s 20ms/step - loss: 9.5186 - acc: 0.2933 - val_loss: 12.5721 - val_acc: 0.2200\n",
      "Epoch 2/5\n",
      "150/150 [==============================] - 2s 15ms/step - loss: 12.1423 - acc: 0.2467 - val_loss: 12.5721 - val_acc: 0.2200\n",
      "Epoch 3/5\n",
      "150/150 [==============================] - 2s 14ms/step - loss: 12.1423 - acc: 0.2467 - val_loss: 12.5721 - val_acc: 0.2200\n",
      "Epoch 4/5\n",
      "150/150 [==============================] - 2s 14ms/step - loss: 12.1423 - acc: 0.2467 - val_loss: 12.5721 - val_acc: 0.2200\n",
      "Epoch 5/5\n",
      "150/150 [==============================] - 2s 14ms/step - loss: 12.1423 - acc: 0.2467 - val_loss: 12.5721 - val_acc: 0.2200\n",
      "87/87 [==============================] - 0s 6ms/step\n"
     ]
    }
   ],
   "source": [
    "# VGGnet\n",
    "# https://keras.io/getting-started/sequential-model-guide/#examples\n",
    "\n",
    "import numpy as np\n",
    "import keras\n",
    "from keras.models import Sequential\n",
    "from keras.layers import Dense, Dropout, Flatten\n",
    "from keras.layers import Conv1D, MaxPooling1D, BatchNormalization\n",
    "from keras.optimizers import SGD\n",
    "\n",
    "del model\n",
    "model = Sequential()\n",
    "#model.add(LSTM(100, input_shape=(1000, 22)))\n",
    "model.add(Conv1D(32, 3, activation='relu',input_shape=(1000, 22)))             #Originally 32 each\n",
    "model.add(BatchNormalization())\n",
    "model.add(Conv1D(32, 3, activation='relu'))\n",
    "model.add(MaxPooling1D())\n",
    "model.add(Dropout(0.25))\n",
    "\n",
    "model.add(Conv1D(64, 3, activation='relu'))                                    #Originally 64 each\n",
    "model.add(BatchNormalization())\n",
    "model.add(Conv1D(64, 3, activation='relu'))\n",
    "model.add(MaxPooling1D())\n",
    "model.add(Dropout(0.25))\n",
    "\n",
    "model.add(Flatten())\n",
    "model.add(Dense(256, activation='relu'))\n",
    "model.add(Dropout(0.5))\n",
    "model.add(Dense(4, activation='softmax'))\n",
    "\n",
    "#sgd = SGD(lr=0.01, decay=1e-6, momentum=0.9, nesterov=True)\n",
    "#model.compile(loss='categorical_crossentropy', optimizer=sgd)\n",
    "\n",
    "model.compile(optimizer = 'adam',\n",
    "             loss = 'categorical_crossentropy',\n",
    "             metrics=['accuracy'])\n",
    "\n",
    "hist = model.fit(train_data,train_labels,epochs=5,validation_split=0.25,batch_size=32)\n",
    "test_score = model.evaluate(test_data, test_labels, batch_size=32)"
   ]
  },
  {
   "cell_type": "code",
   "execution_count": 8,
   "metadata": {},
   "outputs": [
    {
     "data": {
      "text/plain": [
       "[11.856990112655465, 0.26436781420789918]"
      ]
     },
     "execution_count": 8,
     "metadata": {},
     "output_type": "execute_result"
    }
   ],
   "source": [
    "test_score"
   ]
  },
  {
   "cell_type": "markdown",
   "metadata": {},
   "source": [
    "Simple RNN model"
   ]
  },
  {
   "cell_type": "code",
   "execution_count": 12,
   "metadata": {
    "collapsed": true
   },
   "outputs": [
    {
     "name": "stdout",
     "output_type": "stream",
     "text": [
      "Train on 150 samples, validate on 50 samples\n",
      "Epoch 1/30\n",
      "150/150 [==============================] - 2s 13ms/step - loss: 1.6075 - acc: 0.2933 - val_loss: 1.5999 - val_acc: 0.2800\n",
      "Epoch 2/30\n",
      "150/150 [==============================] - 1s 9ms/step - loss: 1.4105 - acc: 0.3533 - val_loss: 1.5331 - val_acc: 0.3400\n",
      "Epoch 3/30\n",
      "150/150 [==============================] - 1s 9ms/step - loss: 1.3546 - acc: 0.4000 - val_loss: 1.4815 - val_acc: 0.3400\n",
      "Epoch 4/30\n",
      "150/150 [==============================] - 1s 9ms/step - loss: 1.2771 - acc: 0.4133 - val_loss: 1.4648 - val_acc: 0.2800\n",
      "Epoch 5/30\n",
      "150/150 [==============================] - 1s 9ms/step - loss: 1.1967 - acc: 0.4800 - val_loss: 1.4729 - val_acc: 0.2800\n",
      "Epoch 6/30\n",
      "150/150 [==============================] - 1s 10ms/step - loss: 1.1835 - acc: 0.5333 - val_loss: 1.4876 - val_acc: 0.2400\n",
      "Epoch 7/30\n",
      "150/150 [==============================] - 1s 9ms/step - loss: 1.1174 - acc: 0.5333 - val_loss: 1.5025 - val_acc: 0.2200\n",
      "Epoch 8/30\n",
      "150/150 [==============================] - 1s 9ms/step - loss: 1.0759 - acc: 0.5667 - val_loss: 1.5090 - val_acc: 0.2800\n",
      "Epoch 9/30\n",
      "150/150 [==============================] - 2s 11ms/step - loss: 1.0251 - acc: 0.6200 - val_loss: 1.5135 - val_acc: 0.2400\n",
      "Epoch 10/30\n",
      "150/150 [==============================] - 1s 9ms/step - loss: 1.0041 - acc: 0.6600 - val_loss: 1.5214 - val_acc: 0.3000\n",
      "Epoch 11/30\n",
      "150/150 [==============================] - 1s 9ms/step - loss: 0.9737 - acc: 0.6267 - val_loss: 1.5339 - val_acc: 0.3200\n",
      "Epoch 12/30\n",
      "150/150 [==============================] - 1s 9ms/step - loss: 0.9311 - acc: 0.6800 - val_loss: 1.5254 - val_acc: 0.3200\n",
      "Epoch 13/30\n",
      "150/150 [==============================] - 2s 11ms/step - loss: 0.9160 - acc: 0.6933 - val_loss: 1.5359 - val_acc: 0.2800\n",
      "Epoch 14/30\n",
      "150/150 [==============================] - 1s 9ms/step - loss: 0.8829 - acc: 0.7200 - val_loss: 1.5436 - val_acc: 0.2800\n",
      "Epoch 15/30\n",
      "150/150 [==============================] - 1s 9ms/step - loss: 0.8620 - acc: 0.7267 - val_loss: 1.5519 - val_acc: 0.2400\n",
      "Epoch 16/30\n",
      "150/150 [==============================] - 1s 9ms/step - loss: 0.8331 - acc: 0.7467 - val_loss: 1.5393 - val_acc: 0.2400\n",
      "Epoch 17/30\n",
      "150/150 [==============================] - 1s 9ms/step - loss: 0.7963 - acc: 0.7867 - val_loss: 1.5645 - val_acc: 0.2800\n",
      "Epoch 18/30\n",
      "150/150 [==============================] - 1s 10ms/step - loss: 0.8053 - acc: 0.8000 - val_loss: 1.5749 - val_acc: 0.2400\n",
      "Epoch 19/30\n",
      "150/150 [==============================] - 2s 12ms/step - loss: 0.7578 - acc: 0.7800 - val_loss: 1.5831 - val_acc: 0.2400\n",
      "Epoch 20/30\n",
      "150/150 [==============================] - 1s 10ms/step - loss: 0.7297 - acc: 0.8267 - val_loss: 1.5861 - val_acc: 0.2400\n",
      "Epoch 21/30\n",
      "150/150 [==============================] - 2s 12ms/step - loss: 0.7117 - acc: 0.8067 - val_loss: 1.5799 - val_acc: 0.2400\n",
      "Epoch 22/30\n",
      "150/150 [==============================] - 2s 11ms/step - loss: 0.6820 - acc: 0.8333 - val_loss: 1.5823 - val_acc: 0.2400\n",
      "Epoch 23/30\n",
      "150/150 [==============================] - 1s 10ms/step - loss: 0.6667 - acc: 0.8267 - val_loss: 1.6093 - val_acc: 0.2400\n",
      "Epoch 24/30\n",
      "150/150 [==============================] - 1s 9ms/step - loss: 0.6746 - acc: 0.8133 - val_loss: 1.6240 - val_acc: 0.2200\n",
      "Epoch 25/30\n",
      "150/150 [==============================] - 1s 9ms/step - loss: 0.6436 - acc: 0.8600 - val_loss: 1.6206 - val_acc: 0.2400\n",
      "Epoch 26/30\n",
      "150/150 [==============================] - 1s 9ms/step - loss: 0.6138 - acc: 0.8467 - val_loss: 1.6288 - val_acc: 0.2400\n",
      "Epoch 27/30\n",
      "150/150 [==============================] - 2s 11ms/step - loss: 0.6077 - acc: 0.8733 - val_loss: 1.6367 - val_acc: 0.3200\n",
      "Epoch 28/30\n",
      "150/150 [==============================] - 1s 10ms/step - loss: 0.5707 - acc: 0.8867 - val_loss: 1.6450 - val_acc: 0.2400\n",
      "Epoch 29/30\n",
      "150/150 [==============================] - 1s 9ms/step - loss: 0.5611 - acc: 0.8533 - val_loss: 1.6683 - val_acc: 0.2400\n",
      "Epoch 30/30\n",
      "150/150 [==============================] - 1s 9ms/step - loss: 0.5395 - acc: 0.8867 - val_loss: 1.6714 - val_acc: 0.2400\n",
      "87/87 [==============================] - 0s 4ms/step\n"
     ]
    }
   ],
   "source": [
    "model = Sequential([\n",
    "    SimpleRNN(64, input_shape=(t,f)),\n",
    "    Dense(32),\n",
    "    BatchNormalization(),\n",
    "    Activation('relu'),\n",
    "    Dense(4),\n",
    "    Activation('softmax'),\n",
    "])\n",
    "\n",
    "model.compile(optimizer = 'adam',\n",
    "             loss = 'categorical_crossentropy',\n",
    "             metrics=['accuracy'])\n",
    "\n",
    "hist = model.fit(train_data,train_labels,epochs=30,validation_split=0.25,batch_size=32)\n",
    "test_score = model.evaluate(test_data, test_labels, batch_size=32)"
   ]
  },
  {
   "cell_type": "code",
   "execution_count": 11,
   "metadata": {},
   "outputs": [
    {
     "data": {
      "text/plain": [
       "[1.5717152137865966, 0.22988505712870894]"
      ]
     },
     "execution_count": 11,
     "metadata": {},
     "output_type": "execute_result"
    }
   ],
   "source": [
    "test_score"
   ]
  },
  {
   "cell_type": "markdown",
   "metadata": {},
   "source": [
    "Here is the implementation of Figure 1b based on ChronoNet paper"
   ]
  },
  {
   "cell_type": "code",
   "execution_count": 20,
   "metadata": {},
   "outputs": [
    {
     "name": "stdout",
     "output_type": "stream",
     "text": [
      "Train on 150 samples, validate on 50 samples\n",
      "Epoch 1/10\n",
      "150/150 [==============================] - 4s 26ms/step - loss: 1.4257 - acc: 0.2000 - val_loss: 1.3854 - val_acc: 0.2800\n",
      "Epoch 2/10\n",
      "150/150 [==============================] - 2s 10ms/step - loss: 1.3816 - acc: 0.2800 - val_loss: 1.3918 - val_acc: 0.3200\n",
      "Epoch 3/10\n",
      "150/150 [==============================] - 2s 10ms/step - loss: 1.3634 - acc: 0.3200 - val_loss: 1.3933 - val_acc: 0.3600\n",
      "Epoch 4/10\n",
      "150/150 [==============================] - 2s 10ms/step - loss: 1.3452 - acc: 0.4067 - val_loss: 1.3961 - val_acc: 0.2800\n",
      "Epoch 5/10\n",
      "150/150 [==============================] - 2s 10ms/step - loss: 1.3278 - acc: 0.4200 - val_loss: 1.3875 - val_acc: 0.3600\n",
      "Epoch 6/10\n",
      "150/150 [==============================] - 2s 12ms/step - loss: 1.2998 - acc: 0.4867 - val_loss: 1.3958 - val_acc: 0.3400\n",
      "Epoch 7/10\n",
      "150/150 [==============================] - 2s 16ms/step - loss: 1.2640 - acc: 0.5000 - val_loss: 1.3845 - val_acc: 0.3400\n",
      "Epoch 8/10\n",
      "150/150 [==============================] - 2s 16ms/step - loss: 1.2201 - acc: 0.5133 - val_loss: 1.3899 - val_acc: 0.3000\n",
      "Epoch 9/10\n",
      "150/150 [==============================] - 2s 15ms/step - loss: 1.1539 - acc: 0.5467 - val_loss: 1.4339 - val_acc: 0.2600\n",
      "Epoch 10/10\n",
      "150/150 [==============================] - 2s 13ms/step - loss: 1.0644 - acc: 0.5933 - val_loss: 1.4336 - val_acc: 0.2800\n",
      "87/87 [==============================] - 0s 3ms/step\n",
      "[1.5143769883561409, 0.27586207033573895]\n"
     ]
    }
   ],
   "source": [
    "import numpy as np\n",
    "import keras\n",
    "from keras.models import Sequential\n",
    "from keras.layers import Dense, Dropout, Flatten\n",
    "from keras.layers import Conv1D, MaxPooling1D, BatchNormalization,GRU\n",
    "from keras.optimizers import SGD\n",
    "\n",
    "\n",
    "model = Sequential()\n",
    "\n",
    "model.add(Conv1D(32, 4, strides=2,activation='relu',input_shape=(1000, 22)))\n",
    "model.add(Conv1D(32, 4, strides=2,activation='relu'))\n",
    "model.add(Conv1D(32, 4, strides=2,activation='relu'))\n",
    "\n",
    "#model.add(Flatten())\n",
    "\n",
    "model.add(GRU(32,activation='relu',return_sequences=True))\n",
    "model.add(GRU(32,activation='relu',return_sequences=True))\n",
    "model.add(GRU(32,activation='relu'))\n",
    "\n",
    "\n",
    "model.add(Dense(4, activation='softmax'))\n",
    "\n",
    "#sgd = SGD(lr=0.01, decay=1e-6, momentum=0.9, nesterov=True)\n",
    "#model.compile(loss='categorical_crossentropy', optimizer=sgd)\n",
    "\n",
    "#model.add()\n",
    "\n",
    "model.compile(optimizer = 'adam',\n",
    "             loss = 'categorical_crossentropy',\n",
    "             metrics=['accuracy'])\n",
    "\n",
    "hist = model.fit(train_data,train_labels,epochs=10,validation_split=0.25,batch_size=32)\n",
    "test_score = model.evaluate(test_data, test_labels, batch_size=32)\n",
    "print(test_score)"
   ]
  },
  {
   "cell_type": "markdown",
   "metadata": {},
   "source": [
    "Implementation of Figure 1b but adding regularization structures like that found in VGGnet"
   ]
  },
  {
   "cell_type": "code",
   "execution_count": 44,
   "metadata": {},
   "outputs": [
    {
     "name": "stdout",
     "output_type": "stream",
     "text": [
      "87/87 [==============================] - 0s 2ms/step\n",
      "[1.4811213783834172, 0.33333332990777903]\n"
     ]
    }
   ],
   "source": [
    "import numpy as np\n",
    "import keras\n",
    "from keras.models import Sequential\n",
    "from keras.layers import Dense, Dropout, Flatten\n",
    "from keras.layers import Conv1D, MaxPooling1D, BatchNormalization,GRU\n",
    "from keras.optimizers import SGD\n",
    "\n",
    "\n",
    "model = Sequential()\n",
    "\n",
    "model.add(Conv1D(32, 4, strides=2,activation='relu',input_shape=(1000, 22)))\n",
    "model.add(BatchNormalization())                            #From VGGnet\n",
    "model.add(Conv1D(32, 4, strides=2,activation='relu'))\n",
    "model.add(BatchNormalization())                            #From VGGnet\n",
    "model.add(Conv1D(32, 4, strides=2,activation='relu'))\n",
    "model.add(MaxPooling1D())                                  #From VGGnet\n",
    "model.add(Dropout(0.25))                                   #From VGGnet\n",
    "#model.add(Flatten())\n",
    "\n",
    "model.add(GRU(32,activation='relu',return_sequences=True))\n",
    "model.add(GRU(32,activation='relu',return_sequences=True))\n",
    "model.add(GRU(32,activation='relu'))\n",
    "\n",
    "#model.add(Dense(256, activation='relu'))                   #From VGGnet, but makes model suck\n",
    "#model.add(Dropout(0.5))                                    #From VGGnet, but makes model suck\n",
    "model.add(Dense(4, activation='softmax'))\n",
    "\n",
    "#sgd = SGD(lr=0.01, decay=1e-6, momentum=0.9, nesterov=True)\n",
    "#model.compile(loss='categorical_crossentropy', optimizer=sgd,metrics=['accuracy'])\n",
    "\n",
    "#model.add()\n",
    "\n",
    "model.compile(optimizer = 'adam',\n",
    "             loss = 'categorical_crossentropy',\n",
    "             metrics=['accuracy'])\n",
    "\n",
    "#hist.history is a dictionary with all accs and losses\n",
    "hist = model.fit(train_data,train_labels,epochs=15,validation_split=0.25,batch_size=32,verbose=1)\n",
    "test_score = model.evaluate(test_data, test_labels, batch_size=32)\n",
    "print(test_score)"
   ]
  },
  {
   "cell_type": "code",
   "execution_count": 56,
   "metadata": {
    "scrolled": true
   },
   "outputs": [
    {
     "data": {
      "image/png": "[encoded data removed]",
      "text/plain": [
       "<matplotlib.figure.Figure at 0x7fbdd6fbc990>"
      ]
     },
     "metadata": {},
     "output_type": "display_data"
    },
    {
     "data": {
      "image/png": "[encoded data removed]",
      "text/plain": [
       "<matplotlib.figure.Figure at 0x7fbdd6e94110>"
      ]
     },
     "metadata": {},
     "output_type": "display_data"
    }
   ],
   "source": [
    "plot_hist([hist.history['acc'],hist.history['val_acc']],['Training Accuracy','Val Accuracy'],title='Accuracies')\n",
    "plot_hist([hist.history['loss'],hist.history['val_loss']],['Training Accuracy','Val Accuracy'],title='Accuracies')\n"
   ]
  }
 ],
 "metadata": {
  "kernelspec": {
   "display_name": "Python 2",
   "language": "python",
   "name": "python2"
  },
  "language_info": {
   "codemirror_mode": {
    "name": "ipython",
    "version": 2
   },
   "file_extension": ".py",
   "mimetype": "text/x-python",
   "name": "python",
   "nbconvert_exporter": "python",
   "pygments_lexer": "ipython2",
   "version": "2.7.12"
  }
 },
 "nbformat": 4,
 "nbformat_minor": 2
}
