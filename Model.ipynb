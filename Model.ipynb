{
 "cells": [
  {
   "cell_type": "code",
   "execution_count": 74,
   "metadata": {},
   "outputs": [],
   "source": [
    "import numpy as np\n",
    "import h5py\n",
    "import tensorflow as tf\n",
    "import matplotlib.pyplot as plt\n",
    "from keras.models import Sequential\n",
    "from keras.layers import SimpleRNN,LSTM, Dense, Activation\n",
    "from keras.utils import to_categorical\n",
    "#from sklearn.preprocessing import OneHotEncoder\n",
    "from sklearn.preprocessing import StandardScaler"
   ]
  },
  {
   "cell_type": "code",
   "execution_count": 81,
   "metadata": {},
   "outputs": [
    {
     "name": "stdout",
     "output_type": "stream",
     "text": [
      "[[ 0.  0.  0.  1.]\n",
      " [ 0.  0.  1.  0.]\n",
      " [ 0.  1.  0.  0.]\n",
      " ..., \n",
      " [ 1.  0.  0.  0.]\n",
      " [ 0.  1.  0.  0.]\n",
      " [ 1.  0.  0.  0.]]\n"
     ]
    }
   ],
   "source": [
    "A01T = h5py.File('datasets/A01T_slice.mat','r')\n",
    "data = np.copy(A01T['image'])\n",
    "data = np.transpose(data,(0,2,1))\n",
    "data = data[:,:,:22]\n",
    "labels = np.copy(A01T['type'])\n",
    "labels = labels[0,0:data.shape[0]:1]\n",
    "labels = np.asarray(labels, dtype=np.int32)\n",
    "\n",
    "a = data[:56]\n",
    "b = data[57:]\n",
    "data = np.vstack((a,b))\n",
    "a = labels[:56]\n",
    "b = labels[57:]\n",
    "labels = np.hstack((a,b))\n",
    "#enc = OneHotEncoder()\n",
    "#enc_labels = enc.fit_transform(labels.reshape(-1,1)).toarray()\n",
    "enc_labels = to_categorical(labels-769, num_classes=4)\n",
    "print(enc_labels)\n",
    "\n",
    "#scaler = StandardScaler()\n",
    "#data = scaler.fit_transform(data,enc_labels)"
   ]
  },
  {
   "cell_type": "code",
   "execution_count": 53,
   "metadata": {},
   "outputs": [],
   "source": [
    "model = Sequential([\n",
    "    LSTM(100, input_shape=(1000, 22)),\n",
    "    Dense(32),\n",
    "    Activation('relu'),\n",
    "    Dense(64),\n",
    "    Activation('relu'),\n",
    "    Dense(32),\n",
    "    Activation('relu'),\n",
    "    Dense(4),\n",
    "    Activation('softmax'),\n",
    "])\n",
    "\n",
    "bs, t, f = data.shape"
   ]
  },
  {
   "cell_type": "code",
   "execution_count": 54,
   "metadata": {},
   "outputs": [
    {
     "data": {
      "text/plain": [
       "[<keras.layers.recurrent.LSTM at 0x7f9d2c1eb2d0>,\n",
       " <keras.layers.core.Dense at 0x7f9d2c1eb050>,\n",
       " <keras.layers.core.Activation at 0x7f9d2c1eb250>,\n",
       " <keras.layers.core.Dense at 0x7f9d2c1eb590>,\n",
       " <keras.layers.core.Activation at 0x7f9d2c1eb410>,\n",
       " <keras.layers.core.Dense at 0x7f9d2c1eb150>,\n",
       " <keras.layers.core.Activation at 0x7f9d2c1eb550>,\n",
       " <keras.layers.core.Dense at 0x7f9d2c1eb6d0>,\n",
       " <keras.layers.core.Activation at 0x7f9d2c1eb690>]"
      ]
     },
     "execution_count": 54,
     "metadata": {},
     "output_type": "execute_result"
    }
   ],
   "source": [
    "model.layers"
   ]
  },
  {
   "cell_type": "code",
   "execution_count": 55,
   "metadata": {},
   "outputs": [
    {
     "name": "stdout",
     "output_type": "stream",
     "text": [
      "Train on 150 samples, validate on 50 samples\n",
      "Epoch 1/5\n",
      "150/150 [==============================] - 6s 37ms/step - loss: 1.4017 - acc: 0.2400 - val_loss: 1.4041 - val_acc: 0.2000\n",
      "Epoch 2/5\n",
      "150/150 [==============================] - 7s 45ms/step - loss: 1.3212 - acc: 0.4267 - val_loss: 1.4078 - val_acc: 0.2400\n",
      "Epoch 3/5\n",
      "150/150 [==============================] - 8s 54ms/step - loss: 1.2706 - acc: 0.5400 - val_loss: 1.4198 - val_acc: 0.2200\n",
      "Epoch 4/5\n",
      "150/150 [==============================] - 9s 59ms/step - loss: 1.2177 - acc: 0.5867 - val_loss: 1.4118 - val_acc: 0.2600\n",
      "Epoch 5/5\n",
      "150/150 [==============================] - 5s 34ms/step - loss: 1.1555 - acc: 0.5867 - val_loss: 1.4271 - val_acc: 0.2800\n",
      "87/87 [==============================] - 1s 9ms/step\n"
     ]
    }
   ],
   "source": [
    "shuffle = np.random.choice(bs,bs,replace=False)\n",
    "\n",
    "train_samples = 200\n",
    "train_data = data[:train_samples,:,:]\n",
    "train_labels = enc_labels[:train_samples]\n",
    "test_data = data[train_samples:,:,:]\n",
    "test_labels =enc_labels[train_samples:]\n",
    "\n",
    "model.compile(optimizer = 'adam',\n",
    "             loss = 'categorical_crossentropy',\n",
    "             metrics=['accuracy'])\n",
    "\n",
    "hist = model.fit(train_data,train_labels,epochs=5,validation_split=0.25,batch_size=32)\n",
    "test_score = model.evaluate(test_data, test_labels, batch_size=32)\n"
   ]
  },
  {
   "cell_type": "code",
   "execution_count": 56,
   "metadata": {},
   "outputs": [
    {
     "data": {
      "text/plain": [
       "[1.4515078245908364, 0.22988505644359808]"
      ]
     },
     "execution_count": 56,
     "metadata": {},
     "output_type": "execute_result"
    }
   ],
   "source": [
    "test_score"
   ]
  },
  {
   "cell_type": "markdown",
   "metadata": {},
   "source": [
    "Modified VGG net to handle our input (need to check dimensions and might need to transpose input to original shape)"
   ]
  },
  {
   "cell_type": "code",
   "execution_count": 72,
   "metadata": {},
   "outputs": [
    {
     "name": "stdout",
     "output_type": "stream",
     "text": [
      "Train on 150 samples, validate on 50 samples\n",
      "Epoch 1/5\n",
      "150/150 [==============================] - 30s 198ms/step - loss: 8.5472 - acc: 0.2467 - val_loss: 10.9118 - val_acc: 0.2800\n",
      "Epoch 2/5\n",
      "150/150 [==============================] - 25s 167ms/step - loss: 9.3925 - acc: 0.3467 - val_loss: 11.0357 - val_acc: 0.2800\n",
      "Epoch 3/5\n",
      "150/150 [==============================] - 24s 161ms/step - loss: 9.6391 - acc: 0.3467 - val_loss: 12.2498 - val_acc: 0.2400\n",
      "Epoch 4/5\n",
      "150/150 [==============================] - 25s 164ms/step - loss: 10.3226 - acc: 0.3200 - val_loss: 10.6407 - val_acc: 0.3200\n",
      "Epoch 5/5\n",
      "150/150 [==============================] - 25s 167ms/step - loss: 9.3237 - acc: 0.3867 - val_loss: 11.4805 - val_acc: 0.2400\n",
      "87/87 [==============================] - 5s 55ms/step\n"
     ]
    }
   ],
   "source": [
    "# VGGnet\n",
    "# https://keras.io/getting-started/sequential-model-guide/#examples\n",
    "\n",
    "import numpy as np\n",
    "import keras\n",
    "from keras.models import Sequential\n",
    "from keras.layers import Dense, Dropout, Flatten\n",
    "from keras.layers import Conv1D, MaxPooling1D, BatchNormalization\n",
    "from keras.optimizers import SGD\n",
    "\n",
    "del model\n",
    "model = Sequential()\n",
    "#model.add(LSTM(100, input_shape=(1000, 22)))\n",
    "model.add(Conv1D(512, 3, activation='relu',input_shape=(1000, 22)))             #Originally 32 each\n",
    "model.add(BatchNormalization())\n",
    "model.add(Conv1D(512, 3, activation='relu'))\n",
    "model.add(MaxPooling1D())\n",
    "model.add(Dropout(0.25))\n",
    "\n",
    "model.add(Conv1D(64, 3, activation='relu'))                                    #Originally 64 each\n",
    "model.add(BatchNormalization())\n",
    "model.add(Conv1D(64, 3, activation='relu'))\n",
    "model.add(MaxPooling1D())\n",
    "model.add(Dropout(0.25))\n",
    "\n",
    "model.add(Flatten())\n",
    "model.add(Dense(256, activation='relu'))\n",
    "model.add(Dropout(0.5))\n",
    "model.add(Dense(4, activation='softmax'))\n",
    "\n",
    "#sgd = SGD(lr=0.01, decay=1e-6, momentum=0.9, nesterov=True)\n",
    "#model.compile(loss='categorical_crossentropy', optimizer=sgd)\n",
    "\n",
    "model.compile(optimizer = 'adam',\n",
    "             loss = 'categorical_crossentropy',\n",
    "             metrics=['accuracy'])\n",
    "\n",
    "hist = model.fit(train_data,train_labels,epochs=5,validation_split=0.25,batch_size=32)\n",
    "test_score = model.evaluate(test_data, test_labels, batch_size=32)"
   ]
  },
  {
   "cell_type": "code",
   "execution_count": 68,
   "metadata": {},
   "outputs": [
    {
     "data": {
      "text/plain": [
       "[12.227520537102359, 0.24137930931716128]"
      ]
     },
     "execution_count": 68,
     "metadata": {},
     "output_type": "execute_result"
    }
   ],
   "source": [
    "test_score"
   ]
  },
  {
   "cell_type": "markdown",
   "metadata": {},
   "source": [
    "Simple RNN model"
   ]
  },
  {
   "cell_type": "code",
   "execution_count": 71,
   "metadata": {},
   "outputs": [
    {
     "name": "stdout",
     "output_type": "stream",
     "text": [
      "Train on 150 samples, validate on 50 samples\n",
      "Epoch 1/10\n",
      "150/150 [==============================] - 2s 15ms/step - loss: 1.6141 - acc: 0.2933 - val_loss: 1.6435 - val_acc: 0.2800\n",
      "Epoch 2/10\n",
      "150/150 [==============================] - 1s 9ms/step - loss: 1.4375 - acc: 0.3467 - val_loss: 1.6217 - val_acc: 0.2600\n",
      "Epoch 3/10\n",
      "150/150 [==============================] - 1s 9ms/step - loss: 1.3728 - acc: 0.3467 - val_loss: 1.6016 - val_acc: 0.2600\n",
      "Epoch 4/10\n",
      "150/150 [==============================] - 1s 8ms/step - loss: 1.3013 - acc: 0.3667 - val_loss: 1.5964 - val_acc: 0.2600\n",
      "Epoch 5/10\n",
      "150/150 [==============================] - 1s 9ms/step - loss: 1.2397 - acc: 0.4467 - val_loss: 1.5811 - val_acc: 0.2600\n",
      "Epoch 6/10\n",
      "150/150 [==============================] - 1s 10ms/step - loss: 1.1887 - acc: 0.4867 - val_loss: 1.5686 - val_acc: 0.2200\n",
      "Epoch 7/10\n",
      "150/150 [==============================] - 1s 9ms/step - loss: 1.1641 - acc: 0.5000 - val_loss: 1.5548 - val_acc: 0.2200\n",
      "Epoch 8/10\n",
      "150/150 [==============================] - 1s 10ms/step - loss: 1.0957 - acc: 0.5933 - val_loss: 1.5468 - val_acc: 0.2600\n",
      "Epoch 9/10\n",
      "150/150 [==============================] - 1s 9ms/step - loss: 1.0512 - acc: 0.6267 - val_loss: 1.5421 - val_acc: 0.2400\n",
      "Epoch 10/10\n",
      "150/150 [==============================] - 1s 9ms/step - loss: 1.0465 - acc: 0.6533 - val_loss: 1.5419 - val_acc: 0.2200\n",
      "87/87 [==============================] - 0s 3ms/step\n"
     ]
    }
   ],
   "source": [
    "model = Sequential([\n",
    "    SimpleRNN(64, input_shape=(t,f)),\n",
    "    Dense(32),\n",
    "    BatchNormalization(),\n",
    "    Activation('relu'),\n",
    "    Dense(4),\n",
    "    Activation('softmax'),\n",
    "])\n",
    "\n",
    "model.compile(optimizer = 'adam',\n",
    "             loss = 'categorical_crossentropy',\n",
    "             metrics=['accuracy'])\n",
    "\n",
    "hist = model.fit(train_data,train_labels,epochs=10,validation_split=0.25,batch_size=32)\n",
    "test_score = model.evaluate(test_data, test_labels, batch_size=32)"
   ]
  },
  {
   "cell_type": "code",
   "execution_count": 15,
   "metadata": {},
   "outputs": [
    {
     "data": {
      "text/plain": [
       "[1.3988697637211194, 0.23863636363636365]"
      ]
     },
     "execution_count": 15,
     "metadata": {},
     "output_type": "execute_result"
    }
   ],
   "source": [
    "test_score"
   ]
  }
 ],
 "metadata": {
  "kernelspec": {
   "display_name": "Python 2",
   "language": "python",
   "name": "python2"
  },
  "language_info": {
   "codemirror_mode": {
    "name": "ipython",
    "version": 2
   },
   "file_extension": ".py",
   "mimetype": "text/x-python",
   "name": "python",
   "nbconvert_exporter": "python",
   "pygments_lexer": "ipython2",
   "version": "2.7.12"
  }
 },
 "nbformat": 4,
 "nbformat_minor": 2
}
