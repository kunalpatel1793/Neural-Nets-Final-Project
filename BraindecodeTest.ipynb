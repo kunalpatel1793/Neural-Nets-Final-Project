{
 "cells": [
  {
   "cell_type": "code",
   "execution_count": 1,
   "metadata": {},
   "outputs": [
    {
     "ename": "RuntimeError",
     "evalue": "module compiled against API version 0xb but this version of numpy is 0xa",
     "output_type": "error",
     "traceback": [
      "\u001b[0;31m---------------------------------------------------------------------------\u001b[0m",
      "\u001b[0;31mRuntimeError\u001b[0m                              Traceback (most recent call last)",
      "\u001b[0;31mRuntimeError\u001b[0m: module compiled against API version 0xb but this version of numpy is 0xa"
     ]
    },
    {
     "ename": "RuntimeError",
     "evalue": "module compiled against API version 0xb but this version of numpy is 0xa",
     "output_type": "error",
     "traceback": [
      "\u001b[0;31m---------------------------------------------------------------------------\u001b[0m",
      "\u001b[0;31mRuntimeError\u001b[0m                              Traceback (most recent call last)",
      "\u001b[0;31mRuntimeError\u001b[0m: module compiled against API version 0xb but this version of numpy is 0xa"
     ]
    },
    {
     "name": "stderr",
     "output_type": "stream",
     "text": [
      "Using TensorFlow backend.\n"
     ]
    }
   ],
   "source": [
    "import numpy as np\n",
    "import h5py\n",
    "import tensorflow as tf\n",
    "import matplotlib.pyplot as plt\n",
    "\n",
    "from keras.models import Sequential\n",
    "from keras.layers import Dense \n",
    "from keras.layers import ConvLSTM2D, Conv2D, MaxPooling2D, AveragePooling2D\n",
    "from keras.layers import MaxPooling1D, Conv1D\n",
    "from keras.layers import GRU, LSTM, BatchNormalization\n",
    "from keras.layers import TimeDistributed\n",
    "from keras.layers import Flatten\n",
    "from keras.utils import to_categorical\n",
    "from keras.layers import Activation\n",
    "from keras.layers import Dropout\n",
    "from keras.layers import Reshape \n",
    "from keras.layers import Lambda \n",
    "from keras.backend import log\n",
    "\n",
    "from keras import regularizers\n",
    "\n",
    "from sklearn.metrics import confusion_matrix\n",
    "import itertools\n",
    "\n",
    "from UtilNNDL import create_window_data\n",
    "from UtilNNDL import plot_hist\n",
    "from UtilNNDL import prepare_data\n",
    "from UtilNNDL import plot_confusion_matrix\n",
    "from UtilNNDL import bandpass_cnt\n",
    "from UtilNNDL import exponential_running_standardize\n"
   ]
  },
  {
   "cell_type": "code",
   "execution_count": 2,
   "metadata": {},
   "outputs": [
    {
     "name": "stdout",
     "output_type": "stream",
     "text": [
      "(2108, 22, 1000)\n",
      "(2108, 4)\n",
      "(450, 22, 1000)\n",
      "(450, 4)\n"
     ]
    }
   ],
   "source": [
    "#Prepare the data by taking out nans and dividing into test and train\n",
    "file_path = '/home/carla/Downloads/project_datasets/project_datasets/'\n",
    "train_data, test_data, train_labels, test_labels = prepare_data(file_path, \n",
    "                                                                num_test_samples = 50, \n",
    "                                                                verbose= False, \n",
    "                                                                return_all=True,\n",
    "                                                                num_files =9)\n",
    "print train_data.shape\n",
    "print train_labels.shape\n",
    "print test_data.shape\n",
    "print test_labels.shape"
   ]
  },
  {
   "cell_type": "code",
   "execution_count": 62,
   "metadata": {},
   "outputs": [
    {
     "name": "stderr",
     "output_type": "stream",
     "text": [
      "/home/carla/Documents/tensorflow/lib/python2.7/site-packages/ipykernel_launcher.py:2: VisibleDeprecationWarning: using a non-integer number instead of an integer will result in an error in the future\n",
      "  \n"
     ]
    },
    {
     "ename": "IndexError",
     "evalue": "only integers, slices (`:`), ellipsis (`...`), numpy.newaxis (`None`) and integer or boolean arrays are valid indices",
     "output_type": "error",
     "traceback": [
      "\u001b[0;31m---------------------------------------------------------------------------\u001b[0m",
      "\u001b[0;31mIndexError\u001b[0m                                Traceback (most recent call last)",
      "\u001b[0;32m<ipython-input-62-02564cde1a0a>\u001b[0m in \u001b[0;36m<module>\u001b[0;34m()\u001b[0m\n\u001b[1;32m      1\u001b[0m \u001b[0mn\u001b[0m \u001b[0;34m=\u001b[0m \u001b[0;36m1\u001b[0m\u001b[0;34m\u001b[0m\u001b[0m\n\u001b[0;32m----> 2\u001b[0;31m \u001b[0mtrain_data\u001b[0m \u001b[0;34m=\u001b[0m \u001b[0mtrain_data\u001b[0m\u001b[0;34m[\u001b[0m\u001b[0;34m'A0{}T'\u001b[0m\u001b[0;34m.\u001b[0m\u001b[0mformat\u001b[0m\u001b[0;34m(\u001b[0m\u001b[0mn\u001b[0m\u001b[0;34m)\u001b[0m\u001b[0;34m]\u001b[0m\u001b[0;34m\u001b[0m\u001b[0m\n\u001b[0m\u001b[1;32m      3\u001b[0m \u001b[0mtrain_labels\u001b[0m \u001b[0;34m=\u001b[0m \u001b[0mtrain_labels\u001b[0m\u001b[0;34m[\u001b[0m\u001b[0;34m'A0{}T'\u001b[0m\u001b[0;34m.\u001b[0m\u001b[0mformat\u001b[0m\u001b[0;34m(\u001b[0m\u001b[0mn\u001b[0m\u001b[0;34m)\u001b[0m\u001b[0;34m]\u001b[0m\u001b[0;34m\u001b[0m\u001b[0m\n\u001b[1;32m      4\u001b[0m \u001b[0mtest_data\u001b[0m \u001b[0;34m=\u001b[0m \u001b[0mtest_data\u001b[0m\u001b[0;34m[\u001b[0m\u001b[0;34m'A0{}T'\u001b[0m\u001b[0;34m.\u001b[0m\u001b[0mformat\u001b[0m\u001b[0;34m(\u001b[0m\u001b[0mn\u001b[0m\u001b[0;34m)\u001b[0m\u001b[0;34m]\u001b[0m\u001b[0;34m\u001b[0m\u001b[0m\n\u001b[1;32m      5\u001b[0m \u001b[0mtest_labels\u001b[0m \u001b[0;34m=\u001b[0m \u001b[0mtest_labels\u001b[0m\u001b[0;34m[\u001b[0m\u001b[0;34m'A0{}T'\u001b[0m\u001b[0;34m.\u001b[0m\u001b[0mformat\u001b[0m\u001b[0;34m(\u001b[0m\u001b[0mn\u001b[0m\u001b[0;34m)\u001b[0m\u001b[0;34m]\u001b[0m\u001b[0;34m\u001b[0m\u001b[0m\n",
      "\u001b[0;31mIndexError\u001b[0m: only integers, slices (`:`), ellipsis (`...`), numpy.newaxis (`None`) and integer or boolean arrays are valid indices"
     ]
    }
   ],
   "source": [
    "n = 1\n",
    "train_data = train_data['A0{}T'.format(n)]\n",
    "train_labels = train_labels['A0{}T'.format(n)]\n",
    "test_data = test_data['A0{}T'.format(n)]\n",
    "test_labels = test_labels['A0{}T'.format(n)]"
   ]
  },
  {
   "cell_type": "code",
   "execution_count": 3,
   "metadata": {},
   "outputs": [],
   "source": [
    "#assist numerical stability\n",
    "train_data = train_data*(1e6)\n",
    "test_data = test_data*(1e6)"
   ]
  },
  {
   "cell_type": "code",
   "execution_count": 4,
   "metadata": {},
   "outputs": [
    {
     "name": "stdout",
     "output_type": "stream",
     "text": [
      "(2108, 1000, 22)\n",
      "(450, 1000, 22)\n",
      "(2108, 1000, 22)\n",
      "(450, 1000, 22)\n"
     ]
    }
   ],
   "source": [
    "#Bandpass filter the data\n",
    "train_data = train_data.swapaxes(1,2)\n",
    "test_data = test_data.swapaxes(1,2)\n",
    "print train_data.shape\n",
    "print test_data.shape\n",
    "for i,a in enumerate(train_data):\n",
    "    train_data[i] = bandpass_cnt(a, 4, 38, 250, filt_order=3)\n",
    "for i,a in enumerate(test_data):\n",
    "    test_data[i] = bandpass_cnt(a, 4, 38, 250, filt_order=3)    \n",
    "print train_data.shape\n",
    "print test_data.shape"
   ]
  },
  {
   "cell_type": "code",
   "execution_count": 5,
   "metadata": {},
   "outputs": [
    {
     "name": "stdout",
     "output_type": "stream",
     "text": [
      "(2108, 22, 1000)\n",
      "(450, 22, 1000)\n"
     ]
    }
   ],
   "source": [
    "#Standardize the data\n",
    "for i,a in enumerate(train_data):\n",
    "    train_data[i] = exponential_running_standardize(a, factor_new=0.001, init_block_size=1000, eps=1e-4)\n",
    "for i,a in enumerate(test_data):\n",
    "    test_data[i] = exponential_running_standardize(a, factor_new=0.001, init_block_size=1000, eps=1e-4)\n",
    "train_data = train_data.swapaxes(1,2)\n",
    "test_data = test_data.swapaxes(1,2) \n",
    "print train_data.shape\n",
    "print test_data.shape"
   ]
  },
  {
   "cell_type": "code",
   "execution_count": 6,
   "metadata": {},
   "outputs": [
    {
     "name": "stdout",
     "output_type": "stream",
     "text": [
      "(21080, 22, 512)\n",
      "(21080, 4)\n",
      "(4500, 22, 512)\n",
      "(4500, 4)\n"
     ]
    }
   ],
   "source": [
    "#Augment the data into a bigger set by windowing\n",
    "windows = 10\n",
    "train_data_sliced, train_labels_sliced = create_window_data(train_data, train_labels, windows=windows)\n",
    "test_data_sliced, test_labels_sliced = create_window_data(test_data, test_labels, windows=windows)\n",
    "print train_data_sliced.shape\n",
    "print train_labels_sliced.shape\n",
    "print test_data_sliced.shape\n",
    "print test_labels_sliced.shape "
   ]
  },
  {
   "cell_type": "code",
   "execution_count": 7,
   "metadata": {
    "scrolled": true
   },
   "outputs": [
    {
     "name": "stdout",
     "output_type": "stream",
     "text": [
      "(21080, 512, 22, 1)\n",
      "(4500, 512, 22, 1)\n"
     ]
    }
   ],
   "source": [
    "#Add an additional axis for Conv2D\n",
    "traindata2d = train_data_sliced.reshape(train_data_sliced.shape[0], train_data_sliced.shape[2], train_data_sliced.shape[1], 1)\n",
    "testdata2d = test_data_sliced.reshape(test_data_sliced.shape[0], test_data_sliced.shape[2], test_data_sliced.shape[1], 1)\n",
    "print traindata2d.shape\n",
    "print testdata2d.shape"
   ]
  },
  {
   "cell_type": "code",
   "execution_count": 8,
   "metadata": {},
   "outputs": [],
   "source": [
    "# Modify test data to run model on another subject\n",
    "_, test_data_orig, _, test_labels_orig = prepare_data(file_path, \n",
    "                                            num_test_samples=50, \n",
    "                                            verbose=False, \n",
    "                                            return_all=False,\n",
    "                                            num_files=9)"
   ]
  },
  {
   "cell_type": "code",
   "execution_count": 9,
   "metadata": {},
   "outputs": [
    {
     "name": "stdout",
     "output_type": "stream",
     "text": [
      "9\n",
      "9\n"
     ]
    }
   ],
   "source": [
    "test_data_all = []\n",
    "test_labels_all = []\n",
    "for n in range(1,10):\n",
    "    test_data = test_data_orig['A0{}T'.format(n)]\n",
    "    test_labels = test_labels_orig['A0{}T'.format(n)]\n",
    "    #print test_data.shape\n",
    "    #print test_labels.shape\n",
    "\n",
    "    #assist numerical stability\n",
    "    test_data = test_data*(1e6)\n",
    "    test_data = test_data.swapaxes(1,2)\n",
    "    for i,a in enumerate(test_data):\n",
    "        test_data[i] = bandpass_cnt(a, 4, 38, 250, filt_order=3)    \n",
    "    #print test_data.shape\n",
    "\n",
    "    #standardize\n",
    "    for i,a in enumerate(test_data):\n",
    "        test_data[i] = exponential_running_standardize(a, factor_new=0.001, init_block_size=1000, eps=1e-4)\n",
    "\n",
    "    test_data = test_data.swapaxes(1,2) \n",
    "    test_data_sliced, test_labels_sliced = create_window_data(test_data, test_labels, windows=10)\n",
    "\n",
    "    test_data_sliced = test_data_sliced[:500,:]\n",
    "    test_labels_sliced = test_labels_sliced[:500,:]\n",
    "    #print test_data_sliced.shape\n",
    "    #print test_labels_sliced.shape \n",
    "\n",
    "    testdata2d = test_data_sliced.reshape(test_data_sliced.shape[0], test_data_sliced.shape[2], test_data_sliced.shape[1], 1)\n",
    "    #print testdata2d.shape\n",
    "    \n",
    "    test_data_all.append(testdata2d)\n",
    "    test_labels_all.append(test_labels_sliced)\n",
    "    \n",
    "print(len(test_data_all))\n",
    "print(len(test_labels_all))"
   ]
  },
  {
   "cell_type": "code",
   "execution_count": 12,
   "metadata": {
    "scrolled": true
   },
   "outputs": [
    {
     "name": "stdout",
     "output_type": "stream",
     "text": [
      "_________________________________________________________________\n",
      "Layer (type)                 Output Shape              Param #   \n",
      "=================================================================\n",
      "conv2d_3 (Conv2D)            (None, 488, 22, 40)       1040      \n",
      "_________________________________________________________________\n",
      "conv2d_4 (Conv2D)            (None, 488, 1, 40)        35240     \n",
      "_________________________________________________________________\n",
      "batch_normalization_2 (Batch (None, 488, 1, 40)        160       \n",
      "_________________________________________________________________\n",
      "max_pooling2d_2 (MaxPooling2 (None, 29, 1, 40)         0         \n",
      "_________________________________________________________________\n",
      "dropout_2 (Dropout)          (None, 29, 1, 40)         0         \n",
      "_________________________________________________________________\n",
      "flatten_2 (Flatten)          (None, 1160)              0         \n",
      "_________________________________________________________________\n",
      "dense_2 (Dense)              (None, 4)                 4644      \n",
      "=================================================================\n",
      "Total params: 41,084\n",
      "Trainable params: 41,004\n",
      "Non-trainable params: 80\n",
      "_________________________________________________________________\n",
      "Train on 15810 samples, validate on 5270 samples\n",
      "Epoch 1/10\n",
      "15810/15810 [==============================] - 7s 436us/step - loss: 2.5260 - acc: 0.2810 - val_loss: 1.8679 - val_acc: 0.2926\n",
      "Epoch 2/10\n",
      "15810/15810 [==============================] - 7s 425us/step - loss: 1.6413 - acc: 0.3265 - val_loss: 1.7038 - val_acc: 0.3120\n",
      "Epoch 3/10\n",
      "15810/15810 [==============================] - 7s 426us/step - loss: 1.4156 - acc: 0.3653 - val_loss: 1.3412 - val_acc: 0.3922\n",
      "Epoch 4/10\n",
      "15810/15810 [==============================] - 7s 425us/step - loss: 1.3563 - acc: 0.3783 - val_loss: 1.4710 - val_acc: 0.3357\n",
      "Epoch 5/10\n",
      "15810/15810 [==============================] - 7s 428us/step - loss: 1.3014 - acc: 0.3929 - val_loss: 1.3814 - val_acc: 0.3700\n",
      "Epoch 6/10\n",
      "15810/15810 [==============================] - 7s 426us/step - loss: 1.2741 - acc: 0.4040 - val_loss: 1.2829 - val_acc: 0.4425\n",
      "Epoch 7/10\n",
      "15810/15810 [==============================] - 7s 426us/step - loss: 1.2680 - acc: 0.4130 - val_loss: 1.2308 - val_acc: 0.4243\n",
      "Epoch 8/10\n",
      "15810/15810 [==============================] - 7s 424us/step - loss: 1.2617 - acc: 0.4152 - val_loss: 1.3466 - val_acc: 0.3681\n",
      "Epoch 9/10\n",
      "15810/15810 [==============================] - 7s 423us/step - loss: 1.2460 - acc: 0.4241 - val_loss: 1.4227 - val_acc: 0.3459\n",
      "Epoch 10/10\n",
      "15810/15810 [==============================] - 7s 426us/step - loss: 1.2577 - acc: 0.4188 - val_loss: 1.2192 - val_acc: 0.4298\n"
     ]
    },
    {
     "data": {
      "text/plain": [
       "'test_score = model.evaluate(testdata2d, test_labels_sliced, batch_size=32)\\nprint \"Test Score: {}\".format(test_score)\\nprint \"Windows: {}\".format(windows)\\ntest_predict = model.predict(testdata2d, batch_size=32)\\n\\ncm = confusion_matrix(np.argmax(test_labels_sliced,axis=1),np.argmax(test_predict,axis=1))\\nunique, count = np.unique(np.argmax(test_labels_sliced,axis=1),return_counts=True)\\nprint count \\nplt.figure(0)\\nplot_confusion_matrix(cm, classes=[\"1\",\"2\",\"3\",\"4\"])\\nprint np.argmax(test_predict,axis=1).shape\\nplt.figure(1)\\nplot_hist([hist.history[\\'acc\\'],hist.history[\\'val_acc\\']],[\\'Training Accuracy\\',\\'Val Accuracy\\'],title=\\'Accuracies\\')\\nplt.figure(2)\\nplot_hist([hist.history[\\'loss\\'],hist.history[\\'val_loss\\']],[\\'Training Loss\\',\\'Val Loss\\'],title=\\'Loss\\')'"
      ]
     },
     "execution_count": 12,
     "metadata": {},
     "output_type": "execute_result"
    }
   ],
   "source": [
    "# Conv2D + LSTM\n",
    "model = Sequential()\n",
    "model.add(Conv2D(40, kernel_size=(25,1), activation='relu', data_format='channels_last', input_shape=(512, 22, 1), \n",
    "                 kernel_initializer='glorot_normal')) \n",
    "model.add(Conv2D(40, kernel_size=(1,22), activation='relu', kernel_initializer='glorot_normal') ) \n",
    "model.add(BatchNormalization(axis=-1))\n",
    "#model.add(Lambda(lambda x: x ** 2))\n",
    "model.add(MaxPooling2D(pool_size=(60,1), strides = (15,1)))\n",
    "#model.add(Lambda(lambda x: log(x)))\n",
    "model.add(Dropout(0.5))\n",
    "model.add(Flatten())\n",
    "\n",
    "model.add(Dense(4, activation='softmax',kernel_initializer='glorot_normal'))#, kernel_regularizer=regularizers.l2(0.05)))\n",
    "model.compile(optimizer = 'adam',\n",
    "             loss = 'categorical_crossentropy',\n",
    "             metrics=['accuracy'])\n",
    "model.summary()\n",
    "hist = model.fit(traindata2d,train_labels_sliced,epochs=10,validation_split=0.25,batch_size=150)\n",
    "\n",
    "'''test_score = model.evaluate(testdata2d, test_labels_sliced, batch_size=32)\n",
    "print \"Test Score: {}\".format(test_score)\n",
    "print \"Windows: {}\".format(windows)\n",
    "test_predict = model.predict(testdata2d, batch_size=32)\n",
    "\n",
    "cm = confusion_matrix(np.argmax(test_labels_sliced,axis=1),np.argmax(test_predict,axis=1))\n",
    "unique, count = np.unique(np.argmax(test_labels_sliced,axis=1),return_counts=True)\n",
    "print count \n",
    "plt.figure(0)\n",
    "plot_confusion_matrix(cm, classes=[\"1\",\"2\",\"3\",\"4\"])\n",
    "print np.argmax(test_predict,axis=1).shape\n",
    "plt.figure(1)\n",
    "plot_hist([hist.history['acc'],hist.history['val_acc']],['Training Accuracy','Val Accuracy'],title='Accuracies')\n",
    "plt.figure(2)\n",
    "plot_hist([hist.history['loss'],hist.history['val_loss']],['Training Loss','Val Loss'],title='Loss')'''"
   ]
  },
  {
   "cell_type": "code",
   "execution_count": 13,
   "metadata": {},
   "outputs": [
    {
     "name": "stdout",
     "output_type": "stream",
     "text": [
      "Subject 1\n",
      "500/500 [==============================] - 0s 179us/step\n",
      "Test Score: [1.013595953464508, 0.58599999809265135]\n",
      "Subject 2\n",
      "500/500 [==============================] - 0s 178us/step\n",
      "Test Score: [1.3885438137054444, 0.29200000059604647]\n",
      "Subject 3\n",
      "500/500 [==============================] - 0s 183us/step\n",
      "Test Score: [1.0980460062026978, 0.53399999904632567]\n",
      "Subject 4\n",
      "500/500 [==============================] - 0s 180us/step\n",
      "Test Score: [1.3475265607833862, 0.3860000014305115]\n",
      "Subject 5\n",
      "500/500 [==============================] - 0s 177us/step\n",
      "Test Score: [1.5139460563659668, 0.23000000017881395]\n",
      "Subject 6\n",
      "500/500 [==============================] - 0s 181us/step\n",
      "Test Score: [1.3973660783767701, 0.31600000143051149]\n",
      "Subject 7\n",
      "500/500 [==============================] - 0s 176us/step\n",
      "Test Score: [1.319798981666565, 0.39200000047683714]\n",
      "Subject 8\n",
      "500/500 [==============================] - 0s 178us/step\n",
      "Test Score: [1.2537166395187378, 0.44600000000000001]\n",
      "Subject 9\n",
      "500/500 [==============================] - 0s 182us/step\n",
      "Test Score: [1.4792100496292113, 0.33600000035762789]\n"
     ]
    },
    {
     "data": {
      "image/png": "[encoded data removed]",
      "text/plain": [
       "<matplotlib.figure.Figure at 0x7ff973841150>"
      ]
     },
     "metadata": {},
     "output_type": "display_data"
    },
    {
     "data": {
      "image/png": "[encoded data removed]",
      "text/plain": [
       "<matplotlib.figure.Figure at 0x7ff898787c90>"
      ]
     },
     "metadata": {},
     "output_type": "display_data"
    }
   ],
   "source": [
    "conf = []\n",
    "test_score = []\n",
    "\n",
    "for i in range(9):\n",
    "    print \"Subject {}\".format(i+1)\n",
    "    test_score_i = model.evaluate(test_data_all[i], test_labels_all[i], batch_size=64)\n",
    "    print \"Test Score: {}\".format(test_score_i)\n",
    "    test_predict = model.predict(test_data_all[i], batch_size=16)\n",
    "    cm = confusion_matrix(np.argmax(test_labels_all[i],axis=1),np.argmax(test_predict,axis=1))\n",
    "    conf.append(cm)\n",
    "    test_score.append(test_score_i)\n",
    "    \n",
    "plot_hist([hist.history['acc'],hist.history['val_acc']],['Training Accuracy','Val Accuracy'],title='Accuracies')\n",
    "plot_hist([hist.history['loss'],hist.history['val_loss']],['Training Loss','Val Loss'],title='Losses')"
   ]
  },
  {
   "cell_type": "code",
   "execution_count": 14,
   "metadata": {},
   "outputs": [],
   "source": [
    "np.save('Best Models/Variables/shallow_hist_all_bad',hist.history)\n",
    "np.save('Best Models/Variables/shallow_testacc_all_bad',test_score)\n",
    "np.save('Best Models/Variables/shallow_conf_all_bad',conf)"
   ]
  },
  {
   "cell_type": "code",
   "execution_count": null,
   "metadata": {},
   "outputs": [],
   "source": [
    "### test_predict = np.argmax(test_predict, axis=1)1\n",
    "print test_predict.shape "
   ]
  },
  {
   "cell_type": "code",
   "execution_count": 60,
   "metadata": {},
   "outputs": [
    {
     "name": "stdout",
     "output_type": "stream",
     "text": [
      "[2 2 2 2 2 2 2 2 0 2 2 2 2 2 2 2 2 2 2 2 2 2 2 2 2 2 2 2 2 2 2 2 2 2 1 2 2\n",
      " 2 2 2 2 2 2 2 2 2 2 2 2 2 2 2 2 2 2 2 2 2 2 2 2 2 2 2 2 2 2 2 2 2 2 2 2 2\n",
      " 2 2 2 2 2 2 2 2 2 2 2 2 2 2 2 2 2 2 2 2 2 2 2 2 2 2 2 2 2 2 2 2 2 2 2 2 2\n",
      " 2 2 2 2 2 2 3 2 2 2 2 3 2 3 2 3 2 2 3 2 3 3 2 2 2 2 3 2 3 2 2 2 3 2 0 0 2\n",
      " 2 0 3 3 3 3 3 3 3 3 3 3 3 3 3 3 3 3 2 3 3 3 3 2 2 2 3 3 3 3 3 3 2 3 3 3 3\n",
      " 2 3 3 2 3 3 3 2 3 3 2 3 3 3 2 2 2 2 2 3 3 2 2 2 2 2 2 3 3 2 2 2 2 2 3 3 3\n",
      " 2 2 3 2 3 3 2 2 2 3 2 2 3 2 2 2 2 2 2 3 2 2 2 2 2 2 3 2 2 2 2 2 2 2 3 2 2\n",
      " 2 2 2 2 3 2 2 2 2 2 2 2 2 2 2 2 2 2 2 2 2 2 2 2 2 2 2 2 2 2 2 2 2 2 2 2 2\n",
      " 2 2 2 2 2 2 2 0 0 0 0 0 0 0 0 0 0 0 0 0 0 0 2 0 0 0 0 0 0 0 0 2 0 2 0 0 2\n",
      " 2 2 2 2 2 2 2 2 2 0 0 2 0 0 0 0 0 0 0 0 0 0 0 0 0 0 0 0 0 0 0 0 0 0 0 0 0\n",
      " 0 0 0 0 0 0 0 0 0 0 0 0 0 0 0 0 0 0 0 0 0 0 0 0 0 0 0 0 0 0 0 0 0 0 0 2 0\n",
      " 2 1 0 1 1 1 1 1 1 1 0 1 1 1 1 2 1 0 1 1 2 2 2 1 0 2 1 1 0 0 1 0 0 0 0 0 0\n",
      " 1 0 0 0 2 0 1 1 1 1 1 1 1 1 1 1 1 1 1 1 1 1 1 1 1 1 1 1 0 1 1 1 1 1 1 1 1\n",
      " 1 1 1 1 1 1 1 1 1 1 1 1 1 1 1 1 1 1 1 1 1 1 1 1 1 1 1 1 1 1 1]\n",
      "[110  82 254  66]\n"
     ]
    }
   ],
   "source": [
    "w = 0\n",
    "print test_predict[(w*windows):(w*windows+512)]\n",
    "print np.bincount(test_predict[(w*windows):(w*windows+512)])"
   ]
  },
  {
   "cell_type": "code",
   "execution_count": 50,
   "metadata": {},
   "outputs": [
    {
     "name": "stdout",
     "output_type": "stream",
     "text": [
      "(50,)\n",
      "[0 2 0 3 1 3 3 2 3 3 2 1 3 2 0 1 1 1 2 1 3 2 3 1 2 0 3 0 2 3 0 2 0 1 1 0 3\n",
      " 0 3 2 2 0 2 1 1 0 2 0 1 0]\n",
      "[ 0.  1.  1.  3.  3.  3.  2.  2.  2.  2.  2.  2.  2.  2.  2.  2.  2.  2.\n",
      "  3.  3.  3.  2.  2.  2.  2.  2.  2.  2.  2.  3.  0.  0.  0.  0.  0.  0.\n",
      "  3.  2.  2.  2.  2.  0.  2.  2.  2.  2.  0.  0.  0.  0.]\n",
      "[ 0.  1.  1.  3.  3.  3.  2.  2.  2.  2.  2.  2.  2.  2.  2.  2.  2.  2.\n",
      "  3.  3.  3.  2.  2.  2.  2.  2.  2.  2.  2.  3.  0.  0.  0.  0.  0.  0.\n",
      "  3.  2.  2.  2.  2.  0.  2.  2.  2.  2.  0.  0.  0.  0.]\n"
     ]
    }
   ],
   "source": [
    "test_predict_ave = np.zeros(test_predict.shape[0]/windows)\n",
    "print test_predict_ave.shape\n",
    "for w in range(test_labels.shape[0]):\n",
    "    test_predict_ave[w] = np.argmax(np.bincount(test_predict[(w*windows):(w*windows+512)]))\n",
    "print np.argmax(test_labels, axis=1)\n",
    "print test_predict_ave \n",
    "print np.rint(test_predict_ave)"
   ]
  },
  {
   "cell_type": "code",
   "execution_count": null,
   "metadata": {},
   "outputs": [],
   "source": [
    "#Deeper CNN + LSTM (Golmohammadi paper)\n",
    "model = Sequential()\n",
    "model.add(Conv2D(16, kernel_size=(22,1), activation='relu', data_format='channels_last', input_shape=(512, 22, 1)))"
   ]
  }
 ],
 "metadata": {
  "kernelspec": {
   "display_name": "Python 2",
   "language": "python",
   "name": "python2"
  },
  "language_info": {
   "codemirror_mode": {
    "name": "ipython",
    "version": 2
   },
   "file_extension": ".py",
   "mimetype": "text/x-python",
   "name": "python",
   "nbconvert_exporter": "python",
   "pygments_lexer": "ipython2",
   "version": "2.7.12"
  }
 },
 "nbformat": 4,
 "nbformat_minor": 2
}
