{
 "cells": [
  {
   "cell_type": "code",
   "execution_count": 2,
   "metadata": {},
   "outputs": [
    {
     "ename": "RuntimeError",
     "evalue": "module compiled against API version 0xb but this version of numpy is 0xa",
     "output_type": "error",
     "traceback": [
      "\u001b[0;31m---------------------------------------------------------------------------\u001b[0m",
      "\u001b[0;31mRuntimeError\u001b[0m                              Traceback (most recent call last)",
      "\u001b[0;31mRuntimeError\u001b[0m: module compiled against API version 0xb but this version of numpy is 0xa"
     ]
    },
    {
     "ename": "RuntimeError",
     "evalue": "module compiled against API version 0xb but this version of numpy is 0xa",
     "output_type": "error",
     "traceback": [
      "\u001b[0;31m---------------------------------------------------------------------------\u001b[0m",
      "\u001b[0;31mRuntimeError\u001b[0m                              Traceback (most recent call last)",
      "\u001b[0;31mRuntimeError\u001b[0m: module compiled against API version 0xb but this version of numpy is 0xa"
     ]
    },
    {
     "name": "stderr",
     "output_type": "stream",
     "text": [
      "Using TensorFlow backend.\n"
     ]
    },
    {
     "name": "stdout",
     "output_type": "stream",
     "text": [
      "[[ 0.  0.  0.  1.]\n",
      " [ 0.  0.  1.  0.]\n",
      " [ 0.  1.  0.  0.]\n",
      " ..., \n",
      " [ 1.  0.  0.  0.]\n",
      " [ 0.  1.  0.  0.]\n",
      " [ 1.  0.  0.  0.]]\n"
     ]
    }
   ],
   "source": [
    "import numpy as np\n",
    "import h5py\n",
    "import tensorflow as tf\n",
    "import matplotlib.pyplot as plt\n",
    "\n",
    "from keras.models import Sequential\n",
    "from keras.layers import Dense \n",
    "from keras.layers import ConvLSTM2D, Conv2D, MaxPooling2D\n",
    "from keras.layers import MaxPooling1D, Conv1D\n",
    "from keras.layers import GRU, LSTM, BatchNormalization\n",
    "from keras.layers import TimeDistributed\n",
    "from keras.layers import Flatten\n",
    "from keras.utils import to_categorical\n",
    "from keras.layers import Activation\n",
    "from keras.layers import Dropout\n",
    "\n",
    "from keras import regularizers\n",
    "\n",
    "from sklearn.metrics import confusion_matrix\n",
    "import itertools\n",
    "\n",
    "from UtilNNDL import create_window_data\n",
    "from UtilNNDL import plot_hist\n",
    "from UtilNNDL import prepare_data\n",
    "from UtilNNDL import plot_confusion_matrix\n",
    "\n",
    "A01T = h5py.File('/home/carla/Downloads/project_datasets/project_datasets/A01T_slice.mat','r')\n",
    "data = np.copy(A01T['image'])\n",
    "labels = np.copy(A01T['type'])\n",
    "labels = labels[0,0:data.shape[0]:1]\n",
    "labels = np.asarray(labels, dtype=np.int32)\n",
    "\n",
    "a = data[:56]\n",
    "b = data[57:]\n",
    "data = np.vstack((a,b))\n",
    "a = labels[:56]\n",
    "b = labels[57:]\n",
    "labels = np.hstack((a,b))\n",
    "#enc = OneHotEncoder()\n",
    "#enc_labels = enc.fit_transform(labels.reshape(-1,1)).toarray()\n",
    "enc_labels = to_categorical(labels-769, num_classes=4)\n",
    "print(enc_labels)"
   ]
  },
  {
   "cell_type": "code",
   "execution_count": 3,
   "metadata": {},
   "outputs": [
    {
     "name": "stdout",
     "output_type": "stream",
     "text": [
      "(237, 22, 1000)\n",
      "(237, 4)\n",
      "(50, 22, 1000)\n",
      "(50, 4)\n"
     ]
    }
   ],
   "source": [
    "file_path = '/home/carla/Downloads/project_datasets/project_datasets/'\n",
    "train_data, test_data, train_labels, test_labels = prepare_data(file_path, \n",
    "                                                                num_test_samples = 50, \n",
    "                                                                verbose= False, \n",
    "                                                                return_all=True,\n",
    "                                                                num_files =1)\n",
    "print train_data.shape\n",
    "print train_labels.shape\n",
    "print test_data.shape\n",
    "print test_labels.shape"
   ]
  },
  {
   "cell_type": "code",
   "execution_count": 7,
   "metadata": {},
   "outputs": [
    {
     "name": "stdout",
     "output_type": "stream",
     "text": [
      "(237, 22, 1000)\n",
      "(50, 22, 1000)\n"
     ]
    }
   ],
   "source": [
    "bs, t, f = data.shape\n",
    "np.random.seed(42)\n",
    "shuffle = np.random.choice(bs,bs,replace=False)\n",
    "\n",
    "data = data[:,0:22,:]\n",
    "\n",
    "train_samples = data.shape[0]-50\n",
    "train_data = data[shuffle[:train_samples],:,:]\n",
    "train_labels = enc_labels[shuffle[:train_samples]]\n",
    "test_data = data[shuffle[train_samples:],:,:]\n",
    "test_labels = enc_labels[shuffle[train_samples:]]\n",
    "print train_data.shape\n",
    "print test_data.shape"
   ]
  },
  {
   "cell_type": "code",
   "execution_count": 3,
   "metadata": {},
   "outputs": [
    {
     "name": "stdout",
     "output_type": "stream",
     "text": [
      "(474, 22, 1000)\n",
      "(100, 22, 1000)\n",
      "(474, 4)\n",
      "(100, 4)\n"
     ]
    }
   ],
   "source": [
    "#Experimental, try flipping the data in time\n",
    "train_data = np.vstack([train_data, train_data[:,:,::-1]])\n",
    "test_data = np.vstack([test_data, test_data[:,:,::-1]]) \n",
    "print train_data.shape\n",
    "print test_data.shape\n",
    "train_labels = np.vstack([train_labels, train_labels])\n",
    "test_labels = np.vstack([test_labels, test_labels])\n",
    "print train_labels.shape\n",
    "print test_labels .shape "
   ]
  },
  {
   "cell_type": "code",
   "execution_count": 4,
   "metadata": {},
   "outputs": [
    {
     "name": "stdout",
     "output_type": "stream",
     "text": [
      "(2370, 22, 512)\n",
      "(2370, 4)\n",
      "(500, 22, 512)\n",
      "(500, 4)\n"
     ]
    }
   ],
   "source": [
    "#Augment the data into a bigger set by windowing\n",
    "train_data_sliced, train_labels_sliced = create_window_data(train_data, train_labels, windows=10)\n",
    "test_data_sliced, test_labels_sliced = create_window_data(test_data, test_labels, windows=10)\n",
    "print train_data_sliced.shape\n",
    "print train_labels_sliced.shape\n",
    "print test_data_sliced.shape\n",
    "print test_labels_sliced.shape "
   ]
  },
  {
   "cell_type": "code",
   "execution_count": 4,
   "metadata": {},
   "outputs": [
    {
     "name": "stdout",
     "output_type": "stream",
     "text": [
      "(500, 22, 512)\n",
      "(500, 4)\n"
     ]
    }
   ],
   "source": [
    "test_data_sliced = test_data_sliced[:500,:]\n",
    "test_labels_sliced = test_labels_sliced[:500,:]\n",
    "print test_data_sliced.shape\n",
    "print test_labels_sliced.shape "
   ]
  },
  {
   "cell_type": "code",
   "execution_count": 5,
   "metadata": {},
   "outputs": [
    {
     "name": "stdout",
     "output_type": "stream",
     "text": [
      "(2370, 512, 22, 1)\n",
      "(500, 512, 22, 1)\n"
     ]
    }
   ],
   "source": [
    "traindata2d = train_data_sliced.reshape(train_data_sliced.shape[0], train_data_sliced.shape[2], train_data_sliced.shape[1], 1)\n",
    "testdata2d = test_data_sliced.reshape(test_data_sliced.shape[0], test_data_sliced.shape[2], test_data_sliced.shape[1], 1)\n",
    "print traindata2d.shape\n",
    "print testdata2d.shape"
   ]
  },
  {
   "cell_type": "code",
   "execution_count": 11,
   "metadata": {
    "scrolled": true
   },
   "outputs": [
    {
     "name": "stdout",
     "output_type": "stream",
     "text": [
      "_________________________________________________________________\n",
      "Layer (type)                 Output Shape              Param #   \n",
      "=================================================================\n",
      "conv2d_11 (Conv2D)           (None, 491, 22, 40)       920       \n",
      "_________________________________________________________________\n",
      "conv2d_12 (Conv2D)           (None, 491, 1, 40)        35240     \n",
      "_________________________________________________________________\n",
      "batch_normalization_6 (Batch (None, 491, 1, 40)        160       \n",
      "_________________________________________________________________\n",
      "max_pooling2d_6 (MaxPooling2 (None, 8, 1, 40)          0         \n",
      "_________________________________________________________________\n",
      "flatten_6 (Flatten)          (None, 320)               0         \n",
      "_________________________________________________________________\n",
      "dropout_6 (Dropout)          (None, 320)               0         \n",
      "_________________________________________________________________\n",
      "dense_6 (Dense)              (None, 4)                 1284      \n",
      "=================================================================\n",
      "Total params: 37,604\n",
      "Trainable params: 37,524\n",
      "Non-trainable params: 80\n",
      "_________________________________________________________________\n",
      "Train on 1777 samples, validate on 593 samples\n",
      "Epoch 1/35\n",
      "1777/1777 [==============================] - 1s 638us/step - loss: 5.7333 - acc: 0.2493 - val_loss: 2.4220 - val_acc: 0.2631\n",
      "Epoch 2/35\n",
      "1777/1777 [==============================] - 1s 444us/step - loss: 4.2588 - acc: 0.2718 - val_loss: 2.5765 - val_acc: 0.2631\n",
      "Epoch 3/35\n",
      "1777/1777 [==============================] - 1s 445us/step - loss: 3.5717 - acc: 0.2904 - val_loss: 2.2472 - val_acc: 0.2884\n",
      "Epoch 4/35\n",
      "1777/1777 [==============================] - 1s 444us/step - loss: 3.1039 - acc: 0.2988 - val_loss: 1.8696 - val_acc: 0.3153\n",
      "Epoch 5/35\n",
      "1777/1777 [==============================] - 1s 441us/step - loss: 2.9232 - acc: 0.3303 - val_loss: 2.5259 - val_acc: 0.2934\n",
      "Epoch 6/35\n",
      "1777/1777 [==============================] - 1s 449us/step - loss: 2.5383 - acc: 0.3438 - val_loss: 2.1472 - val_acc: 0.2732\n",
      "Epoch 7/35\n",
      "1777/1777 [==============================] - 1s 442us/step - loss: 2.3435 - acc: 0.3483 - val_loss: 1.7728 - val_acc: 0.3002\n",
      "Epoch 8/35\n",
      "1777/1777 [==============================] - 1s 444us/step - loss: 2.1926 - acc: 0.3551 - val_loss: 1.5867 - val_acc: 0.3272\n",
      "Epoch 9/35\n",
      "1777/1777 [==============================] - 1s 444us/step - loss: 1.9867 - acc: 0.3692 - val_loss: 1.5758 - val_acc: 0.3069\n",
      "Epoch 10/35\n",
      "1777/1777 [==============================] - 1s 447us/step - loss: 1.9206 - acc: 0.3765 - val_loss: 1.4092 - val_acc: 0.3322\n",
      "Epoch 11/35\n",
      "1777/1777 [==============================] - 1s 446us/step - loss: 1.8045 - acc: 0.3956 - val_loss: 1.3433 - val_acc: 0.3659\n",
      "Epoch 12/35\n",
      "1777/1777 [==============================] - 1s 438us/step - loss: 1.7455 - acc: 0.3900 - val_loss: 1.4236 - val_acc: 0.3845\n",
      "Epoch 13/35\n",
      "1777/1777 [==============================] - 1s 438us/step - loss: 1.6182 - acc: 0.4221 - val_loss: 1.3483 - val_acc: 0.3558\n",
      "Epoch 14/35\n",
      "1777/1777 [==============================] - 1s 449us/step - loss: 1.5948 - acc: 0.4322 - val_loss: 1.3105 - val_acc: 0.3828\n",
      "Epoch 15/35\n",
      "1777/1777 [==============================] - 1s 447us/step - loss: 1.5082 - acc: 0.4384 - val_loss: 1.4055 - val_acc: 0.3390\n",
      "Epoch 16/35\n",
      "1777/1777 [==============================] - 1s 444us/step - loss: 1.4929 - acc: 0.4299 - val_loss: 1.3294 - val_acc: 0.3862\n",
      "Epoch 17/35\n",
      "1777/1777 [==============================] - 1s 441us/step - loss: 1.4825 - acc: 0.4485 - val_loss: 1.2897 - val_acc: 0.4013\n",
      "Epoch 18/35\n",
      "1777/1777 [==============================] - 1s 442us/step - loss: 1.3677 - acc: 0.4654 - val_loss: 1.2515 - val_acc: 0.4216\n",
      "Epoch 19/35\n",
      "1777/1777 [==============================] - 1s 441us/step - loss: 1.4381 - acc: 0.4440 - val_loss: 1.2855 - val_acc: 0.3963\n",
      "Epoch 20/35\n",
      "1777/1777 [==============================] - 1s 441us/step - loss: 1.3235 - acc: 0.4958 - val_loss: 1.2388 - val_acc: 0.4250\n",
      "Epoch 21/35\n",
      "1777/1777 [==============================] - 1s 443us/step - loss: 1.3552 - acc: 0.4648 - val_loss: 1.2533 - val_acc: 0.4233\n",
      "Epoch 22/35\n",
      "1777/1777 [==============================] - 1s 440us/step - loss: 1.3379 - acc: 0.4783 - val_loss: 1.2450 - val_acc: 0.4283\n",
      "Epoch 23/35\n",
      "1777/1777 [==============================] - 1s 449us/step - loss: 1.3236 - acc: 0.4766 - val_loss: 1.2434 - val_acc: 0.4030\n",
      "Epoch 24/35\n",
      "1777/1777 [==============================] - 1s 443us/step - loss: 1.2882 - acc: 0.4879 - val_loss: 1.2659 - val_acc: 0.4132\n",
      "Epoch 25/35\n",
      "1777/1777 [==============================] - 1s 440us/step - loss: 1.2803 - acc: 0.4823 - val_loss: 1.2392 - val_acc: 0.4165\n",
      "Epoch 26/35\n",
      "1777/1777 [==============================] - 1s 431us/step - loss: 1.2281 - acc: 0.5025 - val_loss: 1.2557 - val_acc: 0.4115\n",
      "Epoch 27/35\n",
      "1777/1777 [==============================] - 1s 447us/step - loss: 1.2332 - acc: 0.5217 - val_loss: 1.2296 - val_acc: 0.4216\n",
      "Epoch 28/35\n",
      "1777/1777 [==============================] - 1s 438us/step - loss: 1.2021 - acc: 0.5172 - val_loss: 1.2422 - val_acc: 0.4199\n",
      "Epoch 29/35\n",
      "1777/1777 [==============================] - 1s 442us/step - loss: 1.1846 - acc: 0.5149 - val_loss: 1.1982 - val_acc: 0.4469\n",
      "Epoch 30/35\n",
      "1777/1777 [==============================] - 1s 448us/step - loss: 1.1846 - acc: 0.5127 - val_loss: 1.2018 - val_acc: 0.4519\n",
      "Epoch 31/35\n",
      "1777/1777 [==============================] - 1s 449us/step - loss: 1.1506 - acc: 0.5447 - val_loss: 1.2181 - val_acc: 0.4266\n",
      "Epoch 32/35\n",
      "1777/1777 [==============================] - 1s 438us/step - loss: 1.1678 - acc: 0.5340 - val_loss: 1.2399 - val_acc: 0.4334\n",
      "Epoch 33/35\n",
      "1777/1777 [==============================] - 1s 450us/step - loss: 1.1339 - acc: 0.5464 - val_loss: 1.2159 - val_acc: 0.4351\n",
      "Epoch 34/35\n",
      "1777/1777 [==============================] - 1s 449us/step - loss: 1.1358 - acc: 0.5442 - val_loss: 1.2105 - val_acc: 0.4469\n",
      "Epoch 35/35\n",
      "1777/1777 [==============================] - 1s 446us/step - loss: 1.1012 - acc: 0.5695 - val_loss: 1.2203 - val_acc: 0.4317\n",
      "500/500 [==============================] - 0s 219us/step\n",
      "Test Score: [1.3097534685134888, 0.39600000011920927]\n",
      "[130 120 130 120]\n",
      "Confusion matrix, without normalization\n",
      "[[29 36 47 18]\n",
      " [11 49 58  2]\n",
      " [13 10 57 50]\n",
      " [ 9  5 43 63]]\n",
      "(500,)\n"
     ]
    },
    {
     "data": {
      "image/png": "[encoded data removed]",
      "text/plain": [
       "<matplotlib.figure.Figure at 0x7fe91f535510>"
      ]
     },
     "metadata": {},
     "output_type": "display_data"
    },
    {
     "data": {
      "image/png": "[encoded data removed]",
      "text/plain": [
       "<matplotlib.figure.Figure at 0x7fe91ced6b50>"
      ]
     },
     "metadata": {},
     "output_type": "display_data"
    },
    {
     "data": {
      "image/png": "[encoded data removed]",
      "text/plain": [
       "<matplotlib.figure.Figure at 0x7fe91ce4aa50>"
      ]
     },
     "metadata": {},
     "output_type": "display_data"
    }
   ],
   "source": [
    "# Conv2D + LSTM\n",
    "\n",
    "model = Sequential()\n",
    "model.add(Conv2D(40, kernel_size=(3,3), activation='relu', data_format='channels_last', input_shape=(512, 22, 1))) \n",
    "model.add(Conv2D(40, kernel_size=(1,22), activation='relu') ) \n",
    "model.add(BatchNormalization(axis=-1))\n",
    "model.add(MaxPooling2D(pool_size=(60,1)))\n",
    "model.add(Flatten())\n",
    "model.add(Dropout(0.65))\n",
    "model.add(Dense(4, activation='softmax'))#, kernel_regularizer=regularizers.l2(0.05)))\n",
    "model.compile(optimizer = 'adam',\n",
    "             loss = 'categorical_crossentropy',\n",
    "             metrics=['accuracy'])\n",
    "model.summary()\n",
    "hist = model.fit(traindata2d,train_labels_sliced,epochs=35,validation_split=0.25,batch_size=100)\n",
    "test_score = model.evaluate(testdata2d, test_labels_sliced, batch_size=32)\n",
    "print \"Test Score: {}\".format(test_score)\n",
    "test_predict = model.predict(testdata2d, batch_size=32)\n",
    "cm = confusion_matrix(np.argmax(test_labels_sliced,axis=1),np.argmax(test_predict,axis=1))\n",
    "unique, count = np.unique(np.argmax(test_labels_sliced,axis=1),return_counts=True)\n",
    "print count \n",
    "plt.figure(0)\n",
    "plot_confusion_matrix(cm, classes=[\"1\",\"2\",\"3\",\"4\"])\n",
    "print np.argmax(test_predict,axis=1).shape\n",
    "plt.figure(1)\n",
    "plot_hist([hist.history['acc'],hist.history['val_acc']],['Training Accuracy','Val Accuracy'],title='Accuracies')\n",
    "plt.figure(2)\n",
    "plot_hist([hist.history['loss'],hist.history['val_loss']],['Training Loss','Val Loss'],title='Loss')"
   ]
  },
  {
   "cell_type": "code",
   "execution_count": null,
   "metadata": {},
   "outputs": [],
   "source": [
    "#Deeper CNN + LSTM (Golmohammadi paper)\n",
    "model = Sequential()\n",
    "model.add(Conv2D(16, kernel_size=(22,1), activation='relu', data_format='channels_last', input_shape=(512, 22, 1)))"
   ]
  }
 ],
 "metadata": {
  "kernelspec": {
   "display_name": "Python 2",
   "language": "python",
   "name": "python2"
  },
  "language_info": {
   "codemirror_mode": {
    "name": "ipython",
    "version": 2
   },
   "file_extension": ".py",
   "mimetype": "text/x-python",
   "name": "python",
   "nbconvert_exporter": "python",
   "pygments_lexer": "ipython2",
   "version": "2.7.12"
  }
 },
 "nbformat": 4,
 "nbformat_minor": 2
}
