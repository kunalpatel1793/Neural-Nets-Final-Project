{
 "cells": [
  {
   "cell_type": "code",
   "execution_count": 2,
   "metadata": {},
   "outputs": [
    {
     "ename": "RuntimeError",
     "evalue": "module compiled against API version 0xb but this version of numpy is 0xa",
     "output_type": "error",
     "traceback": [
      "\u001b[0;31m---------------------------------------------------------------------------\u001b[0m",
      "\u001b[0;31mRuntimeError\u001b[0m                              Traceback (most recent call last)",
      "\u001b[0;31mRuntimeError\u001b[0m: module compiled against API version 0xb but this version of numpy is 0xa"
     ]
    },
    {
     "ename": "RuntimeError",
     "evalue": "module compiled against API version 0xb but this version of numpy is 0xa",
     "output_type": "error",
     "traceback": [
      "\u001b[0;31m---------------------------------------------------------------------------\u001b[0m",
      "\u001b[0;31mRuntimeError\u001b[0m                              Traceback (most recent call last)",
      "\u001b[0;31mRuntimeError\u001b[0m: module compiled against API version 0xb but this version of numpy is 0xa"
     ]
    },
    {
     "name": "stderr",
     "output_type": "stream",
     "text": [
      "Using TensorFlow backend.\n"
     ]
    },
    {
     "name": "stdout",
     "output_type": "stream",
     "text": [
      "[[ 0.  0.  0.  1.]\n",
      " [ 0.  0.  1.  0.]\n",
      " [ 0.  1.  0.  0.]\n",
      " ..., \n",
      " [ 1.  0.  0.  0.]\n",
      " [ 0.  1.  0.  0.]\n",
      " [ 1.  0.  0.  0.]]\n"
     ]
    }
   ],
   "source": [
    "import numpy as np\n",
    "import h5py\n",
    "import tensorflow as tf\n",
    "import matplotlib.pyplot as plt\n",
    "\n",
    "from keras.models import Sequential\n",
    "from keras.layers import Dense \n",
    "from keras.layers import ConvLSTM2D, Conv2D, MaxPooling2D\n",
    "from keras.layers import MaxPooling1D, Conv1D\n",
    "from keras.layers import GRU, LSTM, BatchNormalization\n",
    "from keras.layers import TimeDistributed\n",
    "from keras.layers import Flatten\n",
    "from keras.utils import to_categorical\n",
    "from keras.layers import Activation\n",
    "from keras.layers import Dropout\n",
    "\n",
    "from keras import regularizers\n",
    "\n",
    "from sklearn.metrics import confusion_matrix\n",
    "import itertools\n",
    "\n",
    "from UtilNNDL import create_window_data\n",
    "from UtilNNDL import plot_hist\n",
    "from UtilNNDL import prepare_data\n",
    "from UtilNNDL import plot_confusion_matrix\n",
    "from UtilNNDL import bandpass_cnt\n",
    "from UtilNNDL import exponential_running_standardize\n",
    "\n",
    "A01T = h5py.File('/home/carla/Downloads/project_datasets/project_datasets/A01T_slice.mat','r')\n",
    "data = np.copy(A01T['image'])\n",
    "labels = np.copy(A01T['type'])\n",
    "labels = labels[0,0:data.shape[0]:1]\n",
    "labels = np.asarray(labels, dtype=np.int32)\n",
    "\n",
    "a = data[:56]\n",
    "b = data[57:]\n",
    "data = np.vstack((a,b))\n",
    "a = labels[:56]\n",
    "b = labels[57:]\n",
    "labels = np.hstack((a,b))\n",
    "#enc = OneHotEncoder()\n",
    "#enc_labels = enc.fit_transform(labels.reshape(-1,1)).toarray()\n",
    "enc_labels = to_categorical(labels-769, num_classes=4)\n",
    "print(enc_labels)"
   ]
  },
  {
   "cell_type": "code",
   "execution_count": 16,
   "metadata": {},
   "outputs": [
    {
     "name": "stdout",
     "output_type": "stream",
     "text": [
      "(237, 22, 1000)\n",
      "(237, 4)\n",
      "(50, 22, 1000)\n",
      "(50, 4)\n"
     ]
    }
   ],
   "source": [
    "file_path = '/home/carla/Downloads/project_datasets/project_datasets/'\n",
    "train_data, test_data, train_labels, test_labels = prepare_data(file_path, \n",
    "                                                                num_test_samples = 50, \n",
    "                                                                verbose= False, \n",
    "                                                                return_all=True,\n",
    "                                                                num_files =1)\n",
    "print train_data.shape\n",
    "print train_labels.shape\n",
    "print test_data.shape\n",
    "print test_labels.shape"
   ]
  },
  {
   "cell_type": "code",
   "execution_count": 17,
   "metadata": {},
   "outputs": [],
   "source": [
    "#assist numerical stability\n",
    "train_data = train_data*(1e6)\n",
    "test_data = test_data*(1e6)"
   ]
  },
  {
   "cell_type": "code",
   "execution_count": 18,
   "metadata": {},
   "outputs": [
    {
     "name": "stdout",
     "output_type": "stream",
     "text": [
      "(237, 1000, 22)\n",
      "(50, 1000, 22)\n",
      "(237, 1000, 22)\n",
      "(50, 1000, 22)\n"
     ]
    }
   ],
   "source": [
    "train_data = train_data.swapaxes(1,2)\n",
    "test_data = test_data.swapaxes(1,2)\n",
    "print train_data.shape\n",
    "print test_data.shape\n",
    "for i,a in enumerate(train_data):\n",
    "    train_data[i] = bandpass_cnt(a, 4, 38, 250, filt_order=3)\n",
    "for i,a in enumerate(test_data):\n",
    "    test_data[i] = bandpass_cnt(a, 4, 38, 250, filt_order=3)    \n",
    "print train_data.shape\n",
    "print test_data.shape"
   ]
  },
  {
   "cell_type": "code",
   "execution_count": 19,
   "metadata": {},
   "outputs": [
    {
     "name": "stdout",
     "output_type": "stream",
     "text": [
      "(237, 22, 1000)\n",
      "(50, 22, 1000)\n"
     ]
    }
   ],
   "source": [
    "for i,a in enumerate(train_data):\n",
    "    train_data[i] = exponential_running_standardize(a, factor_new=0.001, init_block_size=1000, eps=1e-4)\n",
    "for i,a in enumerate(test_data):\n",
    "    test_data[i] = exponential_running_standardize(a, factor_new=0.001, init_block_size=1000, eps=1e-4)\n",
    "train_data = train_data.swapaxes(1,2)\n",
    "test_data = test_data.swapaxes(1,2) \n",
    "print train_data.shape\n",
    "print test_data.shape"
   ]
  },
  {
   "cell_type": "code",
   "execution_count": 7,
   "metadata": {},
   "outputs": [
    {
     "name": "stdout",
     "output_type": "stream",
     "text": [
      "(237, 22, 1000)\n",
      "(50, 22, 1000)\n"
     ]
    }
   ],
   "source": [
    "bs, t, f = data.shape\n",
    "np.random.seed(42)\n",
    "shuffle = np.random.choice(bs,bs,replace=False)\n",
    "\n",
    "data = data[:,0:22,:]\n",
    "\n",
    "train_samples = data.shape[0]-50\n",
    "train_data = data[shuffle[:train_samples],:,:]\n",
    "train_labels = enc_labels[shuffle[:train_samples]]\n",
    "test_data = data[shuffle[train_samples:],:,:]\n",
    "test_labels = enc_labels[shuffle[train_samples:]]\n",
    "print train_data.shape\n",
    "print test_data.shape"
   ]
  },
  {
   "cell_type": "code",
   "execution_count": 3,
   "metadata": {},
   "outputs": [
    {
     "name": "stdout",
     "output_type": "stream",
     "text": [
      "(474, 22, 1000)\n",
      "(100, 22, 1000)\n",
      "(474, 4)\n",
      "(100, 4)\n"
     ]
    }
   ],
   "source": [
    "#Experimental, try flipping the data in time\n",
    "train_data = np.vstack([train_data, train_data[:,:,::-1]])\n",
    "test_data = np.vstack([test_data, test_data[:,:,::-1]]) \n",
    "print train_data.shape\n",
    "print test_data.shape\n",
    "train_labels = np.vstack([train_labels, train_labels])\n",
    "test_labels = np.vstack([test_labels, test_labels])\n",
    "print train_labels.shape\n",
    "print test_labels .shape "
   ]
  },
  {
   "cell_type": "code",
   "execution_count": 20,
   "metadata": {},
   "outputs": [
    {
     "name": "stdout",
     "output_type": "stream",
     "text": [
      "(2370, 22, 512)\n",
      "(2370, 4)\n",
      "(500, 22, 512)\n",
      "(500, 4)\n"
     ]
    }
   ],
   "source": [
    "#Augment the data into a bigger set by windowing\n",
    "train_data_sliced, train_labels_sliced = create_window_data(train_data, train_labels, windows=10)\n",
    "test_data_sliced, test_labels_sliced = create_window_data(test_data, test_labels, windows=10)\n",
    "print train_data_sliced.shape\n",
    "print train_labels_sliced.shape\n",
    "print test_data_sliced.shape\n",
    "print test_labels_sliced.shape "
   ]
  },
  {
   "cell_type": "code",
   "execution_count": 4,
   "metadata": {},
   "outputs": [
    {
     "name": "stdout",
     "output_type": "stream",
     "text": [
      "(500, 22, 512)\n",
      "(500, 4)\n"
     ]
    }
   ],
   "source": [
    "test_data_sliced = test_data_sliced[:500,:]\n",
    "test_labels_sliced = test_labels_sliced[:500,:]\n",
    "print test_data_sliced.shape\n",
    "print test_labels_sliced.shape "
   ]
  },
  {
   "cell_type": "code",
   "execution_count": 21,
   "metadata": {},
   "outputs": [
    {
     "name": "stdout",
     "output_type": "stream",
     "text": [
      "(2370, 512, 22, 1)\n",
      "(500, 512, 22, 1)\n"
     ]
    }
   ],
   "source": [
    "traindata2d = train_data_sliced.reshape(train_data_sliced.shape[0], train_data_sliced.shape[2], train_data_sliced.shape[1], 1)\n",
    "testdata2d = test_data_sliced.reshape(test_data_sliced.shape[0], test_data_sliced.shape[2], test_data_sliced.shape[1], 1)\n",
    "print traindata2d.shape\n",
    "print testdata2d.shape"
   ]
  },
  {
   "cell_type": "code",
   "execution_count": 24,
   "metadata": {
    "scrolled": true
   },
   "outputs": [
    {
     "name": "stdout",
     "output_type": "stream",
     "text": [
      "_________________________________________________________________\n",
      "Layer (type)                 Output Shape              Param #   \n",
      "=================================================================\n",
      "conv2d_5 (Conv2D)            (None, 491, 22, 40)       920       \n",
      "_________________________________________________________________\n",
      "conv2d_6 (Conv2D)            (None, 491, 1, 40)        35240     \n",
      "_________________________________________________________________\n",
      "batch_normalization_2 (Batch (None, 491, 1, 40)        160       \n",
      "_________________________________________________________________\n",
      "max_pooling2d_2 (MaxPooling2 (None, 8, 1, 40)          0         \n",
      "_________________________________________________________________\n",
      "flatten_2 (Flatten)          (None, 320)               0         \n",
      "_________________________________________________________________\n",
      "dropout_2 (Dropout)          (None, 320)               0         \n",
      "_________________________________________________________________\n",
      "dense_2 (Dense)              (None, 4)                 1284      \n",
      "=================================================================\n",
      "Total params: 37,604\n",
      "Trainable params: 37,524\n",
      "Non-trainable params: 80\n",
      "_________________________________________________________________\n",
      "Train on 1777 samples, validate on 593 samples\n",
      "Epoch 1/35\n",
      "1777/1777 [==============================] - 1s 555us/step - loss: 6.1115 - acc: 0.2583 - val_loss: 1.8607 - val_acc: 0.3103\n",
      "Epoch 2/35\n",
      "1777/1777 [==============================] - 1s 439us/step - loss: 3.6703 - acc: 0.3185 - val_loss: 1.7925 - val_acc: 0.3440\n",
      "Epoch 3/35\n",
      "1777/1777 [==============================] - 1s 439us/step - loss: 3.0496 - acc: 0.3512 - val_loss: 1.3394 - val_acc: 0.4401\n",
      "Epoch 4/35\n",
      "1777/1777 [==============================] - 1s 439us/step - loss: 2.7647 - acc: 0.3776 - val_loss: 1.2768 - val_acc: 0.4806\n",
      "Epoch 5/35\n",
      "1777/1777 [==============================] - 1s 448us/step - loss: 2.5168 - acc: 0.3725 - val_loss: 1.1326 - val_acc: 0.4992\n",
      "Epoch 6/35\n",
      "1777/1777 [==============================] - 1s 437us/step - loss: 2.1801 - acc: 0.4041 - val_loss: 1.1960 - val_acc: 0.4823\n",
      "Epoch 7/35\n",
      "1777/1777 [==============================] - 1s 440us/step - loss: 1.9336 - acc: 0.4418 - val_loss: 1.0897 - val_acc: 0.5126\n",
      "Epoch 8/35\n",
      "1777/1777 [==============================] - 1s 442us/step - loss: 1.7842 - acc: 0.4508 - val_loss: 1.2466 - val_acc: 0.4570\n",
      "Epoch 9/35\n",
      "1777/1777 [==============================] - 1s 447us/step - loss: 1.6278 - acc: 0.4823 - val_loss: 1.0834 - val_acc: 0.5160\n",
      "Epoch 10/35\n",
      "1777/1777 [==============================] - 1s 434us/step - loss: 1.4575 - acc: 0.5031 - val_loss: 1.0670 - val_acc: 0.5261\n",
      "Epoch 11/35\n",
      "1777/1777 [==============================] - 1s 439us/step - loss: 1.3749 - acc: 0.5138 - val_loss: 1.0653 - val_acc: 0.5531\n",
      "Epoch 12/35\n",
      "1777/1777 [==============================] - 1s 438us/step - loss: 1.3082 - acc: 0.5093 - val_loss: 1.0818 - val_acc: 0.5363\n",
      "Epoch 13/35\n",
      "1777/1777 [==============================] - 1s 436us/step - loss: 1.2884 - acc: 0.5098 - val_loss: 1.0560 - val_acc: 0.5599\n",
      "Epoch 14/35\n",
      "1777/1777 [==============================] - 1s 446us/step - loss: 1.2214 - acc: 0.5155 - val_loss: 1.0770 - val_acc: 0.5363\n",
      "Epoch 15/35\n",
      "1777/1777 [==============================] - 1s 446us/step - loss: 1.1829 - acc: 0.5329 - val_loss: 1.1057 - val_acc: 0.5396\n",
      "Epoch 16/35\n",
      "1777/1777 [==============================] - 1s 438us/step - loss: 1.0544 - acc: 0.5695 - val_loss: 1.0101 - val_acc: 0.5514\n",
      "Epoch 17/35\n",
      "1777/1777 [==============================] - 1s 433us/step - loss: 0.9869 - acc: 0.5892 - val_loss: 1.0593 - val_acc: 0.5649\n",
      "Epoch 18/35\n",
      "1777/1777 [==============================] - 1s 444us/step - loss: 0.9921 - acc: 0.5757 - val_loss: 0.9874 - val_acc: 0.5582\n",
      "Epoch 19/35\n",
      "1777/1777 [==============================] - 1s 450us/step - loss: 0.9679 - acc: 0.5914 - val_loss: 1.0006 - val_acc: 0.5885\n",
      "Epoch 20/35\n",
      "1777/1777 [==============================] - 1s 441us/step - loss: 0.9336 - acc: 0.5976 - val_loss: 1.0177 - val_acc: 0.5852\n",
      "Epoch 21/35\n",
      "1777/1777 [==============================] - 1s 450us/step - loss: 0.9240 - acc: 0.5875 - val_loss: 0.9814 - val_acc: 0.5953\n",
      "Epoch 22/35\n",
      "1777/1777 [==============================] - 1s 444us/step - loss: 0.8665 - acc: 0.6196 - val_loss: 0.9743 - val_acc: 0.6020\n",
      "Epoch 23/35\n",
      "1777/1777 [==============================] - 1s 439us/step - loss: 0.8752 - acc: 0.6156 - val_loss: 1.0492 - val_acc: 0.5649\n",
      "Epoch 24/35\n",
      "1777/1777 [==============================] - 1s 447us/step - loss: 0.8297 - acc: 0.6337 - val_loss: 0.9574 - val_acc: 0.5852\n",
      "Epoch 25/35\n",
      "1777/1777 [==============================] - 1s 446us/step - loss: 0.8122 - acc: 0.6252 - val_loss: 0.9885 - val_acc: 0.5818\n",
      "Epoch 26/35\n",
      "1777/1777 [==============================] - 1s 445us/step - loss: 0.7898 - acc: 0.6505 - val_loss: 0.9466 - val_acc: 0.5717\n",
      "Epoch 27/35\n",
      "1777/1777 [==============================] - 1s 447us/step - loss: 0.7769 - acc: 0.6646 - val_loss: 0.9792 - val_acc: 0.5835\n",
      "Epoch 28/35\n",
      "1777/1777 [==============================] - 1s 444us/step - loss: 0.7528 - acc: 0.6646 - val_loss: 1.0013 - val_acc: 0.5953\n",
      "Epoch 29/35\n",
      "1777/1777 [==============================] - 1s 448us/step - loss: 0.7797 - acc: 0.6477 - val_loss: 0.9305 - val_acc: 0.5902\n",
      "Epoch 30/35\n",
      "1777/1777 [==============================] - 1s 445us/step - loss: 0.7793 - acc: 0.6533 - val_loss: 0.9461 - val_acc: 0.5835\n",
      "Epoch 31/35\n",
      "1777/1777 [==============================] - 1s 443us/step - loss: 0.7246 - acc: 0.6646 - val_loss: 0.9748 - val_acc: 0.5750\n",
      "Epoch 32/35\n",
      "1777/1777 [==============================] - 1s 443us/step - loss: 0.7646 - acc: 0.6579 - val_loss: 0.9654 - val_acc: 0.5835\n",
      "Epoch 33/35\n",
      "1777/1777 [==============================] - 1s 442us/step - loss: 0.7285 - acc: 0.6691 - val_loss: 0.9429 - val_acc: 0.5818\n",
      "Epoch 34/35\n",
      "1777/1777 [==============================] - 1s 440us/step - loss: 0.7052 - acc: 0.6888 - val_loss: 0.9164 - val_acc: 0.6003\n",
      "Epoch 35/35\n",
      "1777/1777 [==============================] - 1s 442us/step - loss: 0.6827 - acc: 0.7034 - val_loss: 0.9203 - val_acc: 0.6020\n",
      "500/500 [==============================] - 0s 211us/step\n",
      "Test Score: [0.88466083526611328, 0.57799999904632571]\n",
      "[130 120 130 120]\n",
      "Confusion matrix, without normalization\n",
      "[[68 52  8  2]\n",
      " [32 87  1  0]\n",
      " [28  6 45 51]\n",
      " [ 8  4 19 89]]\n",
      "(500,)\n"
     ]
    },
    {
     "data": {
      "image/png": "[encoded data removed]",
      "text/plain": [
       "<matplotlib.figure.Figure at 0x7f308def3fd0>"
      ]
     },
     "metadata": {},
     "output_type": "display_data"
    },
    {
     "data": {
      "image/png": "[encoded data removed]",
      "text/plain": [
       "<matplotlib.figure.Figure at 0x7f3087b18290>"
      ]
     },
     "metadata": {},
     "output_type": "display_data"
    },
    {
     "data": {
      "image/png": "[encoded data removed]",
      "text/plain": [
       "<matplotlib.figure.Figure at 0x7f3087aae310>"
      ]
     },
     "metadata": {},
     "output_type": "display_data"
    }
   ],
   "source": [
    "# Conv2D + LSTM\n",
    "\n",
    "model = Sequential()\n",
    "model.add(Conv2D(40, kernel_size=(22,1), activation='relu', data_format='channels_last', input_shape=(512, 22, 1))) \n",
    "model.add(Conv2D(40, kernel_size=(1,22), activation='relu') ) \n",
    "model.add(BatchNormalization(axis=-1))\n",
    "model.add(MaxPooling2D(pool_size=(60,1)))\n",
    "model.add(Flatten())\n",
    "model.add(Dropout(0.65))\n",
    "model.add(Dense(4, activation='softmax'))#, kernel_regularizer=regularizers.l2(0.05)))\n",
    "model.compile(optimizer = 'adam',\n",
    "             loss = 'categorical_crossentropy',\n",
    "             metrics=['accuracy'])\n",
    "model.summary()\n",
    "hist = model.fit(traindata2d,train_labels_sliced,epochs=35,validation_split=0.25,batch_size=100)\n",
    "test_score = model.evaluate(testdata2d, test_labels_sliced, batch_size=32)\n",
    "print \"Test Score: {}\".format(test_score)\n",
    "test_predict = model.predict(testdata2d, batch_size=32)\n",
    "cm = confusion_matrix(np.argmax(test_labels_sliced,axis=1),np.argmax(test_predict,axis=1))\n",
    "unique, count = np.unique(np.argmax(test_labels_sliced,axis=1),return_counts=True)\n",
    "print count \n",
    "plt.figure(0)\n",
    "plot_confusion_matrix(cm, classes=[\"1\",\"2\",\"3\",\"4\"])\n",
    "print np.argmax(test_predict,axis=1).shape\n",
    "plt.figure(1)\n",
    "plot_hist([hist.history['acc'],hist.history['val_acc']],['Training Accuracy','Val Accuracy'],title='Accuracies')\n",
    "plt.figure(2)\n",
    "plot_hist([hist.history['loss'],hist.history['val_loss']],['Training Loss','Val Loss'],title='Loss')"
   ]
  },
  {
   "cell_type": "code",
   "execution_count": null,
   "metadata": {},
   "outputs": [],
   "source": [
    "#Deeper CNN + LSTM (Golmohammadi paper)\n",
    "model = Sequential()\n",
    "model.add(Conv2D(16, kernel_size=(22,1), activation='relu', data_format='channels_last', input_shape=(512, 22, 1)))"
   ]
  }
 ],
 "metadata": {
  "kernelspec": {
   "display_name": "Python 2",
   "language": "python",
   "name": "python2"
  },
  "language_info": {
   "codemirror_mode": {
    "name": "ipython",
    "version": 2
   },
   "file_extension": ".py",
   "mimetype": "text/x-python",
   "name": "python",
   "nbconvert_exporter": "python",
   "pygments_lexer": "ipython2",
   "version": "2.7.12"
  }
 },
 "nbformat": 4,
 "nbformat_minor": 2
}
