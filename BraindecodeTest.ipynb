{
 "cells": [
  {
   "cell_type": "code",
   "execution_count": 1,
   "metadata": {},
   "outputs": [
    {
     "ename": "RuntimeError",
     "evalue": "module compiled against API version 0xb but this version of numpy is 0xa",
     "output_type": "error",
     "traceback": [
      "\u001b[0;31m---------------------------------------------------------------------------\u001b[0m",
      "\u001b[0;31mRuntimeError\u001b[0m                              Traceback (most recent call last)",
      "\u001b[0;31mRuntimeError\u001b[0m: module compiled against API version 0xb but this version of numpy is 0xa"
     ]
    },
    {
     "ename": "RuntimeError",
     "evalue": "module compiled against API version 0xb but this version of numpy is 0xa",
     "output_type": "error",
     "traceback": [
      "\u001b[0;31m---------------------------------------------------------------------------\u001b[0m",
      "\u001b[0;31mRuntimeError\u001b[0m                              Traceback (most recent call last)",
      "\u001b[0;31mRuntimeError\u001b[0m: module compiled against API version 0xb but this version of numpy is 0xa"
     ]
    },
    {
     "name": "stderr",
     "output_type": "stream",
     "text": [
      "Using TensorFlow backend.\n"
     ]
    }
   ],
   "source": [
    "import numpy as np\n",
    "import h5py\n",
    "import tensorflow as tf\n",
    "import matplotlib.pyplot as plt\n",
    "\n",
    "from keras.models import Sequential\n",
    "from keras.layers import Dense \n",
    "from keras.layers import ConvLSTM2D, Conv2D, MaxPooling2D, AveragePooling2D\n",
    "from keras.layers import MaxPooling1D, Conv1D\n",
    "from keras.layers import GRU, LSTM, BatchNormalization\n",
    "from keras.layers import TimeDistributed\n",
    "from keras.layers import Flatten\n",
    "from keras.utils import to_categorical\n",
    "from keras.layers import Activation\n",
    "from keras.layers import Dropout\n",
    "from keras.layers import Reshape \n",
    "from keras.layers import Lambda \n",
    "from keras.backend import log\n",
    "\n",
    "from keras import regularizers\n",
    "\n",
    "from sklearn.metrics import confusion_matrix\n",
    "import itertools\n",
    "\n",
    "from UtilNNDL import create_window_data\n",
    "from UtilNNDL import plot_hist\n",
    "from UtilNNDL import prepare_data\n",
    "from UtilNNDL import plot_confusion_matrix\n",
    "from UtilNNDL import bandpass_cnt\n",
    "from UtilNNDL import exponential_running_standardize\n"
   ]
  },
  {
   "cell_type": "code",
   "execution_count": 2,
   "metadata": {},
   "outputs": [
    {
     "ename": "AttributeError",
     "evalue": "'dict' object has no attribute 'shape'",
     "output_type": "error",
     "traceback": [
      "\u001b[0;31m---------------------------------------------------------------------------\u001b[0m",
      "\u001b[0;31mAttributeError\u001b[0m                            Traceback (most recent call last)",
      "\u001b[0;32m<ipython-input-2-70e5bf9d3e7f>\u001b[0m in \u001b[0;36m<module>\u001b[0;34m()\u001b[0m\n\u001b[1;32m      6\u001b[0m                                                                 \u001b[0mreturn_all\u001b[0m\u001b[0;34m=\u001b[0m\u001b[0mFalse\u001b[0m\u001b[0;34m,\u001b[0m\u001b[0;34m\u001b[0m\u001b[0m\n\u001b[1;32m      7\u001b[0m                                                                 num_files =9)\n\u001b[0;32m----> 8\u001b[0;31m \u001b[0;32mprint\u001b[0m \u001b[0mtrain_data\u001b[0m\u001b[0;34m.\u001b[0m\u001b[0mshape\u001b[0m\u001b[0;34m\u001b[0m\u001b[0m\n\u001b[0m\u001b[1;32m      9\u001b[0m \u001b[0;32mprint\u001b[0m \u001b[0mtrain_labels\u001b[0m\u001b[0;34m.\u001b[0m\u001b[0mshape\u001b[0m\u001b[0;34m\u001b[0m\u001b[0m\n\u001b[1;32m     10\u001b[0m \u001b[0;32mprint\u001b[0m \u001b[0mtest_data\u001b[0m\u001b[0;34m.\u001b[0m\u001b[0mshape\u001b[0m\u001b[0;34m\u001b[0m\u001b[0m\n",
      "\u001b[0;31mAttributeError\u001b[0m: 'dict' object has no attribute 'shape'"
     ]
    }
   ],
   "source": [
    "#Prepare the data by taking out nans and dividing into test and train\n",
    "file_path = '/home/carla/Downloads/project_datasets/project_datasets/'\n",
    "train_data, test_data, train_labels, test_labels = prepare_data(file_path, \n",
    "                                                                num_test_samples = 50, \n",
    "                                                                verbose= False, \n",
    "                                                                return_all=False,\n",
    "                                                                num_files =9)\n",
    "print train_data.shape\n",
    "print train_labels.shape\n",
    "print test_data.shape\n",
    "print test_labels.shape"
   ]
  },
  {
   "cell_type": "code",
   "execution_count": 3,
   "metadata": {},
   "outputs": [],
   "source": [
    "n = 1\n",
    "train_data = train_data['A0{}T'.format(n)]\n",
    "train_labels = train_labels['A0{}T'.format(n)]\n",
    "test_data = test_data['A0{}T'.format(n)]\n",
    "test_labels = test_labels['A0{}T'.format(n)]"
   ]
  },
  {
   "cell_type": "code",
   "execution_count": 4,
   "metadata": {},
   "outputs": [],
   "source": [
    "#assist numerical stability\n",
    "train_data = train_data*(1e6)\n",
    "test_data = test_data*(1e6)"
   ]
  },
  {
   "cell_type": "code",
   "execution_count": 5,
   "metadata": {},
   "outputs": [
    {
     "name": "stdout",
     "output_type": "stream",
     "text": [
      "(237, 1000, 22)\n",
      "(50, 1000, 22)\n",
      "(237, 1000, 22)\n",
      "(50, 1000, 22)\n"
     ]
    }
   ],
   "source": [
    "#Bandpass filter the data\n",
    "train_data = train_data.swapaxes(1,2)\n",
    "test_data = test_data.swapaxes(1,2)\n",
    "print train_data.shape\n",
    "print test_data.shape\n",
    "for i,a in enumerate(train_data):\n",
    "    train_data[i] = bandpass_cnt(a, 4, 38, 250, filt_order=3)\n",
    "for i,a in enumerate(test_data):\n",
    "    test_data[i] = bandpass_cnt(a, 4, 38, 250, filt_order=3)    \n",
    "print train_data.shape\n",
    "print test_data.shape"
   ]
  },
  {
   "cell_type": "code",
   "execution_count": 6,
   "metadata": {},
   "outputs": [
    {
     "name": "stdout",
     "output_type": "stream",
     "text": [
      "(237, 22, 1000)\n",
      "(50, 22, 1000)\n"
     ]
    }
   ],
   "source": [
    "#Standardize the data\n",
    "for i,a in enumerate(train_data):\n",
    "    train_data[i] = exponential_running_standardize(a, factor_new=0.001, init_block_size=1000, eps=1e-4)\n",
    "for i,a in enumerate(test_data):\n",
    "    test_data[i] = exponential_running_standardize(a, factor_new=0.001, init_block_size=1000, eps=1e-4)\n",
    "train_data = train_data.swapaxes(1,2)\n",
    "test_data = test_data.swapaxes(1,2) \n",
    "print train_data.shape\n",
    "print test_data.shape"
   ]
  },
  {
   "cell_type": "code",
   "execution_count": 7,
   "metadata": {},
   "outputs": [
    {
     "name": "stdout",
     "output_type": "stream",
     "text": [
      "(35550, 22, 512)\n",
      "(35550, 4)\n",
      "(7500, 22, 512)\n",
      "(7500, 4)\n"
     ]
    }
   ],
   "source": [
    "#Augment the data into a bigger set by windowing\n",
    "windows = 150\n",
    "train_data_sliced, train_labels_sliced = create_window_data(train_data, train_labels, windows=windows)\n",
    "test_data_sliced, test_labels_sliced = create_window_data(test_data, test_labels, windows=windows)\n",
    "print train_data_sliced.shape\n",
    "print train_labels_sliced.shape\n",
    "print test_data_sliced.shape\n",
    "print test_labels_sliced.shape "
   ]
  },
  {
   "cell_type": "code",
   "execution_count": 8,
   "metadata": {
    "scrolled": true
   },
   "outputs": [
    {
     "name": "stdout",
     "output_type": "stream",
     "text": [
      "(35550, 512, 22, 1)\n",
      "(7500, 512, 22, 1)\n"
     ]
    }
   ],
   "source": [
    "#Add an additional axis for Conv2D\n",
    "traindata2d = train_data_sliced.reshape(train_data_sliced.shape[0], train_data_sliced.shape[2], train_data_sliced.shape[1], 1)\n",
    "testdata2d = test_data_sliced.reshape(test_data_sliced.shape[0], test_data_sliced.shape[2], test_data_sliced.shape[1], 1)\n",
    "print traindata2d.shape\n",
    "print testdata2d.shape"
   ]
  },
  {
   "cell_type": "code",
   "execution_count": 12,
   "metadata": {
    "scrolled": true
   },
   "outputs": [
    {
     "name": "stdout",
     "output_type": "stream",
     "text": [
      "_________________________________________________________________\n",
      "Layer (type)                 Output Shape              Param #   \n",
      "=================================================================\n",
      "conv2d_7 (Conv2D)            (None, 488, 22, 40)       1040      \n",
      "_________________________________________________________________\n",
      "conv2d_8 (Conv2D)            (None, 488, 1, 40)        35240     \n",
      "_________________________________________________________________\n",
      "batch_normalization_4 (Batch (None, 488, 1, 40)        160       \n",
      "_________________________________________________________________\n",
      "max_pooling2d_4 (MaxPooling2 (None, 29, 1, 40)         0         \n",
      "_________________________________________________________________\n",
      "dropout_4 (Dropout)          (None, 29, 1, 40)         0         \n",
      "_________________________________________________________________\n",
      "flatten_4 (Flatten)          (None, 1160)              0         \n",
      "_________________________________________________________________\n",
      "dense_4 (Dense)              (None, 4)                 4644      \n",
      "=================================================================\n",
      "Total params: 41,084\n",
      "Trainable params: 41,004\n",
      "Non-trainable params: 80\n",
      "_________________________________________________________________\n",
      "Train on 26662 samples, validate on 8888 samples\n",
      "Epoch 1/2\n",
      "26662/26662 [==============================] - 12s 444us/step - loss: 2.3499 - acc: 0.4387 - val_loss: 1.1122 - val_acc: 0.5640\n",
      "Epoch 2/2\n",
      "26662/26662 [==============================] - 12s 437us/step - loss: 0.8718 - acc: 0.6066 - val_loss: 0.7689 - val_acc: 0.6851\n",
      "7500/7500 [==============================] - 2s 217us/step\n",
      "Test Score: [0.76270243613719935, 0.66013333333333335]\n",
      "Windows: 150\n",
      "[1950 1800 1950 1800]\n",
      "Confusion matrix, without normalization\n",
      "[[1326  479  145    0]\n",
      " [ 565 1192   43    0]\n",
      " [ 201    3 1280  466]\n",
      " [  71   30  546 1153]]\n",
      "(7500,)\n"
     ]
    },
    {
     "data": {
      "image/png": "[encoded data removed]",
      "text/plain": [
       "<matplotlib.figure.Figure at 0x7fa788664550>"
      ]
     },
     "metadata": {},
     "output_type": "display_data"
    },
    {
     "data": {
      "image/png": "[encoded data removed]",
      "text/plain": [
       "<matplotlib.figure.Figure at 0x7fa73f5eaf90>"
      ]
     },
     "metadata": {},
     "output_type": "display_data"
    },
    {
     "data": {
      "image/png": "[encoded data removed]",
      "text/plain": [
       "<matplotlib.figure.Figure at 0x7fa73f5c5750>"
      ]
     },
     "metadata": {},
     "output_type": "display_data"
    }
   ],
   "source": [
    "# Conv2D + LSTM\n",
    "#windows = 150\n",
    "model = Sequential()\n",
    "model.add(Conv2D(40, kernel_size=(25,1), activation='relu', data_format='channels_last', input_shape=(512, 22, 1), \n",
    "                 kernel_initializer='glorot_normal')) \n",
    "model.add(Conv2D(40, kernel_size=(1,22), activation='relu', kernel_initializer='glorot_normal') ) \n",
    "model.add(BatchNormalization(axis=-1))\n",
    "#model.add(Lambda(lambda x: x ** 2))\n",
    "model.add(MaxPooling2D(pool_size=(60,1), strides = (15,1)))\n",
    "#model.add(Lambda(lambda x: log(x)))\n",
    "model.add(Dropout(0.8))\n",
    "model.add(Flatten())\n",
    "\n",
    "model.add(Dense(4, activation='softmax',kernel_initializer='glorot_normal'))#, kernel_regularizer=regularizers.l2(0.05)))\n",
    "model.compile(optimizer = 'adam',\n",
    "             loss = 'categorical_crossentropy',\n",
    "             metrics=['accuracy'])\n",
    "model.summary()\n",
    "hist = model.fit(traindata2d,train_labels_sliced,epochs=2,validation_split=0.25,batch_size=100)\n",
    "test_score = model.evaluate(testdata2d, test_labels_sliced, batch_size=32)\n",
    "print \"Test Score: {}\".format(test_score)\n",
    "print \"Windows: {}\".format(windows)\n",
    "test_predict = model.predict(testdata2d, batch_size=32)\n",
    "cm = confusion_matrix(np.argmax(test_labels_sliced,axis=1),np.argmax(test_predict,axis=1))\n",
    "unique, count = np.unique(np.argmax(test_labels_sliced,axis=1),return_counts=True)\n",
    "print count \n",
    "plt.figure(0)\n",
    "plot_confusion_matrix(cm, classes=[\"1\",\"2\",\"3\",\"4\"])\n",
    "print np.argmax(test_predict,axis=1).shape\n",
    "plt.figure(1)\n",
    "plot_hist([hist.history['acc'],hist.history['val_acc']],['Training Accuracy','Val Accuracy'],title='Accuracies')\n",
    "plt.figure(2)\n",
    "plot_hist([hist.history['loss'],hist.history['val_loss']],['Training Loss','Val Loss'],title='Loss')"
   ]
  },
  {
   "cell_type": "code",
   "execution_count": null,
   "metadata": {},
   "outputs": [],
   "source": [
    "#Deeper CNN + LSTM (Golmohammadi paper)\n",
    "model = Sequential()\n",
    "model.add(Conv2D(16, kernel_size=(22,1), activation='relu', data_format='channels_last', input_shape=(512, 22, 1)))"
   ]
  }
 ],
 "metadata": {
  "kernelspec": {
   "display_name": "Python 2",
   "language": "python",
   "name": "python2"
  },
  "language_info": {
   "codemirror_mode": {
    "name": "ipython",
    "version": 2
   },
   "file_extension": ".py",
   "mimetype": "text/x-python",
   "name": "python",
   "nbconvert_exporter": "python",
   "pygments_lexer": "ipython2",
   "version": "2.7.12"
  }
 },
 "nbformat": 4,
 "nbformat_minor": 2
}
