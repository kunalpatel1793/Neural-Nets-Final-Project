{
 "cells": [
  {
   "cell_type": "code",
   "execution_count": 20,
   "metadata": {
    "scrolled": true
   },
   "outputs": [],
   "source": [
    "import numpy as np\n",
    "import h5py\n",
    "import tensorflow as tf\n",
    "import matplotlib.pyplot as plt\n",
    "\n",
    "from keras.models import Sequential\n",
    "from keras.layers import Dense, Permute\n",
    "from keras.layers import ConvLSTM2D, Conv2D, MaxPooling2D\n",
    "from keras.layers import MaxPooling1D, Conv1D\n",
    "from keras.layers import GRU, LSTM, BatchNormalization\n",
    "from keras.layers import TimeDistributed\n",
    "from keras.layers import Flatten, Reshape, Dropout\n",
    "from keras.utils import to_categorical\n",
    "from keras.layers import Activation\n",
    "from keras import regularizers\n",
    "\n",
    "from sklearn.metrics import confusion_matrix\n",
    "\n",
    "from UtilNNDL import create_window_data\n",
    "from UtilNNDL import plot_hist\n",
    "from UtilNNDL import prepare_data\n",
    "from UtilNNDL import plot_confusion_matrix\n",
    "from UtilNNDL import bandpass_cnt\n",
    "from UtilNNDL import exponential_running_standardize"
   ]
  },
  {
   "cell_type": "code",
   "execution_count": 3,
   "metadata": {},
   "outputs": [],
   "source": [
    "#Prepare the data by taking out nans and dividing into test and train\n",
    "file_path = 'datasets/'\n",
    "file_path = '/home/carla/Downloads/project_datasets/project_datasets/'\n",
    "train_data, test_data, train_labels, test_labels = prepare_data(file_path, \n",
    "                                                                num_test_samples = 50, \n",
    "                                                                verbose= False, \n",
    "                                                                return_all=True,\n",
    "                                                                num_files =9)"
   ]
  },
  {
   "cell_type": "code",
   "execution_count": 4,
   "metadata": {},
   "outputs": [
    {
     "name": "stdout",
     "output_type": "stream",
     "text": [
      "(2108, 22, 1000)\n",
      "(2108, 4)\n",
      "(50, 22, 1000)\n",
      "(50, 4)\n"
     ]
    }
   ],
   "source": [
    "print train_data.shape\n",
    "print train_labels.shape\n",
    "\n",
    "# Test on the first 50 samples of subject 1\n",
    "test_data = test_data[0:50]\n",
    "test_labels = test_labels[0:50]\n",
    "\n",
    "print test_data.shape\n",
    "print test_labels.shape\n"
   ]
  },
  {
   "cell_type": "code",
   "execution_count": 5,
   "metadata": {},
   "outputs": [
    {
     "name": "stdout",
     "output_type": "stream",
     "text": [
      "(2108, 1000, 22)\n",
      "(50, 1000, 22)\n",
      "(2108, 1000, 22)\n",
      "(50, 1000, 22)\n"
     ]
    }
   ],
   "source": [
    "#assist numerical stability\n",
    "train_data = train_data*(1e6)\n",
    "test_data = test_data*(1e6)\n",
    "train_data = train_data.swapaxes(1,2)\n",
    "test_data = test_data.swapaxes(1,2)\n",
    "print train_data.shape\n",
    "print test_data.shape\n",
    "for i,a in enumerate(train_data):\n",
    "    train_data[i] = bandpass_cnt(a, 4, 38, 250, filt_order=3)\n",
    "for i,a in enumerate(test_data):\n",
    "    test_data[i] = bandpass_cnt(a, 4, 38, 250, filt_order=3)    \n",
    "print train_data.shape\n",
    "print test_data.shape"
   ]
  },
  {
   "cell_type": "code",
   "execution_count": 6,
   "metadata": {
    "scrolled": true
   },
   "outputs": [
    {
     "name": "stdout",
     "output_type": "stream",
     "text": [
      "(2108, 22, 1000)\n",
      "(50, 22, 1000)\n"
     ]
    }
   ],
   "source": [
    "#Standardize the data\n",
    "for i,a in enumerate(train_data):\n",
    "    train_data[i] = exponential_running_standardize(a, factor_new=0.001, init_block_size=1000, eps=1e-4)\n",
    "for i,a in enumerate(test_data):\n",
    "    test_data[i] = exponential_running_standardize(a, factor_new=0.001, init_block_size=1000, eps=1e-4)\n",
    "train_data = train_data.swapaxes(1,2)\n",
    "test_data = test_data.swapaxes(1,2) \n",
    "print train_data.shape\n",
    "print test_data.shape"
   ]
  },
  {
   "cell_type": "code",
   "execution_count": 13,
   "metadata": {},
   "outputs": [
    {
     "name": "stdout",
     "output_type": "stream",
     "text": [
      "(21080, 22, 512)\n",
      "(21080, 4)\n",
      "(500, 22, 512)\n",
      "(500, 4)\n"
     ]
    }
   ],
   "source": [
    "#Augment the data into a bigger set by windowing\n",
    "train_data_sliced, train_labels_sliced = create_window_data(train_data, train_labels, windows=10)\n",
    "test_data_sliced, test_labels_sliced = create_window_data(test_data, test_labels, windows=10)\n",
    "print train_data_sliced.shape\n",
    "print train_labels_sliced.shape\n",
    "print test_data_sliced.shape\n",
    "print test_labels_sliced.shape "
   ]
  },
  {
   "cell_type": "code",
   "execution_count": 14,
   "metadata": {},
   "outputs": [
    {
     "name": "stdout",
     "output_type": "stream",
     "text": [
      "(500, 22, 512)\n",
      "(500, 4)\n"
     ]
    }
   ],
   "source": [
    "test_data_sliced = test_data_sliced[:500,:]\n",
    "test_labels_sliced = test_labels_sliced[:500,:]\n",
    "print test_data_sliced.shape\n",
    "print test_labels_sliced.shape "
   ]
  },
  {
   "cell_type": "code",
   "execution_count": 15,
   "metadata": {},
   "outputs": [
    {
     "name": "stdout",
     "output_type": "stream",
     "text": [
      "(21080, 512, 22, 1)\n",
      "(500, 512, 22, 1)\n"
     ]
    }
   ],
   "source": [
    "traindata2d = train_data_sliced.reshape(train_data_sliced.shape[0], train_data_sliced.shape[2], train_data_sliced.shape[1], 1)\n",
    "testdata2d = test_data_sliced.reshape(test_data_sliced.shape[0], test_data_sliced.shape[2], test_data_sliced.shape[1], 1)\n",
    "print traindata2d.shape\n",
    "print testdata2d.shape"
   ]
  },
  {
   "cell_type": "markdown",
   "metadata": {},
   "source": [
    "# TESTING\n"
   ]
  },
  {
   "cell_type": "markdown",
   "metadata": {},
   "source": [
    "deepconvnet no regularization"
   ]
  },
  {
   "cell_type": "code",
   "execution_count": 16,
   "metadata": {},
   "outputs": [
    {
     "name": "stdout",
     "output_type": "stream",
     "text": [
      "_________________________________________________________________\n",
      "Layer (type)                 Output Shape              Param #   \n",
      "=================================================================\n",
      "conv2d_21 (Conv2D)           (None, 498, 22, 15)       240       \n",
      "_________________________________________________________________\n",
      "conv2d_22 (Conv2D)           (None, 484, 8, 15)        50640     \n",
      "_________________________________________________________________\n",
      "max_pooling2d_17 (MaxPooling (None, 161, 8, 15)        0         \n",
      "_________________________________________________________________\n",
      "permute_13 (Permute)         (None, 161, 15, 8)        0         \n",
      "_________________________________________________________________\n",
      "conv2d_23 (Conv2D)           (None, 152, 1, 30)        36030     \n",
      "_________________________________________________________________\n",
      "max_pooling2d_18 (MaxPooling (None, 50, 1, 30)         0         \n",
      "_________________________________________________________________\n",
      "permute_14 (Permute)         (None, 50, 30, 1)         0         \n",
      "_________________________________________________________________\n",
      "conv2d_24 (Conv2D)           (None, 41, 1, 60)         18060     \n",
      "_________________________________________________________________\n",
      "max_pooling2d_19 (MaxPooling (None, 13, 1, 60)         0         \n",
      "_________________________________________________________________\n",
      "permute_15 (Permute)         (None, 13, 60, 1)         0         \n",
      "_________________________________________________________________\n",
      "conv2d_25 (Conv2D)           (None, 4, 1, 120)         72120     \n",
      "_________________________________________________________________\n",
      "max_pooling2d_20 (MaxPooling (None, 1, 1, 120)         0         \n",
      "_________________________________________________________________\n",
      "reshape_5 (Reshape)          (None, 120, 1)            0         \n",
      "_________________________________________________________________\n",
      "flatten_2 (Flatten)          (None, 120)               0         \n",
      "_________________________________________________________________\n",
      "batch_normalization_5 (Batch (None, 120)               480       \n",
      "_________________________________________________________________\n",
      "dense_5 (Dense)              (None, 4)                 484       \n",
      "=================================================================\n",
      "Total params: 178,054\n",
      "Trainable params: 177,814\n",
      "Non-trainable params: 240\n",
      "_________________________________________________________________\n",
      "Train on 1777 samples, validate on 593 samples\n",
      "Epoch 1/15\n",
      "1777/1777 [==============================] - 3s 2ms/step - loss: 1.0751 - acc: 0.4778 - val_loss: 5.3873 - val_acc: 0.3035\n",
      "Epoch 2/15\n",
      "1777/1777 [==============================] - 2s 1ms/step - loss: 0.8554 - acc: 0.5993 - val_loss: 5.7117 - val_acc: 0.3103\n",
      "Epoch 3/15\n",
      "1777/1777 [==============================] - 2s 1ms/step - loss: 0.6566 - acc: 0.7327 - val_loss: 1.1001 - val_acc: 0.5767\n",
      "Epoch 4/15\n",
      "1777/1777 [==============================] - 2s 1ms/step - loss: 0.4734 - acc: 0.8177 - val_loss: 3.2664 - val_acc: 0.3187\n",
      "Epoch 5/15\n",
      "1777/1777 [==============================] - 2s 1ms/step - loss: 0.3068 - acc: 0.9032 - val_loss: 1.4570 - val_acc: 0.5278\n",
      "Epoch 6/15\n",
      "1777/1777 [==============================] - 2s 1ms/step - loss: 0.1787 - acc: 0.9550 - val_loss: 1.7469 - val_acc: 0.5329\n",
      "Epoch 7/15\n",
      "1777/1777 [==============================] - 2s 1ms/step - loss: 0.0903 - acc: 0.9820 - val_loss: 2.0464 - val_acc: 0.5025\n",
      "Epoch 8/15\n",
      "1777/1777 [==============================] - 2s 1ms/step - loss: 0.0586 - acc: 0.9927 - val_loss: 1.8986 - val_acc: 0.4688\n",
      "Epoch 9/15\n",
      "1777/1777 [==============================] - 2s 1ms/step - loss: 0.0372 - acc: 0.9949 - val_loss: 1.9939 - val_acc: 0.4553\n",
      "Epoch 10/15\n",
      "1777/1777 [==============================] - 2s 1ms/step - loss: 0.0197 - acc: 1.0000 - val_loss: 1.9927 - val_acc: 0.5126\n",
      "Epoch 11/15\n",
      "1777/1777 [==============================] - 2s 1ms/step - loss: 0.0136 - acc: 1.0000 - val_loss: 1.5628 - val_acc: 0.5531\n",
      "Epoch 12/15\n",
      "1777/1777 [==============================] - 2s 1ms/step - loss: 0.0073 - acc: 1.0000 - val_loss: 1.8617 - val_acc: 0.4823\n",
      "Epoch 13/15\n",
      "1777/1777 [==============================] - 2s 1ms/step - loss: 0.0077 - acc: 1.0000 - val_loss: 1.7085 - val_acc: 0.5245\n",
      "Epoch 14/15\n",
      "1777/1777 [==============================] - 2s 1ms/step - loss: 0.0063 - acc: 1.0000 - val_loss: 1.8115 - val_acc: 0.5126\n",
      "Epoch 15/15\n",
      "1777/1777 [==============================] - 2s 1ms/step - loss: 0.0050 - acc: 1.0000 - val_loss: 1.8505 - val_acc: 0.5261\n"
     ]
    }
   ],
   "source": [
    "num_filters = 15\n",
    "model = Sequential()\n",
    "model.add(Conv2D(num_filters, kernel_size=(num_filters,1), activation='relu', data_format='channels_last', input_shape=(traindata2d.shape[1], traindata2d.shape[2], traindata2d.shape[3])))  \n",
    "model.add(Conv2D(num_filters, kernel_size=(15,num_filters), activation='relu') ) \n",
    "model.add(MaxPooling2D(pool_size=(3,1)))\n",
    "model.add(Permute((1,3,2)))\n",
    "\n",
    "model.add(Conv2D(num_filters*2, kernel_size=(10,num_filters), activation='relu')) \n",
    "model.add(MaxPooling2D(pool_size=(3,1)))\n",
    "model.add(Permute((1,3,2)))\n",
    "\n",
    "model.add(Conv2D(num_filters*4, kernel_size=(10,num_filters*2), activation='relu')) \n",
    "model.add(MaxPooling2D(pool_size=(3,1)))\n",
    "model.add(Permute((1,3,2)))\n",
    "\n",
    "model.add(Conv2D(num_filters*8, kernel_size=(10,num_filters*4), activation='relu')) \n",
    "model.add(MaxPooling2D(pool_size=(3,1)))\n",
    "model.add(Reshape((num_filters*8,1)))\n",
    "#model.add(LSTM(100, return_sequences=True))\n",
    "#model.add(LSTM(32))\n",
    "model.add(Flatten())\n",
    "model.add(BatchNormalization())\n",
    "model.add(Dense(4, activation='softmax'))\n",
    "model.compile(optimizer = 'adam',\n",
    "             loss = 'categorical_crossentropy',\n",
    "             metrics=['accuracy'])\n",
    "model.summary()\n",
    "hist = model.fit(traindata2d,train_labels_sliced,epochs=15,validation_split=0.25,batch_size=32)\n",
    "#model.test_on_batch(test_data, test_labels)\n"
   ]
  },
  {
   "cell_type": "code",
   "execution_count": 17,
   "metadata": {},
   "outputs": [
    {
     "name": "stdout",
     "output_type": "stream",
     "text": [
      "500/500 [==============================] - 0s 437us/step\n",
      "Test Score: [1.8094149484634399, 0.51200000000000001]\n"
     ]
    },
    {
     "data": {
      "image/png": "[encoded data removed]",
      "text/plain": [
       "<matplotlib.figure.Figure at 0x7fd8c6fe2950>"
      ]
     },
     "metadata": {},
     "output_type": "display_data"
    },
    {
     "data": {
      "image/png": "[encoded data removed]",
      "text/plain": [
       "<matplotlib.figure.Figure at 0x7fd840926f10>"
      ]
     },
     "metadata": {},
     "output_type": "display_data"
    }
   ],
   "source": [
    "test_score = model.evaluate(testdata2d, test_labels_sliced, batch_size=32)\n",
    "print \"Test Score: {}\".format(test_score)\n",
    "plot_hist([hist.history['acc'],hist.history['val_acc']],['Training Accuracy','Val Accuracy'],title='Accuracies')\n",
    "plot_hist([hist.history['loss'],hist.history['val_loss']],['Training Loss','Val Loss'],title='Loss')"
   ]
  },
  {
   "cell_type": "markdown",
   "metadata": {},
   "source": []
  },
  {
   "cell_type": "markdown",
   "metadata": {},
   "source": [
    "Trying out:\n",
    "    * X batchnorm before nonlinearity\n",
    "    * X regularization\n",
    "    * dropout 0.5 applied to inputs to conv layers after the first\n",
    "    * “new tied loss function” for further regularization"
   ]
  },
  {
   "cell_type": "code",
   "execution_count": 16,
   "metadata": {
    "scrolled": false
   },
   "outputs": [
    {
     "name": "stdout",
     "output_type": "stream",
     "text": [
      "_________________________________________________________________\n",
      "Layer (type)                 Output Shape              Param #   \n",
      "=================================================================\n",
      "conv2d_6 (Conv2D)            (None, 493, 22, 20)       420       \n",
      "_________________________________________________________________\n",
      "conv2d_7 (Conv2D)            (None, 479, 3, 20)        120020    \n",
      "_________________________________________________________________\n",
      "batch_normalization_5 (Batch (None, 479, 3, 20)        80        \n",
      "_________________________________________________________________\n",
      "max_pooling2d_5 (MaxPooling2 (None, 159, 3, 20)        0         \n",
      "_________________________________________________________________\n",
      "permute_4 (Permute)          (None, 159, 20, 3)        0         \n",
      "_________________________________________________________________\n",
      "dropout_4 (Dropout)          (None, 159, 20, 3)        0         \n",
      "_________________________________________________________________\n",
      "conv2d_8 (Conv2D)            (None, 150, 1, 40)        24040     \n",
      "_________________________________________________________________\n",
      "batch_normalization_6 (Batch (None, 150, 1, 40)        160       \n",
      "_________________________________________________________________\n",
      "max_pooling2d_6 (MaxPooling2 (None, 50, 1, 40)         0         \n",
      "_________________________________________________________________\n",
      "permute_5 (Permute)          (None, 50, 40, 1)         0         \n",
      "_________________________________________________________________\n",
      "dropout_5 (Dropout)          (None, 50, 40, 1)         0         \n",
      "_________________________________________________________________\n",
      "conv2d_9 (Conv2D)            (None, 41, 1, 80)         32080     \n",
      "_________________________________________________________________\n",
      "batch_normalization_7 (Batch (None, 41, 1, 80)         320       \n",
      "_________________________________________________________________\n",
      "max_pooling2d_7 (MaxPooling2 (None, 13, 1, 80)         0         \n",
      "_________________________________________________________________\n",
      "permute_6 (Permute)          (None, 13, 80, 1)         0         \n",
      "_________________________________________________________________\n",
      "dropout_6 (Dropout)          (None, 13, 80, 1)         0         \n",
      "_________________________________________________________________\n",
      "conv2d_10 (Conv2D)           (None, 4, 1, 160)         128160    \n",
      "_________________________________________________________________\n",
      "batch_normalization_8 (Batch (None, 4, 1, 160)         640       \n",
      "_________________________________________________________________\n",
      "max_pooling2d_8 (MaxPooling2 (None, 1, 1, 160)         0         \n",
      "_________________________________________________________________\n",
      "reshape_2 (Reshape)          (None, 160, 1)            0         \n",
      "_________________________________________________________________\n",
      "flatten_2 (Flatten)          (None, 160)               0         \n",
      "_________________________________________________________________\n",
      "dense_2 (Dense)              (None, 4)                 644       \n",
      "=================================================================\n",
      "Total params: 306,564\n",
      "Trainable params: 305,964\n",
      "Non-trainable params: 600\n",
      "_________________________________________________________________\n",
      "Train on 15810 samples, validate on 5270 samples\n",
      "Epoch 1/30\n",
      "15810/15810 [==============================] - 26s 2ms/step - loss: 1.4373 - acc: 0.3077 - val_loss: 1.3260 - val_acc: 0.3789\n",
      "Epoch 2/30\n",
      "15810/15810 [==============================] - 25s 2ms/step - loss: 1.3414 - acc: 0.3515 - val_loss: 1.2724 - val_acc: 0.3937\n",
      "Epoch 3/30\n",
      "15810/15810 [==============================] - 25s 2ms/step - loss: 1.3091 - acc: 0.3687 - val_loss: 1.3429 - val_acc: 0.3748\n",
      "Epoch 4/30\n",
      "15810/15810 [==============================] - 26s 2ms/step - loss: 1.2839 - acc: 0.3922 - val_loss: 1.3189 - val_acc: 0.4002\n",
      "Epoch 5/30\n",
      "15810/15810 [==============================] - 25s 2ms/step - loss: 1.2587 - acc: 0.4049 - val_loss: 1.1756 - val_acc: 0.4552\n",
      "Epoch 6/30\n",
      "15810/15810 [==============================] - 25s 2ms/step - loss: 1.2403 - acc: 0.4245 - val_loss: 1.1844 - val_acc: 0.4738\n",
      "Epoch 7/30\n",
      "15810/15810 [==============================] - 25s 2ms/step - loss: 1.2323 - acc: 0.4276 - val_loss: 1.1996 - val_acc: 0.4672\n",
      "Epoch 8/30\n",
      "15810/15810 [==============================] - 26s 2ms/step - loss: 1.2124 - acc: 0.4450 - val_loss: 1.2538 - val_acc: 0.4423\n",
      "Epoch 9/30\n",
      "15810/15810 [==============================] - 26s 2ms/step - loss: 1.2049 - acc: 0.4452 - val_loss: 1.3078 - val_acc: 0.4087\n",
      "Epoch 10/30\n",
      "15810/15810 [==============================] - 25s 2ms/step - loss: 1.1864 - acc: 0.4584 - val_loss: 1.1783 - val_acc: 0.4949\n",
      "Epoch 11/30\n",
      "15810/15810 [==============================] - 26s 2ms/step - loss: 1.1747 - acc: 0.4668 - val_loss: 1.2321 - val_acc: 0.4605\n",
      "Epoch 12/30\n",
      "15810/15810 [==============================] - 26s 2ms/step - loss: 1.1666 - acc: 0.4685 - val_loss: 1.2442 - val_acc: 0.4571\n",
      "Epoch 13/30\n",
      "15810/15810 [==============================] - 25s 2ms/step - loss: 1.1575 - acc: 0.4816 - val_loss: 1.2672 - val_acc: 0.4658\n",
      "Epoch 14/30\n",
      "15810/15810 [==============================] - 25s 2ms/step - loss: 1.1468 - acc: 0.4787 - val_loss: 1.2992 - val_acc: 0.4474\n",
      "Epoch 15/30\n",
      "15810/15810 [==============================] - 25s 2ms/step - loss: 1.1398 - acc: 0.4885 - val_loss: 1.2213 - val_acc: 0.4846\n",
      "Epoch 16/30\n",
      "15810/15810 [==============================] - 25s 2ms/step - loss: 1.1266 - acc: 0.4927 - val_loss: 1.2506 - val_acc: 0.4808\n",
      "Epoch 17/30\n",
      "15810/15810 [==============================] - 25s 2ms/step - loss: 1.1253 - acc: 0.4948 - val_loss: 1.3409 - val_acc: 0.4565\n",
      "Epoch 18/30\n",
      "15810/15810 [==============================] - 25s 2ms/step - loss: 1.1193 - acc: 0.4968 - val_loss: 1.2609 - val_acc: 0.4738\n",
      "Epoch 19/30\n",
      "15810/15810 [==============================] - 25s 2ms/step - loss: 1.1099 - acc: 0.4996 - val_loss: 1.4279 - val_acc: 0.4486\n",
      "Epoch 20/30\n",
      "15810/15810 [==============================] - 26s 2ms/step - loss: 1.1066 - acc: 0.5065 - val_loss: 1.2861 - val_acc: 0.4664\n",
      "Epoch 21/30\n",
      "15810/15810 [==============================] - 25s 2ms/step - loss: 1.0910 - acc: 0.5150 - val_loss: 1.3338 - val_acc: 0.4683\n",
      "Epoch 22/30\n",
      "15810/15810 [==============================] - 25s 2ms/step - loss: 1.0839 - acc: 0.5197 - val_loss: 1.2996 - val_acc: 0.4846\n",
      "Epoch 23/30\n",
      "15810/15810 [==============================] - 25s 2ms/step - loss: 1.0851 - acc: 0.5255 - val_loss: 1.3292 - val_acc: 0.4676\n",
      "Epoch 24/30\n",
      "15810/15810 [==============================] - 25s 2ms/step - loss: 1.0794 - acc: 0.5217 - val_loss: 1.2969 - val_acc: 0.4765\n",
      "Epoch 25/30\n",
      "15810/15810 [==============================] - 25s 2ms/step - loss: 1.0649 - acc: 0.5335 - val_loss: 1.5657 - val_acc: 0.4357\n",
      "Epoch 26/30\n",
      "15810/15810 [==============================] - 25s 2ms/step - loss: 1.0534 - acc: 0.5400 - val_loss: 1.2681 - val_acc: 0.4776\n",
      "Epoch 27/30\n",
      "15810/15810 [==============================] - 26s 2ms/step - loss: 1.0660 - acc: 0.5337 - val_loss: 1.2880 - val_acc: 0.4628\n",
      "Epoch 28/30\n",
      "15810/15810 [==============================] - 25s 2ms/step - loss: 1.0485 - acc: 0.5431 - val_loss: 1.3881 - val_acc: 0.4770\n",
      "Epoch 29/30\n",
      "15810/15810 [==============================] - 25s 2ms/step - loss: 1.0400 - acc: 0.5481 - val_loss: 1.3546 - val_acc: 0.4748\n",
      "Epoch 30/30\n",
      "15810/15810 [==============================] - 25s 2ms/step - loss: 1.0341 - acc: 0.5544 - val_loss: 1.3725 - val_acc: 0.4725\n"
     ]
    }
   ],
   "source": [
    "num_filters = 20 #15 performs similar\n",
    "model = Sequential()\n",
    "model.add(Conv2D(num_filters, kernel_size=(num_filters,1), data_format='channels_last', input_shape=(traindata2d.shape[1], traindata2d.shape[2], traindata2d.shape[3]), kernel_initializer='glorot_normal', bias_initializer='glorot_normal'))  \n",
    "model.add(Conv2D(num_filters, kernel_size=(15,num_filters), activation='relu', kernel_initializer='glorot_normal', bias_initializer='glorot_normal') ) \n",
    "model.add(BatchNormalization())\n",
    "model.add(MaxPooling2D(pool_size=(3,1)))\n",
    "model.add(Permute((1,3,2)))\n",
    "model.add(Dropout(0.5))\n",
    "\n",
    "model.add(Conv2D(num_filters*2, kernel_size=(10,num_filters), activation='relu', kernel_initializer='glorot_normal', bias_initializer='glorot_normal')) \n",
    "model.add(BatchNormalization())\n",
    "model.add(MaxPooling2D(pool_size=(3,1)))\n",
    "model.add(Permute((1,3,2)))\n",
    "model.add(Dropout(0.5))\n",
    "\n",
    "model.add(Conv2D(num_filters*4, kernel_size=(10,num_filters*2), activation='relu', kernel_initializer='glorot_normal', bias_initializer='glorot_normal')) \n",
    "model.add(BatchNormalization())\n",
    "model.add(MaxPooling2D(pool_size=(3,1)))\n",
    "model.add(Permute((1,3,2)))\n",
    "model.add(Dropout(0.5))\n",
    "\n",
    "model.add(Conv2D(num_filters*8, kernel_size=(10,num_filters*4), activation='relu', kernel_initializer='glorot_normal', bias_initializer='glorot_normal')) \n",
    "model.add(BatchNormalization())\n",
    "model.add(MaxPooling2D(pool_size=(3,1)))\n",
    "model.add(Reshape((num_filters*8,1)))\n",
    "#model.add(LSTM(32, return_sequences=True))\n",
    "\n",
    "model.add(Flatten())\n",
    "model.add(Dense(4, activation='softmax', kernel_initializer='glorot_normal', bias_initializer='glorot_normal'))\n",
    "model.compile(optimizer = 'rmsprop',\n",
    "             loss = 'categorical_crossentropy',\n",
    "             metrics=['accuracy'])\n",
    "model.summary()\n",
    "hist = model.fit(traindata2d,train_labels_sliced,epochs=30,validation_split=0.25,batch_size=16)\n",
    "#model.test_on_batch(test_data, test_labels)\n"
   ]
  },
  {
   "cell_type": "code",
   "execution_count": 34,
   "metadata": {},
   "outputs": [],
   "source": [
    "# Modify test data to run model on another subject\n",
    "_, test_data_orig, _, test_labels_orig = prepare_data(file_path, \n",
    "                                            num_test_samples=50, \n",
    "                                            verbose=False, \n",
    "                                            return_all=False,\n",
    "                                            num_files=9)\n"
   ]
  },
  {
   "cell_type": "code",
   "execution_count": 39,
   "metadata": {
    "scrolled": true
   },
   "outputs": [
    {
     "name": "stdout",
     "output_type": "stream",
     "text": [
      "9\n",
      "9\n"
     ]
    }
   ],
   "source": [
    "test_data_all = []\n",
    "test_labels_all = []\n",
    "for n in range(1,10):\n",
    "    test_data = test_data_orig['A0{}T'.format(n)]\n",
    "    test_labels = test_labels_orig['A0{}T'.format(n)]\n",
    "    #print test_data.shape\n",
    "    #print test_labels.shape\n",
    "\n",
    "    #assist numerical stability\n",
    "    test_data = test_data*(1e6)\n",
    "    test_data = test_data.swapaxes(1,2)\n",
    "    for i,a in enumerate(test_data):\n",
    "        test_data[i] = bandpass_cnt(a, 4, 38, 250, filt_order=3)    \n",
    "    #print test_data.shape\n",
    "\n",
    "    #standardize\n",
    "    for i,a in enumerate(test_data):\n",
    "        test_data[i] = exponential_running_standardize(a, factor_new=0.001, init_block_size=1000, eps=1e-4)\n",
    "\n",
    "    test_data = test_data.swapaxes(1,2) \n",
    "    test_data_sliced, test_labels_sliced = create_window_data(test_data, test_labels, windows=10)\n",
    "\n",
    "    test_data_sliced = test_data_sliced[:500,:]\n",
    "    test_labels_sliced = test_labels_sliced[:500,:]\n",
    "    #print test_data_sliced.shape\n",
    "    #print test_labels_sliced.shape \n",
    "\n",
    "    testdata2d = test_data_sliced.reshape(test_data_sliced.shape[0], test_data_sliced.shape[2], test_data_sliced.shape[1], 1)\n",
    "    #print testdata2d.shape\n",
    "    \n",
    "    test_data_all.append(testdata2d)\n",
    "    test_labels_all.append(test_labels_sliced)\n",
    "    \n",
    "print(len(test_data_all))\n",
    "print(len(test_labels_all))\n",
    "    "
   ]
  },
  {
   "cell_type": "code",
   "execution_count": 42,
   "metadata": {
    "scrolled": true
   },
   "outputs": [
    {
     "name": "stdout",
     "output_type": "stream",
     "text": [
      "500/500 [==============================] - 0s 392us/step\n",
      "Test Score: [0.83808598780632015, 0.64200000000000002]\n",
      "500/500 [==============================] - 0s 409us/step\n",
      "Test Score: [1.3406278429031373, 0.32200000000000001]\n",
      "500/500 [==============================] - 0s 410us/step\n",
      "Test Score: [1.0692421784400941, 0.59399999999999997]\n",
      "500/500 [==============================] - ETA:  - 0s 400us/step\n",
      "Test Score: [1.2630494418144227, 0.44400000000000001]\n",
      "500/500 [==============================] - 0s 403us/step\n",
      "Test Score: [1.3969016666412353, 0.31]\n",
      "500/500 [==============================] - 0s 419us/step\n",
      "Test Score: [1.4933062496185303, 0.37]\n",
      "500/500 [==============================] - 0s 412us/step\n",
      "Test Score: [1.1766567735671998, 0.48799999999999999]\n",
      "500/500 [==============================] - 0s 409us/step\n",
      "Test Score: [1.6495685241222382, 0.42399999999999999]\n",
      "500/500 [==============================] - 0s 416us/step\n",
      "Test Score: [1.7177198853492737, 0.376]\n"
     ]
    }
   ],
   "source": [
    "for n in range(0,9):\n",
    "    testdata2d = test_data_all[n]\n",
    "    test_labels_sliced = test_labels_all[n]\n",
    "    test_score = model.evaluate(testdata2d, test_labels_sliced, batch_size=16)\n",
    "    print \"Test Score: {}\".format(test_score)\n",
    "    #plot_hist([hist.history['acc'],hist.history['val_acc']],['Training Accuracy','Val Accuracy'],title='Accuracies')\n",
    "    #plot_hist([hist.history['loss'],hist.history['val_loss']],['Training Loss','Val Loss'],title='Loss')\n",
    "\n",
    "    #test_predict = model.predict(testdata2d, batch_size=16)\n",
    "    #cm = confusion_matrix(np.argmax(test_labels_sliced,axis=1),np.argmax(test_predict,axis=1))\n",
    "    #unique, count = np.unique(np.argmax(test_labels_sliced,axis=1),return_counts=True)\n",
    "    #print count \n",
    "    #plt.figure(0)\n",
    "    #plot_confusion_matrix(cm, classes=[\"1\",\"2\",\"3\",\"4\"])"
   ]
  },
  {
   "cell_type": "code",
   "execution_count": 43,
   "metadata": {},
   "outputs": [
    {
     "name": "stdout",
     "output_type": "stream",
     "text": [
      "(21080, 512, 22, 1)\n"
     ]
    }
   ],
   "source": [
    "print traindata2d.shape"
   ]
  },
  {
   "cell_type": "code",
   "execution_count": null,
   "metadata": {},
   "outputs": [],
   "source": []
  }
 ],
 "metadata": {
  "kernelspec": {
   "display_name": "Python 2",
   "language": "python",
   "name": "python2"
  },
  "language_info": {
   "codemirror_mode": {
    "name": "ipython",
    "version": 2
   },
   "file_extension": ".py",
   "mimetype": "text/x-python",
   "name": "python",
   "nbconvert_exporter": "python",
   "pygments_lexer": "ipython2",
   "version": "2.7.12"
  }
 },
 "nbformat": 4,
 "nbformat_minor": 2
}
